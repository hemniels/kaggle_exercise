{
 "cells": [
  {
   "cell_type": "markdown",
   "id": "b0c3c346",
   "metadata": {
    "papermill": {
     "duration": 0.006169,
     "end_time": "2023-02-28T16:16:14.892361",
     "exception": false,
     "start_time": "2023-02-28T16:16:14.886192",
     "status": "completed"
    },
    "tags": []
   },
   "source": [
    "**This notebook is an exercise in the [Introduction to Machine Learning](https://www.kaggle.com/learn/intro-to-machine-learning) course.  You can reference the tutorial at [this link](https://www.kaggle.com/dansbecker/your-first-machine-learning-model).**\n",
    "\n",
    "---\n"
   ]
  },
  {
   "cell_type": "markdown",
   "id": "7307d3f9",
   "metadata": {
    "papermill": {
     "duration": 0.004816,
     "end_time": "2023-02-28T16:16:14.902605",
     "exception": false,
     "start_time": "2023-02-28T16:16:14.897789",
     "status": "completed"
    },
    "tags": []
   },
   "source": [
    "## Recap\n",
    "So far, you have loaded your data and reviewed it with the following code. Run this cell to set up your coding environment where the previous step left off."
   ]
  },
  {
   "cell_type": "code",
   "execution_count": 1,
   "id": "ece62207",
   "metadata": {
    "execution": {
     "iopub.execute_input": "2023-02-28T16:16:14.915410Z",
     "iopub.status.busy": "2023-02-28T16:16:14.914608Z",
     "iopub.status.idle": "2023-02-28T16:16:16.180239Z",
     "shell.execute_reply": "2023-02-28T16:16:16.178859Z"
    },
    "papermill": {
     "duration": 1.275273,
     "end_time": "2023-02-28T16:16:16.183118",
     "exception": false,
     "start_time": "2023-02-28T16:16:14.907845",
     "status": "completed"
    },
    "tags": []
   },
   "outputs": [
    {
     "name": "stdout",
     "output_type": "stream",
     "text": [
      "Setup Complete\n"
     ]
    }
   ],
   "source": [
    "# Code you have previously used to load data\n",
    "import pandas as pd\n",
    "\n",
    "# Path of the file to read\n",
    "iowa_file_path = '../input/home-data-for-ml-course/train.csv'\n",
    "\n",
    "home_data = pd.read_csv(iowa_file_path)\n",
    "\n",
    "# Set up code checking\n",
    "from learntools.core import binder\n",
    "binder.bind(globals())\n",
    "from learntools.machine_learning.ex3 import *\n",
    "\n",
    "print(\"Setup Complete\")"
   ]
  },
  {
   "cell_type": "markdown",
   "id": "56e27df2",
   "metadata": {
    "papermill": {
     "duration": 0.005022,
     "end_time": "2023-02-28T16:16:16.193659",
     "exception": false,
     "start_time": "2023-02-28T16:16:16.188637",
     "status": "completed"
    },
    "tags": []
   },
   "source": [
    "# Exercises\n",
    "\n",
    "## Step 1: Specify Prediction Target\n",
    "Select the target variable, which corresponds to the sales price. Save this to a new variable called `y`. You'll need to print a list of the columns to find the name of the column you need.\n"
   ]
  },
  {
   "cell_type": "code",
   "execution_count": 2,
   "id": "137ed17e",
   "metadata": {
    "execution": {
     "iopub.execute_input": "2023-02-28T16:16:16.206465Z",
     "iopub.status.busy": "2023-02-28T16:16:16.205325Z",
     "iopub.status.idle": "2023-02-28T16:16:16.213422Z",
     "shell.execute_reply": "2023-02-28T16:16:16.212529Z"
    },
    "papermill": {
     "duration": 0.016872,
     "end_time": "2023-02-28T16:16:16.215717",
     "exception": false,
     "start_time": "2023-02-28T16:16:16.198845",
     "status": "completed"
    },
    "tags": []
   },
   "outputs": [
    {
     "data": {
      "text/plain": [
       "Index(['Id', 'MSSubClass', 'MSZoning', 'LotFrontage', 'LotArea', 'Street',\n",
       "       'Alley', 'LotShape', 'LandContour', 'Utilities', 'LotConfig',\n",
       "       'LandSlope', 'Neighborhood', 'Condition1', 'Condition2', 'BldgType',\n",
       "       'HouseStyle', 'OverallQual', 'OverallCond', 'YearBuilt', 'YearRemodAdd',\n",
       "       'RoofStyle', 'RoofMatl', 'Exterior1st', 'Exterior2nd', 'MasVnrType',\n",
       "       'MasVnrArea', 'ExterQual', 'ExterCond', 'Foundation', 'BsmtQual',\n",
       "       'BsmtCond', 'BsmtExposure', 'BsmtFinType1', 'BsmtFinSF1',\n",
       "       'BsmtFinType2', 'BsmtFinSF2', 'BsmtUnfSF', 'TotalBsmtSF', 'Heating',\n",
       "       'HeatingQC', 'CentralAir', 'Electrical', '1stFlrSF', '2ndFlrSF',\n",
       "       'LowQualFinSF', 'GrLivArea', 'BsmtFullBath', 'BsmtHalfBath', 'FullBath',\n",
       "       'HalfBath', 'BedroomAbvGr', 'KitchenAbvGr', 'KitchenQual',\n",
       "       'TotRmsAbvGrd', 'Functional', 'Fireplaces', 'FireplaceQu', 'GarageType',\n",
       "       'GarageYrBlt', 'GarageFinish', 'GarageCars', 'GarageArea', 'GarageQual',\n",
       "       'GarageCond', 'PavedDrive', 'WoodDeckSF', 'OpenPorchSF',\n",
       "       'EnclosedPorch', '3SsnPorch', 'ScreenPorch', 'PoolArea', 'PoolQC',\n",
       "       'Fence', 'MiscFeature', 'MiscVal', 'MoSold', 'YrSold', 'SaleType',\n",
       "       'SaleCondition', 'SalePrice'],\n",
       "      dtype='object')"
      ]
     },
     "execution_count": 2,
     "metadata": {},
     "output_type": "execute_result"
    }
   ],
   "source": [
    "# print the list of columns in the dataset to find the name of the prediction target\n",
    "home_data.columns"
   ]
  },
  {
   "cell_type": "code",
   "execution_count": 3,
   "id": "390430e2",
   "metadata": {
    "execution": {
     "iopub.execute_input": "2023-02-28T16:16:16.228949Z",
     "iopub.status.busy": "2023-02-28T16:16:16.228191Z",
     "iopub.status.idle": "2023-02-28T16:16:16.240631Z",
     "shell.execute_reply": "2023-02-28T16:16:16.239401Z"
    },
    "papermill": {
     "duration": 0.022233,
     "end_time": "2023-02-28T16:16:16.243415",
     "exception": false,
     "start_time": "2023-02-28T16:16:16.221182",
     "status": "completed"
    },
    "tags": []
   },
   "outputs": [
    {
     "data": {
      "text/plain": [
       "<bound method ProblemView.check of <learntools.core.problem_view.ProblemView object at 0x7f0194742bd0>>"
      ]
     },
     "execution_count": 3,
     "metadata": {},
     "output_type": "execute_result"
    }
   ],
   "source": [
    "y = home_data.SalePrice\n",
    "\n",
    "# Check your answer\n",
    "step_1.check"
   ]
  },
  {
   "cell_type": "code",
   "execution_count": 4,
   "id": "b0b0a781",
   "metadata": {
    "execution": {
     "iopub.execute_input": "2023-02-28T16:16:16.256416Z",
     "iopub.status.busy": "2023-02-28T16:16:16.255983Z",
     "iopub.status.idle": "2023-02-28T16:16:16.261053Z",
     "shell.execute_reply": "2023-02-28T16:16:16.259607Z"
    },
    "papermill": {
     "duration": 0.014713,
     "end_time": "2023-02-28T16:16:16.263743",
     "exception": false,
     "start_time": "2023-02-28T16:16:16.249030",
     "status": "completed"
    },
    "tags": []
   },
   "outputs": [],
   "source": [
    "# The lines below will show you a hint or the solution.\n",
    "# step_1.hint() \n",
    "# step_1.solution()"
   ]
  },
  {
   "cell_type": "markdown",
   "id": "43263205",
   "metadata": {
    "papermill": {
     "duration": 0.005251,
     "end_time": "2023-02-28T16:16:16.274531",
     "exception": false,
     "start_time": "2023-02-28T16:16:16.269280",
     "status": "completed"
    },
    "tags": []
   },
   "source": [
    "## Step 2: Create X\n",
    "Now you will create a DataFrame called `X` holding the predictive features.\n",
    "\n",
    "Since you want only some columns from the original data, you'll first create a list with the names of the columns you want in `X`.\n",
    "\n",
    "You'll use just the following columns in the list (you can copy and paste the whole list to save some typing, though you'll still need to add quotes):\n",
    "  * LotArea\n",
    "  * YearBuilt\n",
    "  * 1stFlrSF\n",
    "  * 2ndFlrSF\n",
    "  * FullBath\n",
    "  * BedroomAbvGr\n",
    "  * TotRmsAbvGrd\n",
    "\n",
    "After you've created that list of features, use it to create the DataFrame that you'll use to fit the model."
   ]
  },
  {
   "cell_type": "code",
   "execution_count": 5,
   "id": "dfbaa584",
   "metadata": {
    "execution": {
     "iopub.execute_input": "2023-02-28T16:16:16.287447Z",
     "iopub.status.busy": "2023-02-28T16:16:16.287016Z",
     "iopub.status.idle": "2023-02-28T16:16:16.301173Z",
     "shell.execute_reply": "2023-02-28T16:16:16.300070Z"
    },
    "papermill": {
     "duration": 0.023695,
     "end_time": "2023-02-28T16:16:16.303677",
     "exception": false,
     "start_time": "2023-02-28T16:16:16.279982",
     "status": "completed"
    },
    "tags": []
   },
   "outputs": [
    {
     "data": {
      "application/javascript": [
       "parent.postMessage({\"jupyterEvent\": \"custom.exercise_interaction\", \"data\": {\"outcomeType\": 1, \"valueTowardsCompletion\": 0.25, \"interactionType\": 1, \"questionType\": 2, \"questionId\": \"2_SelectPredictionData\", \"learnToolsVersion\": \"0.3.4\", \"failureMessage\": \"\", \"exceptionClass\": \"\", \"trace\": \"\"}}, \"*\")"
      ],
      "text/plain": [
       "<IPython.core.display.Javascript object>"
      ]
     },
     "metadata": {},
     "output_type": "display_data"
    },
    {
     "data": {
      "text/markdown": [
       "<span style=\"color:#33cc33\">Correct</span>"
      ],
      "text/plain": [
       "Correct"
      ]
     },
     "metadata": {},
     "output_type": "display_data"
    }
   ],
   "source": [
    "# Create the list of features below\n",
    "feature_names = ['LotArea','YearBuilt','1stFlrSF','2ndFlrSF','FullBath','BedroomAbvGr','TotRmsAbvGrd']\n",
    "\n",
    "# Select data corresponding to features in feature_names\n",
    "X = home_data[feature_names]\n",
    "\n",
    "# Check your answer\n",
    "step_2.check()"
   ]
  },
  {
   "cell_type": "code",
   "execution_count": 6,
   "id": "c49f6dda",
   "metadata": {
    "collapsed": true,
    "execution": {
     "iopub.execute_input": "2023-02-28T16:16:16.317009Z",
     "iopub.status.busy": "2023-02-28T16:16:16.316609Z",
     "iopub.status.idle": "2023-02-28T16:16:16.321276Z",
     "shell.execute_reply": "2023-02-28T16:16:16.320143Z"
    },
    "jupyter": {
     "outputs_hidden": true
    },
    "papermill": {
     "duration": 0.014371,
     "end_time": "2023-02-28T16:16:16.323741",
     "exception": false,
     "start_time": "2023-02-28T16:16:16.309370",
     "status": "completed"
    },
    "tags": []
   },
   "outputs": [],
   "source": [
    "# step_2.hint()\n",
    "# step_2.solution()"
   ]
  },
  {
   "cell_type": "markdown",
   "id": "0772440c",
   "metadata": {
    "papermill": {
     "duration": 0.00561,
     "end_time": "2023-02-28T16:16:16.335210",
     "exception": false,
     "start_time": "2023-02-28T16:16:16.329600",
     "status": "completed"
    },
    "tags": []
   },
   "source": [
    "## Review Data\n",
    "Before building a model, take a quick look at **X** to verify it looks sensible"
   ]
  },
  {
   "cell_type": "code",
   "execution_count": 7,
   "id": "999b5d83",
   "metadata": {
    "execution": {
     "iopub.execute_input": "2023-02-28T16:16:16.350477Z",
     "iopub.status.busy": "2023-02-28T16:16:16.349087Z",
     "iopub.status.idle": "2023-02-28T16:16:16.364395Z",
     "shell.execute_reply": "2023-02-28T16:16:16.362608Z"
    },
    "papermill": {
     "duration": 0.024952,
     "end_time": "2023-02-28T16:16:16.366944",
     "exception": false,
     "start_time": "2023-02-28T16:16:16.341992",
     "status": "completed"
    },
    "tags": []
   },
   "outputs": [
    {
     "name": "stdout",
     "output_type": "stream",
     "text": [
      "      LotArea  YearBuilt  1stFlrSF  2ndFlrSF  FullBath  BedroomAbvGr  \\\n",
      "0        8450       2003       856       854         2             3   \n",
      "1        9600       1976      1262         0         2             3   \n",
      "2       11250       2001       920       866         2             3   \n",
      "3        9550       1915       961       756         1             3   \n",
      "4       14260       2000      1145      1053         2             4   \n",
      "...       ...        ...       ...       ...       ...           ...   \n",
      "1455     7917       1999       953       694         2             3   \n",
      "1456    13175       1978      2073         0         2             3   \n",
      "1457     9042       1941      1188      1152         2             4   \n",
      "1458     9717       1950      1078         0         1             2   \n",
      "1459     9937       1965      1256         0         1             3   \n",
      "\n",
      "      TotRmsAbvGrd  \n",
      "0                8  \n",
      "1                6  \n",
      "2                6  \n",
      "3                7  \n",
      "4                9  \n",
      "...            ...  \n",
      "1455             7  \n",
      "1456             7  \n",
      "1457             9  \n",
      "1458             5  \n",
      "1459             6  \n",
      "\n",
      "[1460 rows x 7 columns]\n"
     ]
    }
   ],
   "source": [
    "# Review data\n",
    "# print description or statistics from X\n",
    "print(X)\n",
    "\n",
    "# print the top few lines\n",
    "#print(_)"
   ]
  },
  {
   "cell_type": "markdown",
   "id": "66077179",
   "metadata": {
    "papermill": {
     "duration": 0.006216,
     "end_time": "2023-02-28T16:16:16.379168",
     "exception": false,
     "start_time": "2023-02-28T16:16:16.372952",
     "status": "completed"
    },
    "tags": []
   },
   "source": [
    "## Step 3: Specify and Fit Model\n",
    "Create a `DecisionTreeRegressor` and save it iowa_model. Ensure you've done the relevant import from sklearn to run this command.\n",
    "\n",
    "Then fit the model you just created using the data in `X` and `y` that you saved above."
   ]
  },
  {
   "cell_type": "code",
   "execution_count": 8,
   "id": "ed3a1510",
   "metadata": {
    "execution": {
     "iopub.execute_input": "2023-02-28T16:16:16.393446Z",
     "iopub.status.busy": "2023-02-28T16:16:16.392710Z",
     "iopub.status.idle": "2023-02-28T16:16:16.411559Z",
     "shell.execute_reply": "2023-02-28T16:16:16.410710Z"
    },
    "papermill": {
     "duration": 0.028472,
     "end_time": "2023-02-28T16:16:16.413733",
     "exception": false,
     "start_time": "2023-02-28T16:16:16.385261",
     "status": "completed"
    },
    "tags": []
   },
   "outputs": [
    {
     "data": {
      "application/javascript": [
       "parent.postMessage({\"jupyterEvent\": \"custom.exercise_interaction\", \"data\": {\"outcomeType\": 1, \"valueTowardsCompletion\": 0.25, \"interactionType\": 1, \"questionType\": 2, \"questionId\": \"3_CreateModel\", \"learnToolsVersion\": \"0.3.4\", \"failureMessage\": \"\", \"exceptionClass\": \"\", \"trace\": \"\"}}, \"*\")"
      ],
      "text/plain": [
       "<IPython.core.display.Javascript object>"
      ]
     },
     "metadata": {},
     "output_type": "display_data"
    },
    {
     "data": {
      "text/markdown": [
       "<span style=\"color:#33cc33\">Correct</span>"
      ],
      "text/plain": [
       "Correct"
      ]
     },
     "metadata": {},
     "output_type": "display_data"
    }
   ],
   "source": [
    "from sklearn.tree import DecisionTreeRegressor\n",
    "#specify the model. \n",
    "#For model reproducibility, set a numeric value for random_state when specifying the model\n",
    "iowa_model = DecisionTreeRegressor(random_state=1)\n",
    "\n",
    "# Fit the model\n",
    "iowa_model.fit(X, y)\n",
    "\n",
    "# Check your answer\n",
    "step_3.check()"
   ]
  },
  {
   "cell_type": "code",
   "execution_count": 9,
   "id": "7bac1bce",
   "metadata": {
    "collapsed": true,
    "execution": {
     "iopub.execute_input": "2023-02-28T16:16:16.427899Z",
     "iopub.status.busy": "2023-02-28T16:16:16.427259Z",
     "iopub.status.idle": "2023-02-28T16:16:16.431535Z",
     "shell.execute_reply": "2023-02-28T16:16:16.430334Z"
    },
    "jupyter": {
     "outputs_hidden": true
    },
    "papermill": {
     "duration": 0.014322,
     "end_time": "2023-02-28T16:16:16.434032",
     "exception": false,
     "start_time": "2023-02-28T16:16:16.419710",
     "status": "completed"
    },
    "tags": []
   },
   "outputs": [],
   "source": [
    "# step_3.hint()\n",
    "# step_3.solution()"
   ]
  },
  {
   "cell_type": "markdown",
   "id": "6e30ba9b",
   "metadata": {
    "papermill": {
     "duration": 0.005909,
     "end_time": "2023-02-28T16:16:16.446127",
     "exception": false,
     "start_time": "2023-02-28T16:16:16.440218",
     "status": "completed"
    },
    "tags": []
   },
   "source": [
    "## Step 4: Make Predictions\n",
    "Make predictions with the model's `predict` command using `X` as the data. Save the results to a variable called `predictions`."
   ]
  },
  {
   "cell_type": "code",
   "execution_count": 10,
   "id": "28128f5e",
   "metadata": {
    "execution": {
     "iopub.execute_input": "2023-02-28T16:16:16.460527Z",
     "iopub.status.busy": "2023-02-28T16:16:16.460068Z",
     "iopub.status.idle": "2023-02-28T16:16:16.477106Z",
     "shell.execute_reply": "2023-02-28T16:16:16.475854Z"
    },
    "papermill": {
     "duration": 0.027024,
     "end_time": "2023-02-28T16:16:16.479395",
     "exception": false,
     "start_time": "2023-02-28T16:16:16.452371",
     "status": "completed"
    },
    "tags": []
   },
   "outputs": [
    {
     "name": "stdout",
     "output_type": "stream",
     "text": [
      "[208500. 181500. 223500. ... 266500. 142125. 147500.]\n"
     ]
    },
    {
     "data": {
      "application/javascript": [
       "parent.postMessage({\"jupyterEvent\": \"custom.exercise_interaction\", \"data\": {\"outcomeType\": 1, \"valueTowardsCompletion\": 0.25, \"interactionType\": 1, \"questionType\": 2, \"questionId\": \"4_MakePredictions\", \"learnToolsVersion\": \"0.3.4\", \"failureMessage\": \"\", \"exceptionClass\": \"\", \"trace\": \"\"}}, \"*\")"
      ],
      "text/plain": [
       "<IPython.core.display.Javascript object>"
      ]
     },
     "metadata": {},
     "output_type": "display_data"
    },
    {
     "data": {
      "text/markdown": [
       "<span style=\"color:#33cc33\">Correct</span>"
      ],
      "text/plain": [
       "Correct"
      ]
     },
     "metadata": {},
     "output_type": "display_data"
    }
   ],
   "source": [
    "predictions = iowa_model.predict(X)\n",
    "print(predictions)\n",
    "\n",
    "# Check your answer\n",
    "step_4.check()"
   ]
  },
  {
   "cell_type": "code",
   "execution_count": 11,
   "id": "d18cec90",
   "metadata": {
    "collapsed": true,
    "execution": {
     "iopub.execute_input": "2023-02-28T16:16:16.494150Z",
     "iopub.status.busy": "2023-02-28T16:16:16.493701Z",
     "iopub.status.idle": "2023-02-28T16:16:16.499006Z",
     "shell.execute_reply": "2023-02-28T16:16:16.497736Z"
    },
    "jupyter": {
     "outputs_hidden": true
    },
    "papermill": {
     "duration": 0.015599,
     "end_time": "2023-02-28T16:16:16.501420",
     "exception": false,
     "start_time": "2023-02-28T16:16:16.485821",
     "status": "completed"
    },
    "tags": []
   },
   "outputs": [],
   "source": [
    "# step_4.hint()\n",
    "# step_4.solution()"
   ]
  },
  {
   "cell_type": "markdown",
   "id": "700e84a9",
   "metadata": {
    "papermill": {
     "duration": 0.006245,
     "end_time": "2023-02-28T16:16:16.514267",
     "exception": false,
     "start_time": "2023-02-28T16:16:16.508022",
     "status": "completed"
    },
    "tags": []
   },
   "source": [
    "## Think About Your Results\n",
    "\n",
    "Use the `head` method to compare the top few predictions to the actual home values (in `y`) for those same homes. Anything surprising?\n"
   ]
  },
  {
   "cell_type": "code",
   "execution_count": 12,
   "id": "c9f8f72b",
   "metadata": {
    "execution": {
     "iopub.execute_input": "2023-02-28T16:16:16.528931Z",
     "iopub.status.busy": "2023-02-28T16:16:16.528508Z",
     "iopub.status.idle": "2023-02-28T16:16:16.536981Z",
     "shell.execute_reply": "2023-02-28T16:16:16.535795Z"
    },
    "papermill": {
     "duration": 0.018467,
     "end_time": "2023-02-28T16:16:16.539224",
     "exception": false,
     "start_time": "2023-02-28T16:16:16.520757",
     "status": "completed"
    },
    "tags": []
   },
   "outputs": [
    {
     "name": "stdout",
     "output_type": "stream",
     "text": [
      "   LotArea  YearBuilt  1stFlrSF  2ndFlrSF  FullBath  BedroomAbvGr  \\\n",
      "0     8450       2003       856       854         2             3   \n",
      "1     9600       1976      1262         0         2             3   \n",
      "2    11250       2001       920       866         2             3   \n",
      "3     9550       1915       961       756         1             3   \n",
      "4    14260       2000      1145      1053         2             4   \n",
      "\n",
      "   TotRmsAbvGrd  \n",
      "0             8  \n",
      "1             6  \n",
      "2             6  \n",
      "3             7  \n",
      "4             9  \n"
     ]
    }
   ],
   "source": [
    "# You can write code in this cell\n",
    "head = X.head()\n",
    "print(head)\n"
   ]
  },
  {
   "cell_type": "markdown",
   "id": "2424dc88",
   "metadata": {
    "papermill": {
     "duration": 0.006188,
     "end_time": "2023-02-28T16:16:16.551945",
     "exception": false,
     "start_time": "2023-02-28T16:16:16.545757",
     "status": "completed"
    },
    "tags": []
   },
   "source": [
    "It's natural to ask how accurate the model's predictions will be and how you can improve that. That will be you're next step.\n",
    "\n",
    "# Keep Going\n",
    "\n",
    "You are ready for **[Model Validation](https://www.kaggle.com/dansbecker/model-validation).**\n"
   ]
  },
  {
   "cell_type": "markdown",
   "id": "f905f47a",
   "metadata": {
    "papermill": {
     "duration": 0.00627,
     "end_time": "2023-02-28T16:16:16.564778",
     "exception": false,
     "start_time": "2023-02-28T16:16:16.558508",
     "status": "completed"
    },
    "tags": []
   },
   "source": [
    "---\n",
    "\n",
    "\n",
    "\n",
    "\n",
    "*Have questions or comments? Visit the [course discussion forum](https://www.kaggle.com/learn/intro-to-machine-learning/discussion) to chat with other learners.*"
   ]
  }
 ],
 "metadata": {
  "kernelspec": {
   "display_name": "Python 3",
   "language": "python",
   "name": "python3"
  },
  "language_info": {
   "codemirror_mode": {
    "name": "ipython",
    "version": 3
   },
   "file_extension": ".py",
   "mimetype": "text/x-python",
   "name": "python",
   "nbconvert_exporter": "python",
   "pygments_lexer": "ipython3",
   "version": "3.7.12"
  },
  "papermill": {
   "default_parameters": {},
   "duration": 12.839866,
   "end_time": "2023-02-28T16:16:17.293809",
   "environment_variables": {},
   "exception": null,
   "input_path": "__notebook__.ipynb",
   "output_path": "__notebook__.ipynb",
   "parameters": {},
   "start_time": "2023-02-28T16:16:04.453943",
   "version": "2.4.0"
  }
 },
 "nbformat": 4,
 "nbformat_minor": 5
}
