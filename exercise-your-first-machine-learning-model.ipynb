{
 "cells": [
  {
   "cell_type": "markdown",
   "id": "a281efac",
   "metadata": {
    "papermill": {
     "duration": 0.006592,
     "end_time": "2023-03-06T01:28:39.358812",
     "exception": false,
     "start_time": "2023-03-06T01:28:39.352220",
     "status": "completed"
    },
    "tags": []
   },
   "source": [
    "**This notebook is an exercise in the [Introduction to Machine Learning](https://www.kaggle.com/learn/intro-to-machine-learning) course.  You can reference the tutorial at [this link](https://www.kaggle.com/dansbecker/your-first-machine-learning-model).**\n",
    "\n",
    "---\n"
   ]
  },
  {
   "cell_type": "markdown",
   "id": "7eadd087",
   "metadata": {
    "papermill": {
     "duration": 0.004994,
     "end_time": "2023-03-06T01:28:39.369313",
     "exception": false,
     "start_time": "2023-03-06T01:28:39.364319",
     "status": "completed"
    },
    "tags": []
   },
   "source": [
    "## Recap\n",
    "So far, you have loaded your data and reviewed it with the following code. Run this cell to set up your coding environment where the previous step left off."
   ]
  },
  {
   "cell_type": "code",
   "execution_count": 1,
   "id": "f2bae669",
   "metadata": {
    "execution": {
     "iopub.execute_input": "2023-03-06T01:28:39.382307Z",
     "iopub.status.busy": "2023-03-06T01:28:39.381890Z",
     "iopub.status.idle": "2023-03-06T01:28:41.105881Z",
     "shell.execute_reply": "2023-03-06T01:28:41.104444Z"
    },
    "papermill": {
     "duration": 1.734192,
     "end_time": "2023-03-06T01:28:41.108986",
     "exception": false,
     "start_time": "2023-03-06T01:28:39.374794",
     "status": "completed"
    },
    "tags": []
   },
   "outputs": [
    {
     "name": "stdout",
     "output_type": "stream",
     "text": [
      "Setup Complete\n"
     ]
    }
   ],
   "source": [
    "# Code you have previously used to load data\n",
    "import pandas as pd\n",
    "\n",
    "# Path of the file to read\n",
    "iowa_file_path = '../input/home-data-for-ml-course/train.csv'\n",
    "\n",
    "home_data = pd.read_csv(iowa_file_path)\n",
    "\n",
    "# Set up code checking\n",
    "from learntools.core import binder\n",
    "binder.bind(globals())\n",
    "from learntools.machine_learning.ex3 import *\n",
    "\n",
    "print(\"Setup Complete\")"
   ]
  },
  {
   "cell_type": "markdown",
   "id": "fc2994f2",
   "metadata": {
    "papermill": {
     "duration": 0.005056,
     "end_time": "2023-03-06T01:28:41.119463",
     "exception": false,
     "start_time": "2023-03-06T01:28:41.114407",
     "status": "completed"
    },
    "tags": []
   },
   "source": [
    "# Exercises\n",
    "\n",
    "## Step 1: Specify Prediction Target\n",
    "Select the target variable, which corresponds to the sales price. Save this to a new variable called `y`. You'll need to print a list of the columns to find the name of the column you need.\n"
   ]
  },
  {
   "cell_type": "code",
   "execution_count": 2,
   "id": "39172fae",
   "metadata": {
    "execution": {
     "iopub.execute_input": "2023-03-06T01:28:41.132277Z",
     "iopub.status.busy": "2023-03-06T01:28:41.131881Z",
     "iopub.status.idle": "2023-03-06T01:28:41.143142Z",
     "shell.execute_reply": "2023-03-06T01:28:41.141768Z"
    },
    "papermill": {
     "duration": 0.021112,
     "end_time": "2023-03-06T01:28:41.145916",
     "exception": false,
     "start_time": "2023-03-06T01:28:41.124804",
     "status": "completed"
    },
    "tags": []
   },
   "outputs": [
    {
     "data": {
      "text/plain": [
       "Index(['Id', 'MSSubClass', 'MSZoning', 'LotFrontage', 'LotArea', 'Street',\n",
       "       'Alley', 'LotShape', 'LandContour', 'Utilities', 'LotConfig',\n",
       "       'LandSlope', 'Neighborhood', 'Condition1', 'Condition2', 'BldgType',\n",
       "       'HouseStyle', 'OverallQual', 'OverallCond', 'YearBuilt', 'YearRemodAdd',\n",
       "       'RoofStyle', 'RoofMatl', 'Exterior1st', 'Exterior2nd', 'MasVnrType',\n",
       "       'MasVnrArea', 'ExterQual', 'ExterCond', 'Foundation', 'BsmtQual',\n",
       "       'BsmtCond', 'BsmtExposure', 'BsmtFinType1', 'BsmtFinSF1',\n",
       "       'BsmtFinType2', 'BsmtFinSF2', 'BsmtUnfSF', 'TotalBsmtSF', 'Heating',\n",
       "       'HeatingQC', 'CentralAir', 'Electrical', '1stFlrSF', '2ndFlrSF',\n",
       "       'LowQualFinSF', 'GrLivArea', 'BsmtFullBath', 'BsmtHalfBath', 'FullBath',\n",
       "       'HalfBath', 'BedroomAbvGr', 'KitchenAbvGr', 'KitchenQual',\n",
       "       'TotRmsAbvGrd', 'Functional', 'Fireplaces', 'FireplaceQu', 'GarageType',\n",
       "       'GarageYrBlt', 'GarageFinish', 'GarageCars', 'GarageArea', 'GarageQual',\n",
       "       'GarageCond', 'PavedDrive', 'WoodDeckSF', 'OpenPorchSF',\n",
       "       'EnclosedPorch', '3SsnPorch', 'ScreenPorch', 'PoolArea', 'PoolQC',\n",
       "       'Fence', 'MiscFeature', 'MiscVal', 'MoSold', 'YrSold', 'SaleType',\n",
       "       'SaleCondition', 'SalePrice'],\n",
       "      dtype='object')"
      ]
     },
     "execution_count": 2,
     "metadata": {},
     "output_type": "execute_result"
    }
   ],
   "source": [
    "# print the list of columns in the dataset to find the name of the prediction target\n",
    "home_data.columns"
   ]
  },
  {
   "cell_type": "code",
   "execution_count": 3,
   "id": "448d7935",
   "metadata": {
    "execution": {
     "iopub.execute_input": "2023-03-06T01:28:41.159149Z",
     "iopub.status.busy": "2023-03-06T01:28:41.158736Z",
     "iopub.status.idle": "2023-03-06T01:28:41.173300Z",
     "shell.execute_reply": "2023-03-06T01:28:41.171424Z"
    },
    "papermill": {
     "duration": 0.024885,
     "end_time": "2023-03-06T01:28:41.176408",
     "exception": false,
     "start_time": "2023-03-06T01:28:41.151523",
     "status": "completed"
    },
    "tags": []
   },
   "outputs": [],
   "source": [
    "y = home_data.SalePrice\n",
    "\n",
    "# Check your answer\n",
    "# step_1.check"
   ]
  },
  {
   "cell_type": "code",
   "execution_count": 4,
   "id": "84a59962",
   "metadata": {
    "execution": {
     "iopub.execute_input": "2023-03-06T01:28:41.189834Z",
     "iopub.status.busy": "2023-03-06T01:28:41.189324Z",
     "iopub.status.idle": "2023-03-06T01:28:41.195525Z",
     "shell.execute_reply": "2023-03-06T01:28:41.193951Z"
    },
    "papermill": {
     "duration": 0.015964,
     "end_time": "2023-03-06T01:28:41.198054",
     "exception": false,
     "start_time": "2023-03-06T01:28:41.182090",
     "status": "completed"
    },
    "tags": []
   },
   "outputs": [],
   "source": [
    "# The lines below will show you a hint or the solution.\n",
    "# step_1.hint() \n",
    "# step_1.solution()"
   ]
  },
  {
   "cell_type": "markdown",
   "id": "65cd08e8",
   "metadata": {
    "papermill": {
     "duration": 0.005285,
     "end_time": "2023-03-06T01:28:41.208932",
     "exception": false,
     "start_time": "2023-03-06T01:28:41.203647",
     "status": "completed"
    },
    "tags": []
   },
   "source": [
    "## Step 2: Create X\n",
    "Now you will create a DataFrame called `X` holding the predictive features.\n",
    "\n",
    "Since you want only some columns from the original data, you'll first create a list with the names of the columns you want in `X`.\n",
    "\n",
    "You'll use just the following columns in the list (you can copy and paste the whole list to save some typing, though you'll still need to add quotes):\n",
    "  * LotArea\n",
    "  * YearBuilt\n",
    "  * 1stFlrSF\n",
    "  * 2ndFlrSF\n",
    "  * FullBath\n",
    "  * BedroomAbvGr\n",
    "  * TotRmsAbvGrd\n",
    "\n",
    "After you've created that list of features, use it to create the DataFrame that you'll use to fit the model."
   ]
  },
  {
   "cell_type": "code",
   "execution_count": 5,
   "id": "ee92ba0b",
   "metadata": {
    "execution": {
     "iopub.execute_input": "2023-03-06T01:28:41.222481Z",
     "iopub.status.busy": "2023-03-06T01:28:41.221712Z",
     "iopub.status.idle": "2023-03-06T01:28:41.238316Z",
     "shell.execute_reply": "2023-03-06T01:28:41.237128Z"
    },
    "papermill": {
     "duration": 0.026525,
     "end_time": "2023-03-06T01:28:41.241077",
     "exception": false,
     "start_time": "2023-03-06T01:28:41.214552",
     "status": "completed"
    },
    "tags": []
   },
   "outputs": [
    {
     "data": {
      "application/javascript": [
       "parent.postMessage({\"jupyterEvent\": \"custom.exercise_interaction\", \"data\": {\"outcomeType\": 1, \"valueTowardsCompletion\": 0.25, \"interactionType\": 1, \"questionType\": 2, \"questionId\": \"2_SelectPredictionData\", \"learnToolsVersion\": \"0.3.4\", \"failureMessage\": \"\", \"exceptionClass\": \"\", \"trace\": \"\"}}, \"*\")"
      ],
      "text/plain": [
       "<IPython.core.display.Javascript object>"
      ]
     },
     "metadata": {},
     "output_type": "display_data"
    },
    {
     "data": {
      "text/markdown": [
       "<span style=\"color:#33cc33\">Correct</span>"
      ],
      "text/plain": [
       "Correct"
      ]
     },
     "metadata": {},
     "output_type": "display_data"
    }
   ],
   "source": [
    "# Create the list of features below\n",
    "feature_names = ['LotArea','YearBuilt','1stFlrSF','2ndFlrSF','FullBath','BedroomAbvGr','TotRmsAbvGrd']\n",
    "\n",
    "# Select data corresponding to features in feature_names\n",
    "X = home_data[feature_names]\n",
    "\n",
    "# Check your answer\n",
    "step_2.check()"
   ]
  },
  {
   "cell_type": "code",
   "execution_count": 6,
   "id": "b9bc8c4d",
   "metadata": {
    "collapsed": true,
    "execution": {
     "iopub.execute_input": "2023-03-06T01:28:41.254823Z",
     "iopub.status.busy": "2023-03-06T01:28:41.254373Z",
     "iopub.status.idle": "2023-03-06T01:28:41.259657Z",
     "shell.execute_reply": "2023-03-06T01:28:41.258324Z"
    },
    "jupyter": {
     "outputs_hidden": true
    },
    "papermill": {
     "duration": 0.015671,
     "end_time": "2023-03-06T01:28:41.262555",
     "exception": false,
     "start_time": "2023-03-06T01:28:41.246884",
     "status": "completed"
    },
    "tags": []
   },
   "outputs": [],
   "source": [
    "# step_2.hint()\n",
    "# step_2.solution()"
   ]
  },
  {
   "cell_type": "markdown",
   "id": "1a7dfc13",
   "metadata": {
    "papermill": {
     "duration": 0.00556,
     "end_time": "2023-03-06T01:28:41.274250",
     "exception": false,
     "start_time": "2023-03-06T01:28:41.268690",
     "status": "completed"
    },
    "tags": []
   },
   "source": [
    "## Review Data\n",
    "Before building a model, take a quick look at **X** to verify it looks sensible"
   ]
  },
  {
   "cell_type": "code",
   "execution_count": 7,
   "id": "79dc2b1a",
   "metadata": {
    "execution": {
     "iopub.execute_input": "2023-03-06T01:28:41.289502Z",
     "iopub.status.busy": "2023-03-06T01:28:41.289082Z",
     "iopub.status.idle": "2023-03-06T01:28:41.307821Z",
     "shell.execute_reply": "2023-03-06T01:28:41.306063Z"
    },
    "papermill": {
     "duration": 0.029405,
     "end_time": "2023-03-06T01:28:41.311117",
     "exception": false,
     "start_time": "2023-03-06T01:28:41.281712",
     "status": "completed"
    },
    "tags": []
   },
   "outputs": [
    {
     "name": "stdout",
     "output_type": "stream",
     "text": [
      "      LotArea  YearBuilt  1stFlrSF  2ndFlrSF  FullBath  BedroomAbvGr  \\\n",
      "0        8450       2003       856       854         2             3   \n",
      "1        9600       1976      1262         0         2             3   \n",
      "2       11250       2001       920       866         2             3   \n",
      "3        9550       1915       961       756         1             3   \n",
      "4       14260       2000      1145      1053         2             4   \n",
      "...       ...        ...       ...       ...       ...           ...   \n",
      "1455     7917       1999       953       694         2             3   \n",
      "1456    13175       1978      2073         0         2             3   \n",
      "1457     9042       1941      1188      1152         2             4   \n",
      "1458     9717       1950      1078         0         1             2   \n",
      "1459     9937       1965      1256         0         1             3   \n",
      "\n",
      "      TotRmsAbvGrd  \n",
      "0                8  \n",
      "1                6  \n",
      "2                6  \n",
      "3                7  \n",
      "4                9  \n",
      "...            ...  \n",
      "1455             7  \n",
      "1456             7  \n",
      "1457             9  \n",
      "1458             5  \n",
      "1459             6  \n",
      "\n",
      "[1460 rows x 7 columns]\n",
      "   LotArea  YearBuilt  1stFlrSF  2ndFlrSF  FullBath  BedroomAbvGr  \\\n",
      "0     8450       2003       856       854         2             3   \n",
      "1     9600       1976      1262         0         2             3   \n",
      "2    11250       2001       920       866         2             3   \n",
      "3     9550       1915       961       756         1             3   \n",
      "4    14260       2000      1145      1053         2             4   \n",
      "\n",
      "   TotRmsAbvGrd  \n",
      "0             8  \n",
      "1             6  \n",
      "2             6  \n",
      "3             7  \n",
      "4             9  \n"
     ]
    }
   ],
   "source": [
    "# Review data\n",
    "# print description or statistics from X\n",
    "print(X)\n",
    "\n",
    "# print the top few lines\n",
    "print(X.head())"
   ]
  },
  {
   "cell_type": "markdown",
   "id": "e6e55a2e",
   "metadata": {
    "papermill": {
     "duration": 0.005795,
     "end_time": "2023-03-06T01:28:41.323041",
     "exception": false,
     "start_time": "2023-03-06T01:28:41.317246",
     "status": "completed"
    },
    "tags": []
   },
   "source": [
    "## Step 3: Specify and Fit Model\n",
    "Create a `DecisionTreeRegressor` and save it iowa_model. Ensure you've done the relevant import from sklearn to run this command.\n",
    "\n",
    "Then fit the model you just created using the data in `X` and `y` that you saved above."
   ]
  },
  {
   "cell_type": "code",
   "execution_count": 8,
   "id": "9c5094f4",
   "metadata": {
    "execution": {
     "iopub.execute_input": "2023-03-06T01:28:41.337064Z",
     "iopub.status.busy": "2023-03-06T01:28:41.336639Z",
     "iopub.status.idle": "2023-03-06T01:28:41.359730Z",
     "shell.execute_reply": "2023-03-06T01:28:41.358611Z"
    },
    "papermill": {
     "duration": 0.033281,
     "end_time": "2023-03-06T01:28:41.362323",
     "exception": false,
     "start_time": "2023-03-06T01:28:41.329042",
     "status": "completed"
    },
    "tags": []
   },
   "outputs": [
    {
     "data": {
      "application/javascript": [
       "parent.postMessage({\"jupyterEvent\": \"custom.exercise_interaction\", \"data\": {\"outcomeType\": 1, \"valueTowardsCompletion\": 0.25, \"interactionType\": 1, \"questionType\": 2, \"questionId\": \"3_CreateModel\", \"learnToolsVersion\": \"0.3.4\", \"failureMessage\": \"\", \"exceptionClass\": \"\", \"trace\": \"\"}}, \"*\")"
      ],
      "text/plain": [
       "<IPython.core.display.Javascript object>"
      ]
     },
     "metadata": {},
     "output_type": "display_data"
    },
    {
     "data": {
      "text/markdown": [
       "<span style=\"color:#33cc33\">Correct</span>"
      ],
      "text/plain": [
       "Correct"
      ]
     },
     "metadata": {},
     "output_type": "display_data"
    }
   ],
   "source": [
    "from sklearn.tree import DecisionTreeRegressor\n",
    "#specify the model. \n",
    "#For model reproducibility, set a numeric value for random_state when specifying the model\n",
    "iowa_model = DecisionTreeRegressor(random_state=1)\n",
    "\n",
    "# Fit the model\n",
    "iowa_model.fit(X, y)\n",
    "\n",
    "# Check your answer\n",
    "step_3.check()"
   ]
  },
  {
   "cell_type": "code",
   "execution_count": 9,
   "id": "190a8190",
   "metadata": {
    "collapsed": true,
    "execution": {
     "iopub.execute_input": "2023-03-06T01:28:41.377365Z",
     "iopub.status.busy": "2023-03-06T01:28:41.376441Z",
     "iopub.status.idle": "2023-03-06T01:28:41.381752Z",
     "shell.execute_reply": "2023-03-06T01:28:41.380695Z"
    },
    "jupyter": {
     "outputs_hidden": true
    },
    "papermill": {
     "duration": 0.016017,
     "end_time": "2023-03-06T01:28:41.384477",
     "exception": false,
     "start_time": "2023-03-06T01:28:41.368460",
     "status": "completed"
    },
    "tags": []
   },
   "outputs": [],
   "source": [
    "# step_3.hint()\n",
    "# step_3.solution()"
   ]
  },
  {
   "cell_type": "markdown",
   "id": "64eda926",
   "metadata": {
    "papermill": {
     "duration": 0.006129,
     "end_time": "2023-03-06T01:28:41.397276",
     "exception": false,
     "start_time": "2023-03-06T01:28:41.391147",
     "status": "completed"
    },
    "tags": []
   },
   "source": [
    "## Step 4: Make Predictions\n",
    "Make predictions with the model's `predict` command using `X` as the data. Save the results to a variable called `predictions`."
   ]
  },
  {
   "cell_type": "code",
   "execution_count": 10,
   "id": "bfe0ae38",
   "metadata": {
    "execution": {
     "iopub.execute_input": "2023-03-06T01:28:41.412266Z",
     "iopub.status.busy": "2023-03-06T01:28:41.411847Z",
     "iopub.status.idle": "2023-03-06T01:28:41.428836Z",
     "shell.execute_reply": "2023-03-06T01:28:41.427752Z"
    },
    "papermill": {
     "duration": 0.027631,
     "end_time": "2023-03-06T01:28:41.431649",
     "exception": false,
     "start_time": "2023-03-06T01:28:41.404018",
     "status": "completed"
    },
    "tags": []
   },
   "outputs": [
    {
     "name": "stdout",
     "output_type": "stream",
     "text": [
      "[208500. 181500. 223500. ... 266500. 142125. 147500.]\n"
     ]
    },
    {
     "data": {
      "application/javascript": [
       "parent.postMessage({\"jupyterEvent\": \"custom.exercise_interaction\", \"data\": {\"outcomeType\": 1, \"valueTowardsCompletion\": 0.25, \"interactionType\": 1, \"questionType\": 2, \"questionId\": \"4_MakePredictions\", \"learnToolsVersion\": \"0.3.4\", \"failureMessage\": \"\", \"exceptionClass\": \"\", \"trace\": \"\"}}, \"*\")"
      ],
      "text/plain": [
       "<IPython.core.display.Javascript object>"
      ]
     },
     "metadata": {},
     "output_type": "display_data"
    },
    {
     "data": {
      "text/markdown": [
       "<span style=\"color:#33cc33\">Correct</span>"
      ],
      "text/plain": [
       "Correct"
      ]
     },
     "metadata": {},
     "output_type": "display_data"
    }
   ],
   "source": [
    "predictions = iowa_model.predict(X)\n",
    "print(predictions)\n",
    "\n",
    "# Check your answer\n",
    "step_4.check()"
   ]
  },
  {
   "cell_type": "code",
   "execution_count": 11,
   "id": "a4f31f08",
   "metadata": {
    "collapsed": true,
    "execution": {
     "iopub.execute_input": "2023-03-06T01:28:41.447039Z",
     "iopub.status.busy": "2023-03-06T01:28:41.446554Z",
     "iopub.status.idle": "2023-03-06T01:28:41.451729Z",
     "shell.execute_reply": "2023-03-06T01:28:41.450416Z"
    },
    "jupyter": {
     "outputs_hidden": true
    },
    "papermill": {
     "duration": 0.016091,
     "end_time": "2023-03-06T01:28:41.454287",
     "exception": false,
     "start_time": "2023-03-06T01:28:41.438196",
     "status": "completed"
    },
    "tags": []
   },
   "outputs": [],
   "source": [
    "# step_4.hint()\n",
    "# step_4.solution()"
   ]
  },
  {
   "cell_type": "markdown",
   "id": "4f73c159",
   "metadata": {
    "papermill": {
     "duration": 0.006597,
     "end_time": "2023-03-06T01:28:41.467873",
     "exception": false,
     "start_time": "2023-03-06T01:28:41.461276",
     "status": "completed"
    },
    "tags": []
   },
   "source": [
    "## Think About Your Results\n",
    "\n",
    "Use the `head` method to compare the top few predictions to the actual home values (in `y`) for those same homes. Anything surprising?\n"
   ]
  },
  {
   "cell_type": "code",
   "execution_count": 12,
   "id": "aec66457",
   "metadata": {
    "execution": {
     "iopub.execute_input": "2023-03-06T01:28:41.483395Z",
     "iopub.status.busy": "2023-03-06T01:28:41.482952Z",
     "iopub.status.idle": "2023-03-06T01:28:41.492435Z",
     "shell.execute_reply": "2023-03-06T01:28:41.490936Z"
    },
    "papermill": {
     "duration": 0.020832,
     "end_time": "2023-03-06T01:28:41.495519",
     "exception": false,
     "start_time": "2023-03-06T01:28:41.474687",
     "status": "completed"
    },
    "tags": []
   },
   "outputs": [
    {
     "name": "stdout",
     "output_type": "stream",
     "text": [
      "   LotArea  YearBuilt  1stFlrSF  2ndFlrSF  FullBath  BedroomAbvGr  \\\n",
      "0     8450       2003       856       854         2             3   \n",
      "1     9600       1976      1262         0         2             3   \n",
      "2    11250       2001       920       866         2             3   \n",
      "3     9550       1915       961       756         1             3   \n",
      "4    14260       2000      1145      1053         2             4   \n",
      "\n",
      "   TotRmsAbvGrd  \n",
      "0             8  \n",
      "1             6  \n",
      "2             6  \n",
      "3             7  \n",
      "4             9  \n"
     ]
    }
   ],
   "source": [
    "# You can write code in this cell\n",
    "head = X.head()\n",
    "print(head)\n"
   ]
  },
  {
   "cell_type": "markdown",
   "id": "722a0666",
   "metadata": {
    "papermill": {
     "duration": 0.006599,
     "end_time": "2023-03-06T01:28:41.509033",
     "exception": false,
     "start_time": "2023-03-06T01:28:41.502434",
     "status": "completed"
    },
    "tags": []
   },
   "source": [
    "It's natural to ask how accurate the model's predictions will be and how you can improve that. That will be you're next step.\n",
    "\n",
    "# Keep Going\n",
    "\n",
    "You are ready for **[Model Validation](https://www.kaggle.com/dansbecker/model-validation).**\n"
   ]
  },
  {
   "cell_type": "markdown",
   "id": "777f21af",
   "metadata": {
    "papermill": {
     "duration": 0.006243,
     "end_time": "2023-03-06T01:28:41.522169",
     "exception": false,
     "start_time": "2023-03-06T01:28:41.515926",
     "status": "completed"
    },
    "tags": []
   },
   "source": [
    "---\n",
    "\n",
    "\n",
    "\n",
    "\n",
    "*Have questions or comments? Visit the [course discussion forum](https://www.kaggle.com/learn/intro-to-machine-learning/discussion) to chat with other learners.*"
   ]
  }
 ],
 "metadata": {
  "kernelspec": {
   "display_name": "Python 3",
   "language": "python",
   "name": "python3"
  },
  "language_info": {
   "codemirror_mode": {
    "name": "ipython",
    "version": 3
   },
   "file_extension": ".py",
   "mimetype": "text/x-python",
   "name": "python",
   "nbconvert_exporter": "python",
   "pygments_lexer": "ipython3",
   "version": "3.7.12"
  },
  "papermill": {
   "default_parameters": {},
   "duration": 15.215452,
   "end_time": "2023-03-06T01:28:42.352498",
   "environment_variables": {},
   "exception": null,
   "input_path": "__notebook__.ipynb",
   "output_path": "__notebook__.ipynb",
   "parameters": {},
   "start_time": "2023-03-06T01:28:27.137046",
   "version": "2.4.0"
  }
 },
 "nbformat": 4,
 "nbformat_minor": 5
}
