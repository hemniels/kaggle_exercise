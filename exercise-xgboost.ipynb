{
 "cells": [
  {
   "cell_type": "markdown",
   "id": "fc1ee45d",
   "metadata": {
    "papermill": {
     "duration": 0.006426,
     "end_time": "2023-03-06T22:13:40.338460",
     "exception": false,
     "start_time": "2023-03-06T22:13:40.332034",
     "status": "completed"
    },
    "tags": []
   },
   "source": [
    "**This notebook is an exercise in the [Intermediate Machine Learning](https://www.kaggle.com/learn/intermediate-machine-learning) course.  You can reference the tutorial at [this link](https://www.kaggle.com/alexisbcook/xgboost).**\n",
    "\n",
    "---\n"
   ]
  },
  {
   "cell_type": "markdown",
   "id": "3143f85e",
   "metadata": {
    "papermill": {
     "duration": 0.004886,
     "end_time": "2023-03-06T22:13:40.348707",
     "exception": false,
     "start_time": "2023-03-06T22:13:40.343821",
     "status": "completed"
    },
    "tags": []
   },
   "source": [
    "In this exercise, you will use your new knowledge to train a model with **gradient boosting**.\n",
    "\n",
    "# Setup\n",
    "\n",
    "The questions below will give you feedback on your work. Run the following cell to set up the feedback system."
   ]
  },
  {
   "cell_type": "code",
   "execution_count": 1,
   "id": "4d496b0b",
   "metadata": {
    "execution": {
     "iopub.execute_input": "2023-03-06T22:13:40.361516Z",
     "iopub.status.busy": "2023-03-06T22:13:40.360742Z",
     "iopub.status.idle": "2023-03-06T22:13:42.873143Z",
     "shell.execute_reply": "2023-03-06T22:13:42.870949Z"
    },
    "papermill": {
     "duration": 2.522612,
     "end_time": "2023-03-06T22:13:42.876512",
     "exception": false,
     "start_time": "2023-03-06T22:13:40.353900",
     "status": "completed"
    },
    "tags": []
   },
   "outputs": [
    {
     "name": "stdout",
     "output_type": "stream",
     "text": [
      "Setup Complete\n"
     ]
    }
   ],
   "source": [
    "# Set up code checking\n",
    "import os\n",
    "if not os.path.exists(\"../input/train.csv\"):\n",
    "    os.symlink(\"../input/home-data-for-ml-course/train.csv\", \"../input/train.csv\")  \n",
    "    os.symlink(\"../input/home-data-for-ml-course/test.csv\", \"../input/test.csv\") \n",
    "from learntools.core import binder\n",
    "binder.bind(globals())\n",
    "from learntools.ml_intermediate.ex6 import *\n",
    "print(\"Setup Complete\")"
   ]
  },
  {
   "cell_type": "markdown",
   "id": "e4c1e7ba",
   "metadata": {
    "papermill": {
     "duration": 0.005176,
     "end_time": "2023-03-06T22:13:42.887896",
     "exception": false,
     "start_time": "2023-03-06T22:13:42.882720",
     "status": "completed"
    },
    "tags": []
   },
   "source": [
    "You will work with the [Housing Prices Competition for Kaggle Learn Users](https://www.kaggle.com/c/home-data-for-ml-course) dataset from the previous exercise. \n",
    "\n",
    "![Ames Housing dataset image](https://i.imgur.com/lTJVG4e.png)\n",
    "\n",
    "Run the next code cell without changes to load the training and validation sets in `X_train`, `X_valid`, `y_train`, and `y_valid`.  The test set is loaded in `X_test`."
   ]
  },
  {
   "cell_type": "code",
   "execution_count": 2,
   "id": "aa247722",
   "metadata": {
    "execution": {
     "iopub.execute_input": "2023-03-06T22:13:42.901302Z",
     "iopub.status.busy": "2023-03-06T22:13:42.900102Z",
     "iopub.status.idle": "2023-03-06T22:13:43.090858Z",
     "shell.execute_reply": "2023-03-06T22:13:43.089505Z"
    },
    "papermill": {
     "duration": 0.200928,
     "end_time": "2023-03-06T22:13:43.094180",
     "exception": false,
     "start_time": "2023-03-06T22:13:42.893252",
     "status": "completed"
    },
    "tags": []
   },
   "outputs": [],
   "source": [
    "import pandas as pd\n",
    "from sklearn.model_selection import train_test_split\n",
    "\n",
    "# Read the data\n",
    "X = pd.read_csv('../input/train.csv', index_col='Id')\n",
    "X_test_full = pd.read_csv('../input/test.csv', index_col='Id')\n",
    "\n",
    "# Remove rows with missing target, separate target from predictors\n",
    "X.dropna(axis=0, subset=['SalePrice'], inplace=True)\n",
    "y = X.SalePrice              \n",
    "X.drop(['SalePrice'], axis=1, inplace=True)\n",
    "\n",
    "# Break off validation set from training data\n",
    "X_train_full, X_valid_full, y_train, y_valid = train_test_split(X, y, train_size=0.8, test_size=0.2,\n",
    "                                                                random_state=0)\n",
    "\n",
    "# \"Cardinality\" means the number of unique values in a column\n",
    "# Select categorical columns with relatively low cardinality (convenient but arbitrary)\n",
    "low_cardinality_cols = [cname for cname in X_train_full.columns if X_train_full[cname].nunique() < 10 and \n",
    "                        X_train_full[cname].dtype == \"object\"]\n",
    "\n",
    "# Select numeric columns\n",
    "numeric_cols = [cname for cname in X_train_full.columns if X_train_full[cname].dtype in ['int64', 'float64']]\n",
    "\n",
    "# Keep selected columns only\n",
    "my_cols = low_cardinality_cols + numeric_cols\n",
    "X_train = X_train_full[my_cols].copy()\n",
    "X_valid = X_valid_full[my_cols].copy()\n",
    "X_test = X_test_full[my_cols].copy()\n",
    "\n",
    "# One-hot encode the data (to shorten the code, we use pandas)\n",
    "X_train = pd.get_dummies(X_train)\n",
    "X_valid = pd.get_dummies(X_valid)\n",
    "X_test = pd.get_dummies(X_test)\n",
    "X_train, X_valid = X_train.align(X_valid, join='left', axis=1)\n",
    "X_train, X_test = X_train.align(X_test, join='left', axis=1)"
   ]
  },
  {
   "cell_type": "markdown",
   "id": "60fb37a9",
   "metadata": {
    "papermill": {
     "duration": 0.005219,
     "end_time": "2023-03-06T22:13:43.104884",
     "exception": false,
     "start_time": "2023-03-06T22:13:43.099665",
     "status": "completed"
    },
    "tags": []
   },
   "source": [
    "# Step 1: Build model\n",
    "\n",
    "### Part A\n",
    "\n",
    "In this step, you'll build and train your first model with gradient boosting.\n",
    "\n",
    "- Begin by setting `my_model_1` to an XGBoost model.  Use the [XGBRegressor](https://xgboost.readthedocs.io/en/latest/python/python_api.html#xgboost.XGBRegressor) class, and set the random seed to 0 (`random_state=0`).  **Leave all other parameters as default.**\n",
    "- Then, fit the model to the training data in `X_train` and `y_train`."
   ]
  },
  {
   "cell_type": "code",
   "execution_count": 3,
   "id": "199c9dcf",
   "metadata": {
    "execution": {
     "iopub.execute_input": "2023-03-06T22:13:43.117916Z",
     "iopub.status.busy": "2023-03-06T22:13:43.117272Z",
     "iopub.status.idle": "2023-03-06T22:13:44.077172Z",
     "shell.execute_reply": "2023-03-06T22:13:44.076124Z"
    },
    "papermill": {
     "duration": 0.969468,
     "end_time": "2023-03-06T22:13:44.079789",
     "exception": false,
     "start_time": "2023-03-06T22:13:43.110321",
     "status": "completed"
    },
    "tags": []
   },
   "outputs": [
    {
     "data": {
      "application/javascript": [
       "parent.postMessage({\"jupyterEvent\": \"custom.exercise_interaction\", \"data\": {\"outcomeType\": 1, \"valueTowardsCompletion\": 0.5, \"interactionType\": 1, \"questionType\": 2, \"questionId\": \"1.1_Model1A\", \"learnToolsVersion\": \"0.3.4\", \"failureMessage\": \"\", \"exceptionClass\": \"\", \"trace\": \"\"}}, \"*\")"
      ],
      "text/plain": [
       "<IPython.core.display.Javascript object>"
      ]
     },
     "metadata": {},
     "output_type": "display_data"
    },
    {
     "data": {
      "text/markdown": [
       "<span style=\"color:#33cc33\">Correct</span>"
      ],
      "text/plain": [
       "Correct"
      ]
     },
     "metadata": {},
     "output_type": "display_data"
    }
   ],
   "source": [
    "from xgboost import XGBRegressor\n",
    "\n",
    "# Define the model\n",
    "my_model_1 = XGBRegressor(random_state=0) # Your code here\n",
    "\n",
    "# Fit the model\n",
    "my_model_1.fit(X_train, y_train) # Your code here\n",
    "\n",
    "# Check your answer\n",
    "step_1.a.check()"
   ]
  },
  {
   "cell_type": "code",
   "execution_count": 4,
   "id": "561ec506",
   "metadata": {
    "execution": {
     "iopub.execute_input": "2023-03-06T22:13:44.092926Z",
     "iopub.status.busy": "2023-03-06T22:13:44.092522Z",
     "iopub.status.idle": "2023-03-06T22:13:44.097425Z",
     "shell.execute_reply": "2023-03-06T22:13:44.096116Z"
    },
    "papermill": {
     "duration": 0.014168,
     "end_time": "2023-03-06T22:13:44.099745",
     "exception": false,
     "start_time": "2023-03-06T22:13:44.085577",
     "status": "completed"
    },
    "tags": []
   },
   "outputs": [],
   "source": [
    "# Lines below will give you a hint or solution code\n",
    "#step_1.a.hint()\n",
    "#step_1.a.solution()"
   ]
  },
  {
   "cell_type": "markdown",
   "id": "769d78f1",
   "metadata": {
    "papermill": {
     "duration": 0.00534,
     "end_time": "2023-03-06T22:13:44.110739",
     "exception": false,
     "start_time": "2023-03-06T22:13:44.105399",
     "status": "completed"
    },
    "tags": []
   },
   "source": [
    "### Part B\n",
    "\n",
    "Set `predictions_1` to the model's predictions for the validation data.  Recall that the validation features are stored in `X_valid`."
   ]
  },
  {
   "cell_type": "code",
   "execution_count": 5,
   "id": "9439f2d9",
   "metadata": {
    "execution": {
     "iopub.execute_input": "2023-03-06T22:13:44.124057Z",
     "iopub.status.busy": "2023-03-06T22:13:44.123293Z",
     "iopub.status.idle": "2023-03-06T22:13:44.145949Z",
     "shell.execute_reply": "2023-03-06T22:13:44.144997Z"
    },
    "papermill": {
     "duration": 0.032419,
     "end_time": "2023-03-06T22:13:44.148801",
     "exception": false,
     "start_time": "2023-03-06T22:13:44.116382",
     "status": "completed"
    },
    "tags": []
   },
   "outputs": [
    {
     "data": {
      "application/javascript": [
       "parent.postMessage({\"jupyterEvent\": \"custom.exercise_interaction\", \"data\": {\"outcomeType\": 1, \"valueTowardsCompletion\": 0.5, \"interactionType\": 1, \"questionType\": 2, \"questionId\": \"1.2_Model1B\", \"learnToolsVersion\": \"0.3.4\", \"failureMessage\": \"\", \"exceptionClass\": \"\", \"trace\": \"\"}}, \"*\")"
      ],
      "text/plain": [
       "<IPython.core.display.Javascript object>"
      ]
     },
     "metadata": {},
     "output_type": "display_data"
    },
    {
     "data": {
      "text/markdown": [
       "<span style=\"color:#33cc33\">Correct</span>"
      ],
      "text/plain": [
       "Correct"
      ]
     },
     "metadata": {},
     "output_type": "display_data"
    }
   ],
   "source": [
    "from sklearn.metrics import mean_absolute_error\n",
    "\n",
    "# Get predictions\n",
    "predictions_1 = my_model_1.predict(X_valid) # Your code here\n",
    "\n",
    "# Check your answer\n",
    "step_1.b.check()"
   ]
  },
  {
   "cell_type": "code",
   "execution_count": 6,
   "id": "070e9b9e",
   "metadata": {
    "execution": {
     "iopub.execute_input": "2023-03-06T22:13:44.162961Z",
     "iopub.status.busy": "2023-03-06T22:13:44.162577Z",
     "iopub.status.idle": "2023-03-06T22:13:44.167103Z",
     "shell.execute_reply": "2023-03-06T22:13:44.165921Z"
    },
    "papermill": {
     "duration": 0.013949,
     "end_time": "2023-03-06T22:13:44.169496",
     "exception": false,
     "start_time": "2023-03-06T22:13:44.155547",
     "status": "completed"
    },
    "tags": []
   },
   "outputs": [],
   "source": [
    "# Lines below will give you a hint or solution code\n",
    "#step_1.b.hint()\n",
    "#step_1.b.solution()"
   ]
  },
  {
   "cell_type": "markdown",
   "id": "f516be18",
   "metadata": {
    "papermill": {
     "duration": 0.005478,
     "end_time": "2023-03-06T22:13:44.180882",
     "exception": false,
     "start_time": "2023-03-06T22:13:44.175404",
     "status": "completed"
    },
    "tags": []
   },
   "source": [
    "### Part C\n",
    "\n",
    "Finally, use the `mean_absolute_error()` function to calculate the mean absolute error (MAE) corresponding to the predictions for the validation set.  Recall that the labels for the validation data are stored in `y_valid`."
   ]
  },
  {
   "cell_type": "code",
   "execution_count": 7,
   "id": "a0f788b9",
   "metadata": {
    "execution": {
     "iopub.execute_input": "2023-03-06T22:13:44.195451Z",
     "iopub.status.busy": "2023-03-06T22:13:44.195002Z",
     "iopub.status.idle": "2023-03-06T22:13:44.206801Z",
     "shell.execute_reply": "2023-03-06T22:13:44.205678Z"
    },
    "papermill": {
     "duration": 0.021214,
     "end_time": "2023-03-06T22:13:44.209109",
     "exception": false,
     "start_time": "2023-03-06T22:13:44.187895",
     "status": "completed"
    },
    "tags": []
   },
   "outputs": [
    {
     "name": "stdout",
     "output_type": "stream",
     "text": [
      "Mean Absolute Error: 17662.736729452055\n"
     ]
    },
    {
     "data": {
      "application/javascript": [
       "parent.postMessage({\"jupyterEvent\": \"custom.exercise_interaction\", \"data\": {\"outcomeType\": 1, \"valueTowardsCompletion\": 0.5, \"interactionType\": 1, \"questionType\": 2, \"questionId\": \"1.3_Model1C\", \"learnToolsVersion\": \"0.3.4\", \"failureMessage\": \"\", \"exceptionClass\": \"\", \"trace\": \"\"}}, \"*\")"
      ],
      "text/plain": [
       "<IPython.core.display.Javascript object>"
      ]
     },
     "metadata": {},
     "output_type": "display_data"
    },
    {
     "data": {
      "text/markdown": [
       "<span style=\"color:#33cc33\">Correct</span>"
      ],
      "text/plain": [
       "Correct"
      ]
     },
     "metadata": {},
     "output_type": "display_data"
    }
   ],
   "source": [
    "# Calculate MAE\n",
    "mae_1 = mean_absolute_error(predictions_1, y_valid) # Your code here\n",
    "\n",
    "# Uncomment to print MAE\n",
    "print(\"Mean Absolute Error:\" , mae_1)\n",
    "\n",
    "# Check your answer\n",
    "step_1.c.check()"
   ]
  },
  {
   "cell_type": "code",
   "execution_count": 8,
   "id": "39fda525",
   "metadata": {
    "execution": {
     "iopub.execute_input": "2023-03-06T22:13:44.222788Z",
     "iopub.status.busy": "2023-03-06T22:13:44.222354Z",
     "iopub.status.idle": "2023-03-06T22:13:44.227542Z",
     "shell.execute_reply": "2023-03-06T22:13:44.226124Z"
    },
    "papermill": {
     "duration": 0.014988,
     "end_time": "2023-03-06T22:13:44.230084",
     "exception": false,
     "start_time": "2023-03-06T22:13:44.215096",
     "status": "completed"
    },
    "tags": []
   },
   "outputs": [],
   "source": [
    "# Lines below will give you a hint or solution code\n",
    "#step_1.c.hint()\n",
    "#step_1.c.solution()"
   ]
  },
  {
   "cell_type": "markdown",
   "id": "31033e19",
   "metadata": {
    "papermill": {
     "duration": 0.006302,
     "end_time": "2023-03-06T22:13:44.242609",
     "exception": false,
     "start_time": "2023-03-06T22:13:44.236307",
     "status": "completed"
    },
    "tags": []
   },
   "source": [
    "# Step 2: Improve the model\n",
    "\n",
    "Now that you've trained a default model as baseline, it's time to tinker with the parameters, to see if you can get better performance!\n",
    "- Begin by setting `my_model_2` to an XGBoost model, using the [XGBRegressor](https://xgboost.readthedocs.io/en/latest/python/python_api.html#xgboost.XGBRegressor) class.  Use what you learned in the previous tutorial to figure out how to change the default parameters (like `n_estimators` and `learning_rate`) to get better results.\n",
    "- Then, fit the model to the training data in `X_train` and `y_train`.\n",
    "- Set `predictions_2` to the model's predictions for the validation data.  Recall that the validation features are stored in `X_valid`.\n",
    "- Finally, use the `mean_absolute_error()` function to calculate the mean absolute error (MAE) corresponding to the predictions on the validation set.  Recall that the labels for the validation data are stored in `y_valid`.\n",
    "\n",
    "In order for this step to be marked correct, your model in `my_model_2` must attain lower MAE than the model in `my_model_1`. "
   ]
  },
  {
   "cell_type": "code",
   "execution_count": 9,
   "id": "b436be66",
   "metadata": {
    "execution": {
     "iopub.execute_input": "2023-03-06T22:13:44.257276Z",
     "iopub.status.busy": "2023-03-06T22:13:44.256844Z",
     "iopub.status.idle": "2023-03-06T22:13:53.479262Z",
     "shell.execute_reply": "2023-03-06T22:13:53.478318Z"
    },
    "papermill": {
     "duration": 9.23314,
     "end_time": "2023-03-06T22:13:53.482068",
     "exception": false,
     "start_time": "2023-03-06T22:13:44.248928",
     "status": "completed"
    },
    "tags": []
   },
   "outputs": [
    {
     "name": "stdout",
     "output_type": "stream",
     "text": [
      "Mean Absolute Error: 16688.691513270547\n"
     ]
    },
    {
     "data": {
      "application/javascript": [
       "parent.postMessage({\"jupyterEvent\": \"custom.exercise_interaction\", \"data\": {\"outcomeType\": 1, \"valueTowardsCompletion\": 0.5, \"interactionType\": 1, \"questionType\": 2, \"questionId\": \"2_Model2\", \"learnToolsVersion\": \"0.3.4\", \"failureMessage\": \"\", \"exceptionClass\": \"\", \"trace\": \"\"}}, \"*\")"
      ],
      "text/plain": [
       "<IPython.core.display.Javascript object>"
      ]
     },
     "metadata": {},
     "output_type": "display_data"
    },
    {
     "data": {
      "text/markdown": [
       "<span style=\"color:#33cc33\">Correct</span>"
      ],
      "text/plain": [
       "Correct"
      ]
     },
     "metadata": {},
     "output_type": "display_data"
    }
   ],
   "source": [
    "# Define the model\n",
    "my_model_2 = XGBRegressor(n_estimators=1000, learning_rate=0.05) # Your code here\n",
    "\n",
    "# Fit the model\n",
    "my_model_2.fit(X_train, y_train) # Your code here\n",
    "\n",
    "# Get predictions\n",
    "predictions_2 = my_model_2.predict(X_valid) # Your code here\n",
    "\n",
    "# Calculate MAE\n",
    "mae_2 = mean_absolute_error(predictions_2, y_valid) # Your code here\n",
    "\n",
    "# Uncomment to print MAE\n",
    "print(\"Mean Absolute Error:\" , mae_2)\n",
    "\n",
    "# Check your answer\n",
    "step_2.check()"
   ]
  },
  {
   "cell_type": "code",
   "execution_count": 10,
   "id": "3602f824",
   "metadata": {
    "execution": {
     "iopub.execute_input": "2023-03-06T22:13:53.497242Z",
     "iopub.status.busy": "2023-03-06T22:13:53.496538Z",
     "iopub.status.idle": "2023-03-06T22:13:53.500870Z",
     "shell.execute_reply": "2023-03-06T22:13:53.499703Z"
    },
    "papermill": {
     "duration": 0.014321,
     "end_time": "2023-03-06T22:13:53.503062",
     "exception": false,
     "start_time": "2023-03-06T22:13:53.488741",
     "status": "completed"
    },
    "tags": []
   },
   "outputs": [],
   "source": [
    "# Lines below will give you a hint or solution code\n",
    "#step_2.hint()\n",
    "#step_2.solution()"
   ]
  },
  {
   "cell_type": "markdown",
   "id": "c3bc7a86",
   "metadata": {
    "papermill": {
     "duration": 0.005948,
     "end_time": "2023-03-06T22:13:53.515331",
     "exception": false,
     "start_time": "2023-03-06T22:13:53.509383",
     "status": "completed"
    },
    "tags": []
   },
   "source": [
    "# Step 3: Break the model\n",
    "\n",
    "In this step, you will create a model that performs worse than the original model in Step 1.  This will help you to develop your intuition for how to set parameters.  You might even find that you accidentally get better performance, which is ultimately a nice problem to have and a valuable learning experience!\n",
    "- Begin by setting `my_model_3` to an XGBoost model, using the [XGBRegressor](https://xgboost.readthedocs.io/en/latest/python/python_api.html#xgboost.XGBRegressor) class.  Use what you learned in the previous tutorial to figure out how to change the default parameters (like `n_estimators` and `learning_rate`) to design a model to get high MAE.\n",
    "- Then, fit the model to the training data in `X_train` and `y_train`.\n",
    "- Set `predictions_3` to the model's predictions for the validation data.  Recall that the validation features are stored in `X_valid`.\n",
    "- Finally, use the `mean_absolute_error()` function to calculate the mean absolute error (MAE) corresponding to the predictions on the validation set.  Recall that the labels for the validation data are stored in `y_valid`.\n",
    "\n",
    "In order for this step to be marked correct, your model in `my_model_3` must attain higher MAE than the model in `my_model_1`. "
   ]
  },
  {
   "cell_type": "code",
   "execution_count": 11,
   "id": "d93728d5",
   "metadata": {
    "execution": {
     "iopub.execute_input": "2023-03-06T22:13:53.530011Z",
     "iopub.status.busy": "2023-03-06T22:13:53.529606Z",
     "iopub.status.idle": "2023-03-06T22:13:53.592942Z",
     "shell.execute_reply": "2023-03-06T22:13:53.591789Z"
    },
    "papermill": {
     "duration": 0.073498,
     "end_time": "2023-03-06T22:13:53.595442",
     "exception": false,
     "start_time": "2023-03-06T22:13:53.521944",
     "status": "completed"
    },
    "tags": []
   },
   "outputs": [
    {
     "name": "stdout",
     "output_type": "stream",
     "text": [
      "Mean Absolute Error: 127895.0828807256\n"
     ]
    },
    {
     "data": {
      "application/javascript": [
       "parent.postMessage({\"jupyterEvent\": \"custom.exercise_interaction\", \"data\": {\"outcomeType\": 1, \"valueTowardsCompletion\": 0.5, \"interactionType\": 1, \"questionType\": 2, \"questionId\": \"3_Model3\", \"learnToolsVersion\": \"0.3.4\", \"failureMessage\": \"\", \"exceptionClass\": \"\", \"trace\": \"\"}}, \"*\")"
      ],
      "text/plain": [
       "<IPython.core.display.Javascript object>"
      ]
     },
     "metadata": {},
     "output_type": "display_data"
    },
    {
     "data": {
      "text/markdown": [
       "<span style=\"color:#33cc33\">Correct</span>"
      ],
      "text/plain": [
       "Correct"
      ]
     },
     "metadata": {},
     "output_type": "display_data"
    }
   ],
   "source": [
    "# Define the model\n",
    "my_model_3 = XGBRegressor(n_estimators=1)\n",
    "\n",
    "# Fit the model\n",
    "my_model_3.fit(X_train, y_train) # Your code here\n",
    "\n",
    "# Get predictions\n",
    "predictions_3 = my_model_3.predict(X_valid)\n",
    "\n",
    "# Calculate MAE\n",
    "mae_3 = mean_absolute_error(predictions_3, y_valid)\n",
    "\n",
    "# Uncomment to print MAE\n",
    "print(\"Mean Absolute Error:\" , mae_3)\n",
    "\n",
    "# Check your answer\n",
    "step_3.check()"
   ]
  },
  {
   "cell_type": "code",
   "execution_count": 12,
   "id": "7cf85f53",
   "metadata": {
    "execution": {
     "iopub.execute_input": "2023-03-06T22:13:53.612440Z",
     "iopub.status.busy": "2023-03-06T22:13:53.611440Z",
     "iopub.status.idle": "2023-03-06T22:13:53.616230Z",
     "shell.execute_reply": "2023-03-06T22:13:53.614983Z"
    },
    "papermill": {
     "duration": 0.015171,
     "end_time": "2023-03-06T22:13:53.618367",
     "exception": false,
     "start_time": "2023-03-06T22:13:53.603196",
     "status": "completed"
    },
    "tags": []
   },
   "outputs": [],
   "source": [
    "# Lines below will give you a hint or solution code\n",
    "#step_3.hint()\n",
    "#step_3.solution()"
   ]
  },
  {
   "cell_type": "markdown",
   "id": "97eb252e",
   "metadata": {
    "papermill": {
     "duration": 0.006229,
     "end_time": "2023-03-06T22:13:53.631109",
     "exception": false,
     "start_time": "2023-03-06T22:13:53.624880",
     "status": "completed"
    },
    "tags": []
   },
   "source": [
    "# Keep going\n",
    "\n",
    "Continue to learn about **[data leakage](https://www.kaggle.com/alexisbcook/data-leakage)**.  This is an important issue for a data scientist to understand, and it has the potential to ruin your models in subtle and dangerous ways!"
   ]
  },
  {
   "cell_type": "markdown",
   "id": "d62c08cf",
   "metadata": {
    "papermill": {
     "duration": 0.006236,
     "end_time": "2023-03-06T22:13:53.643748",
     "exception": false,
     "start_time": "2023-03-06T22:13:53.637512",
     "status": "completed"
    },
    "tags": []
   },
   "source": [
    "---\n",
    "\n",
    "\n",
    "\n",
    "\n",
    "*Have questions or comments? Visit the [course discussion forum](https://www.kaggle.com/learn/intermediate-machine-learning/discussion) to chat with other learners.*"
   ]
  }
 ],
 "metadata": {
  "kernelspec": {
   "display_name": "Python 3",
   "language": "python",
   "name": "python3"
  },
  "language_info": {
   "codemirror_mode": {
    "name": "ipython",
    "version": 3
   },
   "file_extension": ".py",
   "mimetype": "text/x-python",
   "name": "python",
   "nbconvert_exporter": "python",
   "pygments_lexer": "ipython3",
   "version": "3.7.12"
  },
  "papermill": {
   "default_parameters": {},
   "duration": 24.567527,
   "end_time": "2023-03-06T22:13:54.371757",
   "environment_variables": {},
   "exception": null,
   "input_path": "__notebook__.ipynb",
   "output_path": "__notebook__.ipynb",
   "parameters": {},
   "start_time": "2023-03-06T22:13:29.804230",
   "version": "2.4.0"
  }
 },
 "nbformat": 4,
 "nbformat_minor": 5
}
