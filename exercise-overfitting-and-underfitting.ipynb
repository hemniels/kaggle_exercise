{
 "cells": [
  {
   "cell_type": "markdown",
   "id": "78d3cc7b",
   "metadata": {
    "papermill": {
     "duration": 0.006726,
     "end_time": "2023-03-06T22:33:37.106665",
     "exception": false,
     "start_time": "2023-03-06T22:33:37.099939",
     "status": "completed"
    },
    "tags": []
   },
   "source": [
    "**This notebook is an exercise in the [Intro to Deep Learning](https://www.kaggle.com/learn/intro-to-deep-learning) course.  You can reference the tutorial at [this link](https://www.kaggle.com/ryanholbrook/overfitting-and-underfitting).**\n",
    "\n",
    "---\n"
   ]
  },
  {
   "cell_type": "markdown",
   "id": "b6ba2164",
   "metadata": {
    "papermill": {
     "duration": 0.005004,
     "end_time": "2023-03-06T22:33:37.117160",
     "exception": false,
     "start_time": "2023-03-06T22:33:37.112156",
     "status": "completed"
    },
    "tags": []
   },
   "source": [
    "# Introduction #\n",
    "\n",
    "In this exercise, you’ll learn how to improve training outcomes by including an early stopping callback to prevent overfitting.\n",
    "\n",
    "When you're ready, run this next cell to set everything up!"
   ]
  },
  {
   "cell_type": "code",
   "execution_count": 1,
   "id": "6b1090e4",
   "metadata": {
    "execution": {
     "iopub.execute_input": "2023-03-06T22:33:37.129763Z",
     "iopub.status.busy": "2023-03-06T22:33:37.129216Z",
     "iopub.status.idle": "2023-03-06T22:33:37.180367Z",
     "shell.execute_reply": "2023-03-06T22:33:37.179426Z"
    },
    "papermill": {
     "duration": 0.060428,
     "end_time": "2023-03-06T22:33:37.182903",
     "exception": false,
     "start_time": "2023-03-06T22:33:37.122475",
     "status": "completed"
    },
    "tags": []
   },
   "outputs": [],
   "source": [
    "# Setup plotting\n",
    "import matplotlib.pyplot as plt\n",
    "plt.style.use('seaborn-whitegrid')\n",
    "# Set Matplotlib defaults\n",
    "plt.rc('figure', autolayout=True)\n",
    "plt.rc('axes', labelweight='bold', labelsize='large',\n",
    "       titleweight='bold', titlesize=18, titlepad=10)\n",
    "plt.rc('animation', html='html5')\n",
    "\n",
    "# Setup feedback system\n",
    "from learntools.core import binder\n",
    "binder.bind(globals())\n",
    "from learntools.deep_learning_intro.ex4 import *"
   ]
  },
  {
   "cell_type": "markdown",
   "id": "357f62a2",
   "metadata": {
    "papermill": {
     "duration": 0.005095,
     "end_time": "2023-03-06T22:33:37.193455",
     "exception": false,
     "start_time": "2023-03-06T22:33:37.188360",
     "status": "completed"
    },
    "tags": []
   },
   "source": [
    "First load the *Spotify* dataset. Your task will be to predict the popularity of a song based on various audio features, like `'tempo'`, `'danceability'`, and `'mode'`."
   ]
  },
  {
   "cell_type": "code",
   "execution_count": 2,
   "id": "86639c04",
   "metadata": {
    "execution": {
     "iopub.execute_input": "2023-03-06T22:33:37.206732Z",
     "iopub.status.busy": "2023-03-06T22:33:37.205933Z",
     "iopub.status.idle": "2023-03-06T22:33:47.153069Z",
     "shell.execute_reply": "2023-03-06T22:33:47.151677Z"
    },
    "papermill": {
     "duration": 9.956847,
     "end_time": "2023-03-06T22:33:47.155941",
     "exception": false,
     "start_time": "2023-03-06T22:33:37.199094",
     "status": "completed"
    },
    "tags": []
   },
   "outputs": [
    {
     "name": "stdout",
     "output_type": "stream",
     "text": [
      "Input shape: [18]\n"
     ]
    }
   ],
   "source": [
    "import pandas as pd\n",
    "from sklearn.preprocessing import StandardScaler, OneHotEncoder\n",
    "from sklearn.compose import make_column_transformer\n",
    "from sklearn.model_selection import GroupShuffleSplit\n",
    "\n",
    "from tensorflow import keras\n",
    "from tensorflow.keras import layers\n",
    "from tensorflow.keras import callbacks\n",
    "\n",
    "spotify = pd.read_csv('../input/dl-course-data/spotify.csv')\n",
    "\n",
    "X = spotify.copy().dropna()\n",
    "y = X.pop('track_popularity')\n",
    "artists = X['track_artist']\n",
    "\n",
    "features_num = ['danceability', 'energy', 'key', 'loudness', 'mode',\n",
    "                'speechiness', 'acousticness', 'instrumentalness',\n",
    "                'liveness', 'valence', 'tempo', 'duration_ms']\n",
    "features_cat = ['playlist_genre']\n",
    "\n",
    "preprocessor = make_column_transformer(\n",
    "    (StandardScaler(), features_num),\n",
    "    (OneHotEncoder(), features_cat),\n",
    ")\n",
    "\n",
    "# We'll do a \"grouped\" split to keep all of an artist's songs in one\n",
    "# split or the other. This is to help prevent signal leakage.\n",
    "def group_split(X, y, group, train_size=0.75):\n",
    "    splitter = GroupShuffleSplit(train_size=train_size)\n",
    "    train, test = next(splitter.split(X, y, groups=group))\n",
    "    return (X.iloc[train], X.iloc[test], y.iloc[train], y.iloc[test])\n",
    "\n",
    "X_train, X_valid, y_train, y_valid = group_split(X, y, artists)\n",
    "\n",
    "X_train = preprocessor.fit_transform(X_train)\n",
    "X_valid = preprocessor.transform(X_valid)\n",
    "y_train = y_train / 100 # popularity is on a scale 0-100, so this rescales to 0-1.\n",
    "y_valid = y_valid / 100\n",
    "\n",
    "input_shape = [X_train.shape[1]]\n",
    "print(\"Input shape: {}\".format(input_shape))"
   ]
  },
  {
   "cell_type": "markdown",
   "id": "c3b4004a",
   "metadata": {
    "papermill": {
     "duration": 0.005239,
     "end_time": "2023-03-06T22:33:47.167133",
     "exception": false,
     "start_time": "2023-03-06T22:33:47.161894",
     "status": "completed"
    },
    "tags": []
   },
   "source": [
    "Let's start with the simplest network, a linear model. This model has low capacity.\n",
    "\n",
    "Run this next cell without any changes to train a linear model on the *Spotify* dataset."
   ]
  },
  {
   "cell_type": "code",
   "execution_count": 3,
   "id": "8c3f3f33",
   "metadata": {
    "execution": {
     "iopub.execute_input": "2023-03-06T22:33:47.181082Z",
     "iopub.status.busy": "2023-03-06T22:33:47.180263Z",
     "iopub.status.idle": "2023-03-06T22:33:58.834087Z",
     "shell.execute_reply": "2023-03-06T22:33:58.832910Z"
    },
    "lines_to_next_cell": 0,
    "papermill": {
     "duration": 11.663951,
     "end_time": "2023-03-06T22:33:58.837018",
     "exception": false,
     "start_time": "2023-03-06T22:33:47.173067",
     "status": "completed"
    },
    "tags": []
   },
   "outputs": [
    {
     "name": "stdout",
     "output_type": "stream",
     "text": [
      "Minimum Validation Loss: 0.1945\n"
     ]
    },
    {
     "data": {
      "image/png": "[encoded data removed]",
      "text/plain": [
       "<Figure size 640x480 with 1 Axes>"
      ]
     },
     "metadata": {},
     "output_type": "display_data"
    }
   ],
   "source": [
    "model = keras.Sequential([\n",
    "    layers.Dense(1, input_shape=input_shape),\n",
    "])\n",
    "model.compile(\n",
    "    optimizer='adam',\n",
    "    loss='mae',\n",
    ")\n",
    "history = model.fit(\n",
    "    X_train, y_train,\n",
    "    validation_data=(X_valid, y_valid),\n",
    "    batch_size=512,\n",
    "    epochs=50,\n",
    "    verbose=0, # suppress output since we'll plot the curves\n",
    ")\n",
    "history_df = pd.DataFrame(history.history)\n",
    "history_df.loc[0:, ['loss', 'val_loss']].plot()\n",
    "print(\"Minimum Validation Loss: {:0.4f}\".format(history_df['val_loss'].min()));"
   ]
  },
  {
   "cell_type": "markdown",
   "id": "45642158",
   "metadata": {
    "papermill": {
     "duration": 0.005694,
     "end_time": "2023-03-06T22:33:58.848834",
     "exception": false,
     "start_time": "2023-03-06T22:33:58.843140",
     "status": "completed"
    },
    "tags": []
   },
   "source": [
    "It's not uncommon for the curves to follow a \"hockey stick\" pattern like you see here. This makes the final part of training hard to see, so let's start at epoch 10 instead:"
   ]
  },
  {
   "cell_type": "code",
   "execution_count": 4,
   "id": "70fa1f81",
   "metadata": {
    "execution": {
     "iopub.execute_input": "2023-03-06T22:33:58.862986Z",
     "iopub.status.busy": "2023-03-06T22:33:58.862090Z",
     "iopub.status.idle": "2023-03-06T22:33:59.214354Z",
     "shell.execute_reply": "2023-03-06T22:33:59.213109Z"
    },
    "papermill": {
     "duration": 0.362475,
     "end_time": "2023-03-06T22:33:59.217194",
     "exception": false,
     "start_time": "2023-03-06T22:33:58.854719",
     "status": "completed"
    },
    "tags": []
   },
   "outputs": [
    {
     "name": "stdout",
     "output_type": "stream",
     "text": [
      "Minimum Validation Loss: 0.1945\n"
     ]
    },
    {
     "data": {
      "image/png": "[encoded data removed]",
      "text/plain": [
       "<Figure size 640x480 with 1 Axes>"
      ]
     },
     "metadata": {},
     "output_type": "display_data"
    }
   ],
   "source": [
    "# Start the plot at epoch 10\n",
    "history_df.loc[10:, ['loss', 'val_loss']].plot()\n",
    "print(\"Minimum Validation Loss: {:0.4f}\".format(history_df['val_loss'].min()));"
   ]
  },
  {
   "cell_type": "markdown",
   "id": "b35d5641",
   "metadata": {
    "papermill": {
     "duration": 0.006712,
     "end_time": "2023-03-06T22:33:59.230805",
     "exception": false,
     "start_time": "2023-03-06T22:33:59.224093",
     "status": "completed"
    },
    "tags": []
   },
   "source": [
    "# 1) Evaluate Baseline\n",
    "\n",
    "What do you think? Would you say this model is underfitting, overfitting, just right?"
   ]
  },
  {
   "cell_type": "code",
   "execution_count": 5,
   "id": "5b94b039",
   "metadata": {
    "execution": {
     "iopub.execute_input": "2023-03-06T22:33:59.246047Z",
     "iopub.status.busy": "2023-03-06T22:33:59.245635Z",
     "iopub.status.idle": "2023-03-06T22:33:59.256308Z",
     "shell.execute_reply": "2023-03-06T22:33:59.255357Z"
    },
    "papermill": {
     "duration": 0.021259,
     "end_time": "2023-03-06T22:33:59.258790",
     "exception": false,
     "start_time": "2023-03-06T22:33:59.237531",
     "status": "completed"
    },
    "tags": []
   },
   "outputs": [
    {
     "data": {
      "application/javascript": [
       "parent.postMessage({\"jupyterEvent\": \"custom.exercise_interaction\", \"data\": {\"outcomeType\": 1, \"valueTowardsCompletion\": 0.25, \"interactionType\": 1, \"questionType\": 4, \"questionId\": \"1_Q1\", \"learnToolsVersion\": \"0.3.4\", \"failureMessage\": \"\", \"exceptionClass\": \"\", \"trace\": \"\"}}, \"*\")"
      ],
      "text/plain": [
       "<IPython.core.display.Javascript object>"
      ]
     },
     "metadata": {},
     "output_type": "display_data"
    },
    {
     "data": {
      "text/markdown": [
       "<span style=\"color:#33cc33\">Correct:</span> \n",
       "\n",
       "The gap between these curves is quite small and the validation loss never increases, so it's more likely that the network is underfitting than overfitting. It would be worth experimenting with more capacity to see if that's the case."
      ],
      "text/plain": [
       "Correct: \n",
       "\n",
       "The gap between these curves is quite small and the validation loss never increases, so it's more likely that the network is underfitting than overfitting. It would be worth experimenting with more capacity to see if that's the case."
      ]
     },
     "metadata": {},
     "output_type": "display_data"
    }
   ],
   "source": [
    "# View the solution (Run this cell to receive credit!)\n",
    "q_1.check()"
   ]
  },
  {
   "cell_type": "markdown",
   "id": "8c1881ba",
   "metadata": {
    "papermill": {
     "duration": 0.006566,
     "end_time": "2023-03-06T22:33:59.273336",
     "exception": false,
     "start_time": "2023-03-06T22:33:59.266770",
     "status": "completed"
    },
    "tags": []
   },
   "source": [
    "Now let's add some capacity to our network. We'll add three hidden layers with 128 units each. Run the next cell to train the network and see the learning curves."
   ]
  },
  {
   "cell_type": "code",
   "execution_count": 6,
   "id": "840cae9d",
   "metadata": {
    "execution": {
     "iopub.execute_input": "2023-03-06T22:33:59.289187Z",
     "iopub.status.busy": "2023-03-06T22:33:59.288591Z",
     "iopub.status.idle": "2023-03-06T22:34:10.833873Z",
     "shell.execute_reply": "2023-03-06T22:34:10.832608Z"
    },
    "papermill": {
     "duration": 11.556455,
     "end_time": "2023-03-06T22:34:10.836659",
     "exception": false,
     "start_time": "2023-03-06T22:33:59.280204",
     "status": "completed"
    },
    "tags": []
   },
   "outputs": [
    {
     "name": "stdout",
     "output_type": "stream",
     "text": [
      "Epoch 1/50\n",
      "48/48 [==============================] - 1s 7ms/step - loss: 0.2198 - val_loss: 0.2037\n",
      "Epoch 2/50\n",
      "48/48 [==============================] - 0s 4ms/step - loss: 0.1993 - val_loss: 0.1991\n",
      "Epoch 3/50\n",
      "48/48 [==============================] - 0s 4ms/step - loss: 0.1962 - val_loss: 0.1975\n",
      "Epoch 4/50\n",
      "48/48 [==============================] - 0s 4ms/step - loss: 0.1924 - val_loss: 0.1972\n",
      "Epoch 5/50\n",
      "48/48 [==============================] - 0s 4ms/step - loss: 0.1905 - val_loss: 0.1963\n",
      "Epoch 6/50\n",
      "48/48 [==============================] - 0s 4ms/step - loss: 0.1889 - val_loss: 0.1975\n",
      "Epoch 7/50\n",
      "48/48 [==============================] - 0s 4ms/step - loss: 0.1873 - val_loss: 0.1963\n",
      "Epoch 8/50\n",
      "48/48 [==============================] - 0s 4ms/step - loss: 0.1865 - val_loss: 0.1957\n",
      "Epoch 9/50\n",
      "48/48 [==============================] - 0s 4ms/step - loss: 0.1856 - val_loss: 0.1959\n",
      "Epoch 10/50\n",
      "48/48 [==============================] - 0s 5ms/step - loss: 0.1852 - val_loss: 0.1961\n",
      "Epoch 11/50\n",
      "48/48 [==============================] - 0s 5ms/step - loss: 0.1843 - val_loss: 0.1954\n",
      "Epoch 12/50\n",
      "48/48 [==============================] - 0s 5ms/step - loss: 0.1836 - val_loss: 0.1980\n",
      "Epoch 13/50\n",
      "48/48 [==============================] - 0s 5ms/step - loss: 0.1827 - val_loss: 0.1969\n",
      "Epoch 14/50\n",
      "48/48 [==============================] - 0s 5ms/step - loss: 0.1819 - val_loss: 0.1951\n",
      "Epoch 15/50\n",
      "48/48 [==============================] - 0s 5ms/step - loss: 0.1807 - val_loss: 0.1993\n",
      "Epoch 16/50\n",
      "48/48 [==============================] - 0s 4ms/step - loss: 0.1808 - val_loss: 0.1959\n",
      "Epoch 17/50\n",
      "48/48 [==============================] - 0s 4ms/step - loss: 0.1798 - val_loss: 0.1971\n",
      "Epoch 18/50\n",
      "48/48 [==============================] - 0s 4ms/step - loss: 0.1792 - val_loss: 0.1974\n",
      "Epoch 19/50\n",
      "48/48 [==============================] - 0s 4ms/step - loss: 0.1789 - val_loss: 0.1971\n",
      "Epoch 20/50\n",
      "48/48 [==============================] - 0s 4ms/step - loss: 0.1785 - val_loss: 0.1990\n",
      "Epoch 21/50\n",
      "48/48 [==============================] - 0s 4ms/step - loss: 0.1785 - val_loss: 0.1983\n",
      "Epoch 22/50\n",
      "48/48 [==============================] - 0s 4ms/step - loss: 0.1773 - val_loss: 0.1976\n",
      "Epoch 23/50\n",
      "48/48 [==============================] - 0s 4ms/step - loss: 0.1764 - val_loss: 0.1970\n",
      "Epoch 24/50\n",
      "48/48 [==============================] - 0s 4ms/step - loss: 0.1767 - val_loss: 0.1989\n",
      "Epoch 25/50\n",
      "48/48 [==============================] - 0s 4ms/step - loss: 0.1756 - val_loss: 0.1976\n",
      "Epoch 26/50\n",
      "48/48 [==============================] - 0s 5ms/step - loss: 0.1750 - val_loss: 0.1978\n",
      "Epoch 27/50\n",
      "48/48 [==============================] - 0s 4ms/step - loss: 0.1755 - val_loss: 0.1987\n",
      "Epoch 28/50\n",
      "48/48 [==============================] - 0s 4ms/step - loss: 0.1742 - val_loss: 0.1986\n",
      "Epoch 29/50\n",
      "48/48 [==============================] - 0s 4ms/step - loss: 0.1741 - val_loss: 0.1986\n",
      "Epoch 30/50\n",
      "48/48 [==============================] - 0s 4ms/step - loss: 0.1738 - val_loss: 0.1991\n",
      "Epoch 31/50\n",
      "48/48 [==============================] - 0s 5ms/step - loss: 0.1736 - val_loss: 0.1987\n",
      "Epoch 32/50\n",
      "48/48 [==============================] - 0s 4ms/step - loss: 0.1722 - val_loss: 0.2003\n",
      "Epoch 33/50\n",
      "48/48 [==============================] - 0s 4ms/step - loss: 0.1715 - val_loss: 0.1999\n",
      "Epoch 34/50\n",
      "48/48 [==============================] - 0s 4ms/step - loss: 0.1717 - val_loss: 0.2005\n",
      "Epoch 35/50\n",
      "48/48 [==============================] - 0s 5ms/step - loss: 0.1717 - val_loss: 0.2001\n",
      "Epoch 36/50\n",
      "48/48 [==============================] - 0s 5ms/step - loss: 0.1706 - val_loss: 0.2006\n",
      "Epoch 37/50\n",
      "48/48 [==============================] - 0s 4ms/step - loss: 0.1702 - val_loss: 0.2005\n",
      "Epoch 38/50\n",
      "48/48 [==============================] - 0s 4ms/step - loss: 0.1702 - val_loss: 0.2010\n",
      "Epoch 39/50\n",
      "48/48 [==============================] - 0s 4ms/step - loss: 0.1700 - val_loss: 0.2030\n",
      "Epoch 40/50\n",
      "48/48 [==============================] - 0s 4ms/step - loss: 0.1688 - val_loss: 0.2010\n",
      "Epoch 41/50\n",
      "48/48 [==============================] - 0s 5ms/step - loss: 0.1680 - val_loss: 0.2015\n",
      "Epoch 42/50\n",
      "48/48 [==============================] - 0s 4ms/step - loss: 0.1677 - val_loss: 0.2018\n",
      "Epoch 43/50\n",
      "48/48 [==============================] - 0s 4ms/step - loss: 0.1674 - val_loss: 0.2025\n",
      "Epoch 44/50\n",
      "48/48 [==============================] - 0s 4ms/step - loss: 0.1664 - val_loss: 0.2019\n",
      "Epoch 45/50\n",
      "48/48 [==============================] - 0s 4ms/step - loss: 0.1669 - val_loss: 0.2023\n",
      "Epoch 46/50\n",
      "48/48 [==============================] - 0s 4ms/step - loss: 0.1656 - val_loss: 0.2024\n",
      "Epoch 47/50\n",
      "48/48 [==============================] - 0s 4ms/step - loss: 0.1656 - val_loss: 0.2043\n",
      "Epoch 48/50\n",
      "48/48 [==============================] - 0s 4ms/step - loss: 0.1654 - val_loss: 0.2039\n",
      "Epoch 49/50\n",
      "48/48 [==============================] - 0s 4ms/step - loss: 0.1655 - val_loss: 0.2029\n",
      "Epoch 50/50\n",
      "48/48 [==============================] - 0s 4ms/step - loss: 0.1647 - val_loss: 0.2046\n",
      "Minimum Validation Loss: 0.1951\n"
     ]
    },
    {
     "data": {
      "image/png": "[encoded data removed]",
      "text/plain": [
       "<Figure size 640x480 with 1 Axes>"
      ]
     },
     "metadata": {},
     "output_type": "display_data"
    }
   ],
   "source": [
    "model = keras.Sequential([\n",
    "    layers.Dense(128, activation='relu', input_shape=input_shape),\n",
    "    layers.Dense(64, activation='relu'),\n",
    "    layers.Dense(1)\n",
    "])\n",
    "model.compile(\n",
    "    optimizer='adam',\n",
    "    loss='mae',\n",
    ")\n",
    "history = model.fit(\n",
    "    X_train, y_train,\n",
    "    validation_data=(X_valid, y_valid),\n",
    "    batch_size=512,\n",
    "    epochs=50,\n",
    ")\n",
    "history_df = pd.DataFrame(history.history)\n",
    "history_df.loc[:, ['loss', 'val_loss']].plot()\n",
    "print(\"Minimum Validation Loss: {:0.4f}\".format(history_df['val_loss'].min()));"
   ]
  },
  {
   "cell_type": "markdown",
   "id": "79946c36",
   "metadata": {
    "papermill": {
     "duration": 0.022351,
     "end_time": "2023-03-06T22:34:10.882315",
     "exception": false,
     "start_time": "2023-03-06T22:34:10.859964",
     "status": "completed"
    },
    "tags": []
   },
   "source": [
    "# 2) Add Capacity\n",
    "\n",
    "What is your evaluation of these curves? Underfitting, overfitting, just right?"
   ]
  },
  {
   "cell_type": "code",
   "execution_count": 7,
   "id": "1ee64b5b",
   "metadata": {
    "execution": {
     "iopub.execute_input": "2023-03-06T22:34:10.941363Z",
     "iopub.status.busy": "2023-03-06T22:34:10.938264Z",
     "iopub.status.idle": "2023-03-06T22:34:10.953921Z",
     "shell.execute_reply": "2023-03-06T22:34:10.951587Z"
    },
    "papermill": {
     "duration": 0.049956,
     "end_time": "2023-03-06T22:34:10.956661",
     "exception": false,
     "start_time": "2023-03-06T22:34:10.906705",
     "status": "completed"
    },
    "tags": []
   },
   "outputs": [
    {
     "data": {
      "application/javascript": [
       "parent.postMessage({\"jupyterEvent\": \"custom.exercise_interaction\", \"data\": {\"outcomeType\": 1, \"valueTowardsCompletion\": 0.25, \"interactionType\": 1, \"questionType\": 4, \"questionId\": \"2_Q2\", \"learnToolsVersion\": \"0.3.4\", \"failureMessage\": \"\", \"exceptionClass\": \"\", \"trace\": \"\"}}, \"*\")"
      ],
      "text/plain": [
       "<IPython.core.display.Javascript object>"
      ]
     },
     "metadata": {},
     "output_type": "display_data"
    },
    {
     "data": {
      "text/markdown": [
       "<span style=\"color:#33cc33\">Correct:</span> \n",
       "\n",
       "Now the validation loss begins to rise very early, while the training loss continues to decrease. This indicates that the network has begun to overfit. At this point, we would need to try something to prevent it, either by reducing the number of units or through a method like early stopping. (We'll see another in the next lesson!)"
      ],
      "text/plain": [
       "Correct: \n",
       "\n",
       "Now the validation loss begins to rise very early, while the training loss continues to decrease. This indicates that the network has begun to overfit. At this point, we would need to try something to prevent it, either by reducing the number of units or through a method like early stopping. (We'll see another in the next lesson!)"
      ]
     },
     "metadata": {},
     "output_type": "display_data"
    }
   ],
   "source": [
    "# View the solution (Run this cell to receive credit!)\n",
    "q_2.check()"
   ]
  },
  {
   "cell_type": "markdown",
   "id": "2ea91e93",
   "metadata": {
    "papermill": {
     "duration": 0.023972,
     "end_time": "2023-03-06T22:34:11.010418",
     "exception": false,
     "start_time": "2023-03-06T22:34:10.986446",
     "status": "completed"
    },
    "tags": []
   },
   "source": [
    "# 3) Define Early Stopping Callback\n",
    "\n",
    "Now define an early stopping callback that waits 5 epochs (`patience'`) for a change in validation loss of at least `0.001` (`min_delta`) and keeps the weights with the best loss (`restore_best_weights`)."
   ]
  },
  {
   "cell_type": "code",
   "execution_count": 8,
   "id": "c365a0c1",
   "metadata": {
    "execution": {
     "iopub.execute_input": "2023-03-06T22:34:11.060193Z",
     "iopub.status.busy": "2023-03-06T22:34:11.059444Z",
     "iopub.status.idle": "2023-03-06T22:34:11.068665Z",
     "shell.execute_reply": "2023-03-06T22:34:11.067511Z"
    },
    "lines_to_next_cell": 0,
    "papermill": {
     "duration": 0.036933,
     "end_time": "2023-03-06T22:34:11.071134",
     "exception": false,
     "start_time": "2023-03-06T22:34:11.034201",
     "status": "completed"
    },
    "tags": []
   },
   "outputs": [
    {
     "data": {
      "application/javascript": [
       "parent.postMessage({\"jupyterEvent\": \"custom.exercise_interaction\", \"data\": {\"outcomeType\": 1, \"valueTowardsCompletion\": 0.25, \"interactionType\": 1, \"questionType\": 2, \"questionId\": \"3_Q3\", \"learnToolsVersion\": \"0.3.4\", \"failureMessage\": \"\", \"exceptionClass\": \"\", \"trace\": \"\"}}, \"*\")"
      ],
      "text/plain": [
       "<IPython.core.display.Javascript object>"
      ]
     },
     "metadata": {},
     "output_type": "display_data"
    },
    {
     "data": {
      "text/markdown": [
       "<span style=\"color:#33cc33\">Correct</span>"
      ],
      "text/plain": [
       "Correct"
      ]
     },
     "metadata": {},
     "output_type": "display_data"
    }
   ],
   "source": [
    "from tensorflow.keras import callbacks\n",
    "\n",
    "# YOUR CODE HERE: define an early stopping callback\n",
    "early_stopping = callbacks.EarlyStopping(\n",
    "    patience=5,\n",
    "    min_delta=0.001,\n",
    "    restore_best_weights=True,\n",
    ")\n",
    "\n",
    "# Check your answer\n",
    "q_3.check()"
   ]
  },
  {
   "cell_type": "code",
   "execution_count": 9,
   "id": "6131a656",
   "metadata": {
    "execution": {
     "iopub.execute_input": "2023-03-06T22:34:11.121400Z",
     "iopub.status.busy": "2023-03-06T22:34:11.120655Z",
     "iopub.status.idle": "2023-03-06T22:34:11.125726Z",
     "shell.execute_reply": "2023-03-06T22:34:11.124502Z"
    },
    "papermill": {
     "duration": 0.033181,
     "end_time": "2023-03-06T22:34:11.128222",
     "exception": false,
     "start_time": "2023-03-06T22:34:11.095041",
     "status": "completed"
    },
    "tags": []
   },
   "outputs": [],
   "source": [
    "# Lines below will give you a hint or solution code\n",
    "#q_3.hint()\n",
    "#q_3.solution()"
   ]
  },
  {
   "cell_type": "markdown",
   "id": "2bee6b5a",
   "metadata": {
    "papermill": {
     "duration": 0.023875,
     "end_time": "2023-03-06T22:34:11.176379",
     "exception": false,
     "start_time": "2023-03-06T22:34:11.152504",
     "status": "completed"
    },
    "tags": []
   },
   "source": [
    "Now run this cell to train the model and get the learning curves. Notice the `callbacks` argument in `model.fit`."
   ]
  },
  {
   "cell_type": "code",
   "execution_count": 10,
   "id": "af978556",
   "metadata": {
    "execution": {
     "iopub.execute_input": "2023-03-06T22:34:11.225319Z",
     "iopub.status.busy": "2023-03-06T22:34:11.224887Z",
     "iopub.status.idle": "2023-03-06T22:34:14.532233Z",
     "shell.execute_reply": "2023-03-06T22:34:14.531054Z"
    },
    "papermill": {
     "duration": 3.334418,
     "end_time": "2023-03-06T22:34:14.534686",
     "exception": false,
     "start_time": "2023-03-06T22:34:11.200268",
     "status": "completed"
    },
    "tags": []
   },
   "outputs": [
    {
     "name": "stdout",
     "output_type": "stream",
     "text": [
      "Epoch 1/50\n",
      "48/48 [==============================] - 1s 7ms/step - loss: 0.2519 - val_loss: 0.2066\n",
      "Epoch 2/50\n",
      "48/48 [==============================] - 0s 4ms/step - loss: 0.2029 - val_loss: 0.2013\n",
      "Epoch 3/50\n",
      "48/48 [==============================] - 0s 5ms/step - loss: 0.1978 - val_loss: 0.1970\n",
      "Epoch 4/50\n",
      "48/48 [==============================] - 0s 5ms/step - loss: 0.1945 - val_loss: 0.1963\n",
      "Epoch 5/50\n",
      "48/48 [==============================] - 0s 5ms/step - loss: 0.1927 - val_loss: 0.1956\n",
      "Epoch 6/50\n",
      "48/48 [==============================] - 0s 5ms/step - loss: 0.1910 - val_loss: 0.1955\n",
      "Epoch 7/50\n",
      "48/48 [==============================] - 0s 4ms/step - loss: 0.1895 - val_loss: 0.1962\n",
      "Epoch 8/50\n",
      "48/48 [==============================] - 0s 4ms/step - loss: 0.1888 - val_loss: 0.1950\n",
      "Epoch 9/50\n",
      "48/48 [==============================] - 0s 4ms/step - loss: 0.1874 - val_loss: 0.1977\n",
      "Epoch 10/50\n",
      "48/48 [==============================] - 0s 4ms/step - loss: 0.1869 - val_loss: 0.1964\n",
      "Minimum Validation Loss: 0.1950\n"
     ]
    },
    {
     "data": {
      "image/png": "[encoded data removed]",
      "text/plain": [
       "<Figure size 640x480 with 1 Axes>"
      ]
     },
     "metadata": {},
     "output_type": "display_data"
    }
   ],
   "source": [
    "model = keras.Sequential([\n",
    "    layers.Dense(128, activation='relu', input_shape=input_shape),\n",
    "    layers.Dense(64, activation='relu'),    \n",
    "    layers.Dense(1)\n",
    "])\n",
    "model.compile(\n",
    "    optimizer='adam',\n",
    "    loss='mae',\n",
    ")\n",
    "history = model.fit(\n",
    "    X_train, y_train,\n",
    "    validation_data=(X_valid, y_valid),\n",
    "    batch_size=512,\n",
    "    epochs=50,\n",
    "    callbacks=[early_stopping]\n",
    ")\n",
    "history_df = pd.DataFrame(history.history)\n",
    "history_df.loc[:, ['loss', 'val_loss']].plot()\n",
    "print(\"Minimum Validation Loss: {:0.4f}\".format(history_df['val_loss'].min()));"
   ]
  },
  {
   "cell_type": "markdown",
   "id": "9a682567",
   "metadata": {
    "papermill": {
     "duration": 0.027921,
     "end_time": "2023-03-06T22:34:14.590853",
     "exception": false,
     "start_time": "2023-03-06T22:34:14.562932",
     "status": "completed"
    },
    "tags": []
   },
   "source": [
    "# 4) Train and Interpret\n",
    "\n",
    "Was this an improvement compared to training without early stopping?"
   ]
  },
  {
   "cell_type": "code",
   "execution_count": 11,
   "id": "7e951ccf",
   "metadata": {
    "execution": {
     "iopub.execute_input": "2023-03-06T22:34:14.648147Z",
     "iopub.status.busy": "2023-03-06T22:34:14.647761Z",
     "iopub.status.idle": "2023-03-06T22:34:14.657528Z",
     "shell.execute_reply": "2023-03-06T22:34:14.656438Z"
    },
    "papermill": {
     "duration": 0.041096,
     "end_time": "2023-03-06T22:34:14.659704",
     "exception": false,
     "start_time": "2023-03-06T22:34:14.618608",
     "status": "completed"
    },
    "tags": []
   },
   "outputs": [
    {
     "data": {
      "application/javascript": [
       "parent.postMessage({\"jupyterEvent\": \"custom.exercise_interaction\", \"data\": {\"outcomeType\": 1, \"valueTowardsCompletion\": 0.25, \"interactionType\": 1, \"questionType\": 4, \"questionId\": \"4_Q4\", \"learnToolsVersion\": \"0.3.4\", \"failureMessage\": \"\", \"exceptionClass\": \"\", \"trace\": \"\"}}, \"*\")"
      ],
      "text/plain": [
       "<IPython.core.display.Javascript object>"
      ]
     },
     "metadata": {},
     "output_type": "display_data"
    },
    {
     "data": {
      "text/markdown": [
       "<span style=\"color:#33cc33\">Correct:</span> \n",
       "\n",
       "The early stopping callback did stop the training once the network began overfitting. Moreover, by including `restore_best_weights` we still get to keep the model where validation loss was lowest."
      ],
      "text/plain": [
       "Correct: \n",
       "\n",
       "The early stopping callback did stop the training once the network began overfitting. Moreover, by including `restore_best_weights` we still get to keep the model where validation loss was lowest."
      ]
     },
     "metadata": {},
     "output_type": "display_data"
    }
   ],
   "source": [
    "# View the solution (Run this cell to receive credit!)\n",
    "q_4.check()"
   ]
  },
  {
   "cell_type": "markdown",
   "id": "ea214dd9",
   "metadata": {
    "papermill": {
     "duration": 0.027061,
     "end_time": "2023-03-06T22:34:14.714881",
     "exception": false,
     "start_time": "2023-03-06T22:34:14.687820",
     "status": "completed"
    },
    "tags": []
   },
   "source": [
    "If you like, try experimenting with `patience` and `min_delta` to see what difference it might make.\n",
    "\n",
    "# Keep Going #\n",
    "\n",
    "Move on to [**learn about a couple of special layers**](https://www.kaggle.com/ryanholbrook/dropout-and-batch-normalization): batch normalization and dropout."
   ]
  },
  {
   "cell_type": "markdown",
   "id": "4e5e4faf",
   "metadata": {
    "papermill": {
     "duration": 0.02735,
     "end_time": "2023-03-06T22:34:14.769755",
     "exception": false,
     "start_time": "2023-03-06T22:34:14.742405",
     "status": "completed"
    },
    "tags": []
   },
   "source": [
    "---\n",
    "\n",
    "\n",
    "\n",
    "\n",
    "*Have questions or comments? Visit the [course discussion forum](https://www.kaggle.com/learn/intro-to-deep-learning/discussion) to chat with other learners.*"
   ]
  }
 ],
 "metadata": {
  "kernelspec": {
   "display_name": "Python 3",
   "language": "python",
   "name": "python3"
  },
  "language_info": {
   "codemirror_mode": {
    "name": "ipython",
    "version": 3
   },
   "file_extension": ".py",
   "mimetype": "text/x-python",
   "name": "python",
   "nbconvert_exporter": "python",
   "pygments_lexer": "ipython3",
   "version": "3.7.12"
  },
  "papermill": {
   "default_parameters": {},
   "duration": 50.682175,
   "end_time": "2023-03-06T22:34:17.835752",
   "environment_variables": {},
   "exception": null,
   "input_path": "__notebook__.ipynb",
   "output_path": "__notebook__.ipynb",
   "parameters": {},
   "start_time": "2023-03-06T22:33:27.153577",
   "version": "2.4.0"
  }
 },
 "nbformat": 4,
 "nbformat_minor": 5
}
