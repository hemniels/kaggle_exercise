{
 "cells": [
  {
   "cell_type": "markdown",
   "id": "3c8853e0",
   "metadata": {
    "papermill": {
     "duration": 0.008994,
     "end_time": "2023-03-06T22:38:32.240434",
     "exception": false,
     "start_time": "2023-03-06T22:38:32.231440",
     "status": "completed"
    },
    "tags": []
   },
   "source": [
    "**This notebook is an exercise in the [Intro to Deep Learning](https://www.kaggle.com/learn/intro-to-deep-learning) course.  You can reference the tutorial at [this link](https://www.kaggle.com/ryanholbrook/dropout-and-batch-normalization).**\n",
    "\n",
    "---\n"
   ]
  },
  {
   "cell_type": "markdown",
   "id": "17f07206",
   "metadata": {
    "papermill": {
     "duration": 0.005955,
     "end_time": "2023-03-06T22:38:32.253589",
     "exception": false,
     "start_time": "2023-03-06T22:38:32.247634",
     "status": "completed"
    },
    "tags": []
   },
   "source": [
    "# Introduction #\n",
    "\n",
    "In this exercise, you'll add dropout to the *Spotify* model from Exercise 4 and see how batch normalization can let you successfully train models on difficult datasets.\n",
    "\n",
    "Run the next cell to get started!"
   ]
  },
  {
   "cell_type": "code",
   "execution_count": 1,
   "id": "95ce920e",
   "metadata": {
    "execution": {
     "iopub.execute_input": "2023-03-06T22:38:32.270512Z",
     "iopub.status.busy": "2023-03-06T22:38:32.268882Z",
     "iopub.status.idle": "2023-03-06T22:38:32.337599Z",
     "shell.execute_reply": "2023-03-06T22:38:32.335856Z"
    },
    "papermill": {
     "duration": 0.080902,
     "end_time": "2023-03-06T22:38:32.341361",
     "exception": false,
     "start_time": "2023-03-06T22:38:32.260459",
     "status": "completed"
    },
    "tags": []
   },
   "outputs": [],
   "source": [
    "# Setup plotting\n",
    "import matplotlib.pyplot as plt\n",
    "plt.style.use('seaborn-whitegrid')\n",
    "# Set Matplotlib defaults\n",
    "plt.rc('figure', autolayout=True)\n",
    "plt.rc('axes', labelweight='bold', labelsize='large',\n",
    "       titleweight='bold', titlesize=18, titlepad=10)\n",
    "plt.rc('animation', html='html5')\n",
    "\n",
    "# Setup feedback system\n",
    "from learntools.core import binder\n",
    "binder.bind(globals())\n",
    "from learntools.deep_learning_intro.ex5 import *"
   ]
  },
  {
   "cell_type": "markdown",
   "id": "41b499f2",
   "metadata": {
    "papermill": {
     "duration": 0.006072,
     "end_time": "2023-03-06T22:38:32.354544",
     "exception": false,
     "start_time": "2023-03-06T22:38:32.348472",
     "status": "completed"
    },
    "tags": []
   },
   "source": [
    "First load the *Spotify* dataset."
   ]
  },
  {
   "cell_type": "code",
   "execution_count": 2,
   "id": "81c2ee3c",
   "metadata": {
    "execution": {
     "iopub.execute_input": "2023-03-06T22:38:32.370608Z",
     "iopub.status.busy": "2023-03-06T22:38:32.370068Z",
     "iopub.status.idle": "2023-03-06T22:38:46.914406Z",
     "shell.execute_reply": "2023-03-06T22:38:46.912561Z"
    },
    "papermill": {
     "duration": 14.556464,
     "end_time": "2023-03-06T22:38:46.918271",
     "exception": false,
     "start_time": "2023-03-06T22:38:32.361807",
     "status": "completed"
    },
    "tags": []
   },
   "outputs": [
    {
     "name": "stdout",
     "output_type": "stream",
     "text": [
      "Input shape: [18]\n"
     ]
    }
   ],
   "source": [
    "import pandas as pd\n",
    "from sklearn.preprocessing import StandardScaler, OneHotEncoder\n",
    "from sklearn.compose import make_column_transformer\n",
    "from sklearn.model_selection import GroupShuffleSplit\n",
    "\n",
    "from tensorflow import keras\n",
    "from tensorflow.keras import layers\n",
    "from tensorflow.keras import callbacks\n",
    "\n",
    "spotify = pd.read_csv('../input/dl-course-data/spotify.csv')\n",
    "\n",
    "X = spotify.copy().dropna()\n",
    "y = X.pop('track_popularity')\n",
    "artists = X['track_artist']\n",
    "\n",
    "features_num = ['danceability', 'energy', 'key', 'loudness', 'mode',\n",
    "                'speechiness', 'acousticness', 'instrumentalness',\n",
    "                'liveness', 'valence', 'tempo', 'duration_ms']\n",
    "features_cat = ['playlist_genre']\n",
    "\n",
    "preprocessor = make_column_transformer(\n",
    "    (StandardScaler(), features_num),\n",
    "    (OneHotEncoder(), features_cat),\n",
    ")\n",
    "\n",
    "def group_split(X, y, group, train_size=0.75):\n",
    "    splitter = GroupShuffleSplit(train_size=train_size)\n",
    "    train, test = next(splitter.split(X, y, groups=group))\n",
    "    return (X.iloc[train], X.iloc[test], y.iloc[train], y.iloc[test])\n",
    "\n",
    "X_train, X_valid, y_train, y_valid = group_split(X, y, artists)\n",
    "\n",
    "X_train = preprocessor.fit_transform(X_train)\n",
    "X_valid = preprocessor.transform(X_valid)\n",
    "y_train = y_train / 100\n",
    "y_valid = y_valid / 100\n",
    "\n",
    "input_shape = [X_train.shape[1]]\n",
    "print(\"Input shape: {}\".format(input_shape))"
   ]
  },
  {
   "cell_type": "markdown",
   "id": "be9af927",
   "metadata": {
    "papermill": {
     "duration": 0.005776,
     "end_time": "2023-03-06T22:38:46.930480",
     "exception": false,
     "start_time": "2023-03-06T22:38:46.924704",
     "status": "completed"
    },
    "tags": []
   },
   "source": [
    "# 1) Add Dropout to Spotify Model\n",
    "\n",
    "Here is the last model from Exercise 4. Add two dropout layers, one after the `Dense` layer with 128 units, and one after the `Dense` layer with 64 units. Set the dropout rate on both to `0.3`."
   ]
  },
  {
   "cell_type": "code",
   "execution_count": 3,
   "id": "94edc3be",
   "metadata": {
    "execution": {
     "iopub.execute_input": "2023-03-06T22:38:46.945435Z",
     "iopub.status.busy": "2023-03-06T22:38:46.944955Z",
     "iopub.status.idle": "2023-03-06T22:38:47.239567Z",
     "shell.execute_reply": "2023-03-06T22:38:47.238219Z"
    },
    "lines_to_next_cell": 2,
    "papermill": {
     "duration": 0.305658,
     "end_time": "2023-03-06T22:38:47.242362",
     "exception": false,
     "start_time": "2023-03-06T22:38:46.936704",
     "status": "completed"
    },
    "tags": []
   },
   "outputs": [
    {
     "data": {
      "application/javascript": [
       "parent.postMessage({\"jupyterEvent\": \"custom.exercise_interaction\", \"data\": {\"outcomeType\": 1, \"valueTowardsCompletion\": 0.25, \"interactionType\": 1, \"questionType\": 2, \"questionId\": \"1_Q1\", \"learnToolsVersion\": \"0.3.4\", \"failureMessage\": \"\", \"exceptionClass\": \"\", \"trace\": \"\"}}, \"*\")"
      ],
      "text/plain": [
       "<IPython.core.display.Javascript object>"
      ]
     },
     "metadata": {},
     "output_type": "display_data"
    },
    {
     "data": {
      "text/markdown": [
       "<span style=\"color:#33cc33\">Correct</span>"
      ],
      "text/plain": [
       "Correct"
      ]
     },
     "metadata": {},
     "output_type": "display_data"
    }
   ],
   "source": [
    "# YOUR CODE HERE: Add two 30% dropout layers, one after 128 and one after 64\n",
    "model = keras.Sequential([\n",
    "    layers.Dense(128, activation='relu', input_shape=input_shape),\n",
    "    layers.Dropout(0.3),\n",
    "    layers.Dense(64, activation='relu'),\n",
    "    layers.Dropout(0.3),\n",
    "    layers.Dense(1)\n",
    "])\n",
    "\n",
    "# Check your answer\n",
    "q_1.check()"
   ]
  },
  {
   "cell_type": "code",
   "execution_count": 4,
   "id": "81dfa19a",
   "metadata": {
    "execution": {
     "iopub.execute_input": "2023-03-06T22:38:47.257573Z",
     "iopub.status.busy": "2023-03-06T22:38:47.257085Z",
     "iopub.status.idle": "2023-03-06T22:38:47.263106Z",
     "shell.execute_reply": "2023-03-06T22:38:47.261554Z"
    },
    "papermill": {
     "duration": 0.016859,
     "end_time": "2023-03-06T22:38:47.265785",
     "exception": false,
     "start_time": "2023-03-06T22:38:47.248926",
     "status": "completed"
    },
    "tags": []
   },
   "outputs": [],
   "source": [
    "# Lines below will give you a hint or solution code\n",
    "#q_1.hint()\n",
    "#q_1.solution()"
   ]
  },
  {
   "cell_type": "markdown",
   "id": "c490aec5",
   "metadata": {
    "papermill": {
     "duration": 0.006151,
     "end_time": "2023-03-06T22:38:47.278558",
     "exception": false,
     "start_time": "2023-03-06T22:38:47.272407",
     "status": "completed"
    },
    "tags": []
   },
   "source": [
    "Now run this next cell to train the model see the effect of adding dropout."
   ]
  },
  {
   "cell_type": "code",
   "execution_count": 5,
   "id": "17770229",
   "metadata": {
    "execution": {
     "iopub.execute_input": "2023-03-06T22:38:47.294170Z",
     "iopub.status.busy": "2023-03-06T22:38:47.293669Z",
     "iopub.status.idle": "2023-03-06T22:39:09.832074Z",
     "shell.execute_reply": "2023-03-06T22:39:09.830722Z"
    },
    "papermill": {
     "duration": 22.549952,
     "end_time": "2023-03-06T22:39:09.835332",
     "exception": false,
     "start_time": "2023-03-06T22:38:47.285380",
     "status": "completed"
    },
    "tags": []
   },
   "outputs": [
    {
     "name": "stdout",
     "output_type": "stream",
     "text": [
      "Minimum Validation Loss: 0.1943\n"
     ]
    },
    {
     "data": {
      "image/png": "[encoded data removed]",
      "text/plain": [
       "<Figure size 640x480 with 1 Axes>"
      ]
     },
     "metadata": {},
     "output_type": "display_data"
    }
   ],
   "source": [
    "model.compile(\n",
    "    optimizer='adam',\n",
    "    loss='mae',\n",
    ")\n",
    "history = model.fit(\n",
    "    X_train, y_train,\n",
    "    validation_data=(X_valid, y_valid),\n",
    "    batch_size=512,\n",
    "    epochs=50,\n",
    "    verbose=0,\n",
    ")\n",
    "history_df = pd.DataFrame(history.history)\n",
    "history_df.loc[:, ['loss', 'val_loss']].plot()\n",
    "print(\"Minimum Validation Loss: {:0.4f}\".format(history_df['val_loss'].min()))"
   ]
  },
  {
   "cell_type": "markdown",
   "id": "a744aae6",
   "metadata": {
    "papermill": {
     "duration": 0.008098,
     "end_time": "2023-03-06T22:39:09.850751",
     "exception": false,
     "start_time": "2023-03-06T22:39:09.842653",
     "status": "completed"
    },
    "tags": []
   },
   "source": [
    "# 2) Evaluate Dropout\n",
    "\n",
    "Recall from Exercise 4 that this model tended to overfit the data around epoch 5. Did adding dropout seem to help prevent overfitting this time?"
   ]
  },
  {
   "cell_type": "code",
   "execution_count": 6,
   "id": "1cfe560b",
   "metadata": {
    "execution": {
     "iopub.execute_input": "2023-03-06T22:39:09.867334Z",
     "iopub.status.busy": "2023-03-06T22:39:09.866815Z",
     "iopub.status.idle": "2023-03-06T22:39:09.878331Z",
     "shell.execute_reply": "2023-03-06T22:39:09.876830Z"
    },
    "papermill": {
     "duration": 0.023707,
     "end_time": "2023-03-06T22:39:09.881624",
     "exception": false,
     "start_time": "2023-03-06T22:39:09.857917",
     "status": "completed"
    },
    "tags": []
   },
   "outputs": [
    {
     "data": {
      "application/javascript": [
       "parent.postMessage({\"jupyterEvent\": \"custom.exercise_interaction\", \"data\": {\"outcomeType\": 1, \"valueTowardsCompletion\": 0.25, \"interactionType\": 1, \"questionType\": 4, \"questionId\": \"2_Q2\", \"learnToolsVersion\": \"0.3.4\", \"failureMessage\": \"\", \"exceptionClass\": \"\", \"trace\": \"\"}}, \"*\")"
      ],
      "text/plain": [
       "<IPython.core.display.Javascript object>"
      ]
     },
     "metadata": {},
     "output_type": "display_data"
    },
    {
     "data": {
      "text/markdown": [
       "<span style=\"color:#33cc33\">Correct:</span> \n",
       "\n",
       "\n",
       "From the learning curves, you can see that the validation loss remains near a constant minimum even though the training loss continues to decrease. So we can see that adding dropout did prevent overfitting this time. Moreover, by making it harder for the network to fit spurious patterns, dropout may have encouraged the network to seek out more of the true patterns, possibly improving the validation loss some as well).\n"
      ],
      "text/plain": [
       "Correct: \n",
       "\n",
       "\n",
       "From the learning curves, you can see that the validation loss remains near a constant minimum even though the training loss continues to decrease. So we can see that adding dropout did prevent overfitting this time. Moreover, by making it harder for the network to fit spurious patterns, dropout may have encouraged the network to seek out more of the true patterns, possibly improving the validation loss some as well)."
      ]
     },
     "metadata": {},
     "output_type": "display_data"
    }
   ],
   "source": [
    "# View the solution (Run this cell to receive credit!)\n",
    "q_2.check()"
   ]
  },
  {
   "cell_type": "markdown",
   "id": "d4d1a4da",
   "metadata": {
    "papermill": {
     "duration": 0.007534,
     "end_time": "2023-03-06T22:39:09.896787",
     "exception": false,
     "start_time": "2023-03-06T22:39:09.889253",
     "status": "completed"
    },
    "tags": []
   },
   "source": [
    "Now, we'll switch topics to explore how batch normalization can fix problems in training.\n",
    "\n",
    "Load the *Concrete* dataset. We won't do any standardization this time. This will make the effect of batch normalization much more apparent."
   ]
  },
  {
   "cell_type": "code",
   "execution_count": 7,
   "id": "dddf2538",
   "metadata": {
    "execution": {
     "iopub.execute_input": "2023-03-06T22:39:09.914129Z",
     "iopub.status.busy": "2023-03-06T22:39:09.913612Z",
     "iopub.status.idle": "2023-03-06T22:39:09.937295Z",
     "shell.execute_reply": "2023-03-06T22:39:09.935632Z"
    },
    "papermill": {
     "duration": 0.036594,
     "end_time": "2023-03-06T22:39:09.940984",
     "exception": false,
     "start_time": "2023-03-06T22:39:09.904390",
     "status": "completed"
    },
    "tags": []
   },
   "outputs": [],
   "source": [
    "import pandas as pd\n",
    "\n",
    "concrete = pd.read_csv('../input/dl-course-data/concrete.csv')\n",
    "df = concrete.copy()\n",
    "\n",
    "df_train = df.sample(frac=0.7, random_state=0)\n",
    "df_valid = df.drop(df_train.index)\n",
    "\n",
    "X_train = df_train.drop('CompressiveStrength', axis=1)\n",
    "X_valid = df_valid.drop('CompressiveStrength', axis=1)\n",
    "y_train = df_train['CompressiveStrength']\n",
    "y_valid = df_valid['CompressiveStrength']\n",
    "\n",
    "input_shape = [X_train.shape[1]]"
   ]
  },
  {
   "cell_type": "markdown",
   "id": "188da22f",
   "metadata": {
    "papermill": {
     "duration": 0.007238,
     "end_time": "2023-03-06T22:39:09.955827",
     "exception": false,
     "start_time": "2023-03-06T22:39:09.948589",
     "status": "completed"
    },
    "tags": []
   },
   "source": [
    "Run the following cell to train the network on the unstandardized *Concrete* data."
   ]
  },
  {
   "cell_type": "code",
   "execution_count": 8,
   "id": "6f233db6",
   "metadata": {
    "execution": {
     "iopub.execute_input": "2023-03-06T22:39:09.973818Z",
     "iopub.status.busy": "2023-03-06T22:39:09.972623Z",
     "iopub.status.idle": "2023-03-06T22:39:28.161957Z",
     "shell.execute_reply": "2023-03-06T22:39:28.160484Z"
    },
    "papermill": {
     "duration": 18.201602,
     "end_time": "2023-03-06T22:39:28.164929",
     "exception": false,
     "start_time": "2023-03-06T22:39:09.963327",
     "status": "completed"
    },
    "tags": []
   },
   "outputs": [
    {
     "name": "stdout",
     "output_type": "stream",
     "text": [
      "Minimum Validation Loss: nan\n"
     ]
    },
    {
     "data": {
      "image/png": "[encoded data removed]",
      "text/plain": [
       "<Figure size 640x480 with 1 Axes>"
      ]
     },
     "metadata": {},
     "output_type": "display_data"
    }
   ],
   "source": [
    "model = keras.Sequential([\n",
    "    layers.Dense(512, activation='relu', input_shape=input_shape),\n",
    "    layers.Dense(512, activation='relu'),    \n",
    "    layers.Dense(512, activation='relu'),\n",
    "    layers.Dense(1),\n",
    "])\n",
    "model.compile(\n",
    "    optimizer='sgd', # SGD is more sensitive to differences of scale\n",
    "    loss='mae',\n",
    "    metrics=['mae'],\n",
    ")\n",
    "history = model.fit(\n",
    "    X_train, y_train,\n",
    "    validation_data=(X_valid, y_valid),\n",
    "    batch_size=64,\n",
    "    epochs=100,\n",
    "    verbose=0,\n",
    ")\n",
    "\n",
    "history_df = pd.DataFrame(history.history)\n",
    "history_df.loc[0:, ['loss', 'val_loss']].plot()\n",
    "print((\"Minimum Validation Loss: {:0.4f}\").format(history_df['val_loss'].min()))"
   ]
  },
  {
   "cell_type": "markdown",
   "id": "67c28201",
   "metadata": {
    "papermill": {
     "duration": 0.00764,
     "end_time": "2023-03-06T22:39:28.180548",
     "exception": false,
     "start_time": "2023-03-06T22:39:28.172908",
     "status": "completed"
    },
    "tags": []
   },
   "source": [
    "Did you end up with a blank graph? Trying to train this network on this dataset will usually fail. Even when it does converge (due to a lucky weight initialization), it tends to converge to a very large number.\n",
    "\n",
    "# 3) Add Batch Normalization Layers\n",
    "\n",
    "Batch normalization can help correct problems like this.\n",
    "\n",
    "Add four `BatchNormalization` layers, one before each of the dense layers. (Remember to move the `input_shape` argument to the new first layer.)"
   ]
  },
  {
   "cell_type": "code",
   "execution_count": 9,
   "id": "1100fd7c",
   "metadata": {
    "execution": {
     "iopub.execute_input": "2023-03-06T22:39:28.200384Z",
     "iopub.status.busy": "2023-03-06T22:39:28.199897Z",
     "iopub.status.idle": "2023-03-06T22:39:28.378209Z",
     "shell.execute_reply": "2023-03-06T22:39:28.376835Z"
    },
    "lines_to_next_cell": 0,
    "papermill": {
     "duration": 0.19127,
     "end_time": "2023-03-06T22:39:28.381160",
     "exception": false,
     "start_time": "2023-03-06T22:39:28.189890",
     "status": "completed"
    },
    "tags": []
   },
   "outputs": [
    {
     "data": {
      "application/javascript": [
       "parent.postMessage({\"jupyterEvent\": \"custom.exercise_interaction\", \"data\": {\"outcomeType\": 1, \"valueTowardsCompletion\": 0.25, \"interactionType\": 1, \"questionType\": 2, \"questionId\": \"3_Q3\", \"learnToolsVersion\": \"0.3.4\", \"failureMessage\": \"\", \"exceptionClass\": \"\", \"trace\": \"\"}}, \"*\")"
      ],
      "text/plain": [
       "<IPython.core.display.Javascript object>"
      ]
     },
     "metadata": {},
     "output_type": "display_data"
    },
    {
     "data": {
      "text/markdown": [
       "<span style=\"color:#33cc33\">Correct</span>"
      ],
      "text/plain": [
       "Correct"
      ]
     },
     "metadata": {},
     "output_type": "display_data"
    }
   ],
   "source": [
    "# YOUR CODE HERE: Add a BatchNormalization layer before each Dense layer\n",
    "model = keras.Sequential([\n",
    "    layers.BatchNormalization(input_shape=input_shape),\n",
    "    layers.Dense(512, activation='relu'),\n",
    "    layers.BatchNormalization(),\n",
    "    layers.Dense(512, activation='relu'),\n",
    "    layers.BatchNormalization(),\n",
    "    layers.Dense(512, activation='relu'),\n",
    "    layers.BatchNormalization(),\n",
    "    layers.Dense(1),\n",
    "])\n",
    "\n",
    "# Check your answer\n",
    "q_3.check()"
   ]
  },
  {
   "cell_type": "code",
   "execution_count": 10,
   "id": "d3cce631",
   "metadata": {
    "execution": {
     "iopub.execute_input": "2023-03-06T22:39:28.400868Z",
     "iopub.status.busy": "2023-03-06T22:39:28.400302Z",
     "iopub.status.idle": "2023-03-06T22:39:28.406828Z",
     "shell.execute_reply": "2023-03-06T22:39:28.405191Z"
    },
    "papermill": {
     "duration": 0.020301,
     "end_time": "2023-03-06T22:39:28.409747",
     "exception": false,
     "start_time": "2023-03-06T22:39:28.389446",
     "status": "completed"
    },
    "tags": []
   },
   "outputs": [],
   "source": [
    "# Lines below will give you a hint or solution code\n",
    "#q_3.hint()\n",
    "#q_3.solution()"
   ]
  },
  {
   "cell_type": "markdown",
   "id": "a82571e4",
   "metadata": {
    "papermill": {
     "duration": 0.008059,
     "end_time": "2023-03-06T22:39:28.427265",
     "exception": false,
     "start_time": "2023-03-06T22:39:28.419206",
     "status": "completed"
    },
    "tags": []
   },
   "source": [
    "Run the next cell to see if batch normalization will let us train the model."
   ]
  },
  {
   "cell_type": "code",
   "execution_count": 11,
   "id": "1281b916",
   "metadata": {
    "execution": {
     "iopub.execute_input": "2023-03-06T22:39:28.446689Z",
     "iopub.status.busy": "2023-03-06T22:39:28.446187Z",
     "iopub.status.idle": "2023-03-06T22:39:51.117809Z",
     "shell.execute_reply": "2023-03-06T22:39:51.115402Z"
    },
    "papermill": {
     "duration": 22.685663,
     "end_time": "2023-03-06T22:39:51.121639",
     "exception": false,
     "start_time": "2023-03-06T22:39:28.435976",
     "status": "completed"
    },
    "tags": []
   },
   "outputs": [
    {
     "name": "stdout",
     "output_type": "stream",
     "text": [
      "Minimum Validation Loss: 3.7620\n"
     ]
    },
    {
     "data": {
      "image/png": "[encoded data removed]",
      "text/plain": [
       "<Figure size 640x480 with 1 Axes>"
      ]
     },
     "metadata": {},
     "output_type": "display_data"
    }
   ],
   "source": [
    "model.compile(\n",
    "    optimizer='sgd',\n",
    "    loss='mae',\n",
    "    metrics=['mae'],\n",
    ")\n",
    "EPOCHS = 100\n",
    "history = model.fit(\n",
    "    X_train, y_train,\n",
    "    validation_data=(X_valid, y_valid),\n",
    "    batch_size=64,\n",
    "    epochs=EPOCHS,\n",
    "    verbose=0,\n",
    ")\n",
    "\n",
    "history_df = pd.DataFrame(history.history)\n",
    "history_df.loc[0:, ['loss', 'val_loss']].plot()\n",
    "print((\"Minimum Validation Loss: {:0.4f}\").format(history_df['val_loss'].min()))"
   ]
  },
  {
   "cell_type": "markdown",
   "id": "5652b7c9",
   "metadata": {
    "papermill": {
     "duration": 0.008955,
     "end_time": "2023-03-06T22:39:51.141590",
     "exception": false,
     "start_time": "2023-03-06T22:39:51.132635",
     "status": "completed"
    },
    "tags": []
   },
   "source": [
    "# 4) Evaluate Batch Normalization\n",
    "\n",
    "Did adding batch normalization help?"
   ]
  },
  {
   "cell_type": "code",
   "execution_count": 12,
   "id": "92c87694",
   "metadata": {
    "execution": {
     "iopub.execute_input": "2023-03-06T22:39:51.162991Z",
     "iopub.status.busy": "2023-03-06T22:39:51.161501Z",
     "iopub.status.idle": "2023-03-06T22:39:51.172468Z",
     "shell.execute_reply": "2023-03-06T22:39:51.171053Z"
    },
    "lines_to_next_cell": 0,
    "papermill": {
     "duration": 0.025161,
     "end_time": "2023-03-06T22:39:51.175596",
     "exception": false,
     "start_time": "2023-03-06T22:39:51.150435",
     "status": "completed"
    },
    "tags": []
   },
   "outputs": [
    {
     "data": {
      "application/javascript": [
       "parent.postMessage({\"jupyterEvent\": \"custom.exercise_interaction\", \"data\": {\"outcomeType\": 1, \"valueTowardsCompletion\": 0.25, \"interactionType\": 1, \"questionType\": 4, \"questionId\": \"4_Q4\", \"learnToolsVersion\": \"0.3.4\", \"failureMessage\": \"\", \"exceptionClass\": \"\", \"trace\": \"\"}}, \"*\")"
      ],
      "text/plain": [
       "<IPython.core.display.Javascript object>"
      ]
     },
     "metadata": {},
     "output_type": "display_data"
    },
    {
     "data": {
      "text/markdown": [
       "<span style=\"color:#33cc33\">Correct:</span> \n",
       "\n",
       "\n",
       "You can see that adding batch normalization was a big improvement on the first attempt! By adaptively scaling the data as it passes through the network, batch normalization can let you train models on difficult datasets.\n"
      ],
      "text/plain": [
       "Correct: \n",
       "\n",
       "\n",
       "You can see that adding batch normalization was a big improvement on the first attempt! By adaptively scaling the data as it passes through the network, batch normalization can let you train models on difficult datasets."
      ]
     },
     "metadata": {},
     "output_type": "display_data"
    }
   ],
   "source": [
    "# View the solution (Run this cell to receive credit!)\n",
    "q_4.check()"
   ]
  },
  {
   "cell_type": "markdown",
   "id": "f4d0b842",
   "metadata": {
    "papermill": {
     "duration": 0.009025,
     "end_time": "2023-03-06T22:39:51.194261",
     "exception": false,
     "start_time": "2023-03-06T22:39:51.185236",
     "status": "completed"
    },
    "tags": []
   },
   "source": [
    "# Keep Going #\n",
    "\n",
    "[**Create neural networks**](https://www.kaggle.com/ryanholbrook/binary-classification) for binary classification."
   ]
  },
  {
   "cell_type": "markdown",
   "id": "fe49b908",
   "metadata": {
    "papermill": {
     "duration": 0.008856,
     "end_time": "2023-03-06T22:39:51.212556",
     "exception": false,
     "start_time": "2023-03-06T22:39:51.203700",
     "status": "completed"
    },
    "tags": []
   },
   "source": [
    "---\n",
    "\n",
    "\n",
    "\n",
    "\n",
    "*Have questions or comments? Visit the [course discussion forum](https://www.kaggle.com/learn/intro-to-deep-learning/discussion) to chat with other learners.*"
   ]
  }
 ],
 "metadata": {
  "kernelspec": {
   "display_name": "Python 3",
   "language": "python",
   "name": "python3"
  },
  "language_info": {
   "codemirror_mode": {
    "name": "ipython",
    "version": 3
   },
   "file_extension": ".py",
   "mimetype": "text/x-python",
   "name": "python",
   "nbconvert_exporter": "python",
   "pygments_lexer": "ipython3",
   "version": "3.7.12"
  },
  "papermill": {
   "default_parameters": {},
   "duration": 98.616823,
   "end_time": "2023-03-06T22:39:54.373237",
   "environment_variables": {},
   "exception": null,
   "input_path": "__notebook__.ipynb",
   "output_path": "__notebook__.ipynb",
   "parameters": {},
   "start_time": "2023-03-06T22:38:15.756414",
   "version": "2.4.0"
  }
 },
 "nbformat": 4,
 "nbformat_minor": 5
}
