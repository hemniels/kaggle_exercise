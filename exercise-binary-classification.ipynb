{
 "cells": [
  {
   "cell_type": "markdown",
   "id": "c77d0327",
   "metadata": {
    "papermill": {
     "duration": 0.005995,
     "end_time": "2023-03-06T22:47:48.257046",
     "exception": false,
     "start_time": "2023-03-06T22:47:48.251051",
     "status": "completed"
    },
    "tags": []
   },
   "source": [
    "**This notebook is an exercise in the [Intro to Deep Learning](https://www.kaggle.com/learn/intro-to-deep-learning) course.  You can reference the tutorial at [this link](https://www.kaggle.com/ryanholbrook/binary-classification).**\n",
    "\n",
    "---\n"
   ]
  },
  {
   "cell_type": "markdown",
   "id": "a734584e",
   "metadata": {
    "papermill": {
     "duration": 0.003703,
     "end_time": "2023-03-06T22:47:48.264908",
     "exception": false,
     "start_time": "2023-03-06T22:47:48.261205",
     "status": "completed"
    },
    "tags": []
   },
   "source": [
    "# Introduction #\n",
    "\n",
    "In this exercise, you'll build a model to predict hotel cancellations with a binary classifier."
   ]
  },
  {
   "cell_type": "code",
   "execution_count": 1,
   "id": "6e755c19",
   "metadata": {
    "execution": {
     "iopub.execute_input": "2023-03-06T22:47:48.276100Z",
     "iopub.status.busy": "2023-03-06T22:47:48.274732Z",
     "iopub.status.idle": "2023-03-06T22:47:48.327863Z",
     "shell.execute_reply": "2023-03-06T22:47:48.326731Z"
    },
    "lines_to_next_cell": 0,
    "papermill": {
     "duration": 0.061938,
     "end_time": "2023-03-06T22:47:48.330964",
     "exception": false,
     "start_time": "2023-03-06T22:47:48.269026",
     "status": "completed"
    },
    "tags": []
   },
   "outputs": [],
   "source": [
    "# Setup plotting\n",
    "import matplotlib.pyplot as plt\n",
    "plt.style.use('seaborn-whitegrid')\n",
    "# Set Matplotlib defaults\n",
    "plt.rc('figure', autolayout=True)\n",
    "plt.rc('axes', labelweight='bold', labelsize='large',\n",
    "       titleweight='bold', titlesize=18, titlepad=10)\n",
    "plt.rc('animation', html='html5')\n",
    "\n",
    "# Setup feedback system\n",
    "from learntools.core import binder\n",
    "binder.bind(globals())\n",
    "from learntools.deep_learning_intro.ex6 import *"
   ]
  },
  {
   "cell_type": "markdown",
   "id": "04104614",
   "metadata": {
    "papermill": {
     "duration": 0.004501,
     "end_time": "2023-03-06T22:47:48.339945",
     "exception": false,
     "start_time": "2023-03-06T22:47:48.335444",
     "status": "completed"
    },
    "tags": []
   },
   "source": [
    "First, load the *Hotel Cancellations* dataset."
   ]
  },
  {
   "cell_type": "code",
   "execution_count": 2,
   "id": "bcd57df0",
   "metadata": {
    "execution": {
     "iopub.execute_input": "2023-03-06T22:47:48.351700Z",
     "iopub.status.busy": "2023-03-06T22:47:48.350623Z",
     "iopub.status.idle": "2023-03-06T22:47:51.200298Z",
     "shell.execute_reply": "2023-03-06T22:47:51.198975Z"
    },
    "lines_to_next_cell": 2,
    "papermill": {
     "duration": 2.858399,
     "end_time": "2023-03-06T22:47:51.203570",
     "exception": false,
     "start_time": "2023-03-06T22:47:48.345171",
     "status": "completed"
    },
    "tags": []
   },
   "outputs": [],
   "source": [
    "import pandas as pd\n",
    "\n",
    "from sklearn.model_selection import train_test_split\n",
    "from sklearn.preprocessing import StandardScaler, OneHotEncoder\n",
    "from sklearn.impute import SimpleImputer\n",
    "from sklearn.pipeline import make_pipeline\n",
    "from sklearn.compose import make_column_transformer\n",
    "\n",
    "hotel = pd.read_csv('../input/dl-course-data/hotel.csv')\n",
    "\n",
    "X = hotel.copy()\n",
    "y = X.pop('is_canceled')\n",
    "\n",
    "X['arrival_date_month'] = \\\n",
    "    X['arrival_date_month'].map(\n",
    "        {'January':1, 'February': 2, 'March':3,\n",
    "         'April':4, 'May':5, 'June':6, 'July':7,\n",
    "         'August':8, 'September':9, 'October':10,\n",
    "         'November':11, 'December':12}\n",
    "    )\n",
    "\n",
    "features_num = [\n",
    "    \"lead_time\", \"arrival_date_week_number\",\n",
    "    \"arrival_date_day_of_month\", \"stays_in_weekend_nights\",\n",
    "    \"stays_in_week_nights\", \"adults\", \"children\", \"babies\",\n",
    "    \"is_repeated_guest\", \"previous_cancellations\",\n",
    "    \"previous_bookings_not_canceled\", \"required_car_parking_spaces\",\n",
    "    \"total_of_special_requests\", \"adr\",\n",
    "]\n",
    "features_cat = [\n",
    "    \"hotel\", \"arrival_date_month\", \"meal\",\n",
    "    \"market_segment\", \"distribution_channel\",\n",
    "    \"reserved_room_type\", \"deposit_type\", \"customer_type\",\n",
    "]\n",
    "\n",
    "transformer_num = make_pipeline(\n",
    "    SimpleImputer(strategy=\"constant\"), # there are a few missing values\n",
    "    StandardScaler(),\n",
    ")\n",
    "transformer_cat = make_pipeline(\n",
    "    SimpleImputer(strategy=\"constant\", fill_value=\"NA\"),\n",
    "    OneHotEncoder(handle_unknown='ignore'),\n",
    ")\n",
    "\n",
    "preprocessor = make_column_transformer(\n",
    "    (transformer_num, features_num),\n",
    "    (transformer_cat, features_cat),\n",
    ")\n",
    "\n",
    "# stratify - make sure classes are evenlly represented across splits\n",
    "X_train, X_valid, y_train, y_valid = \\\n",
    "    train_test_split(X, y, stratify=y, train_size=0.75)\n",
    "\n",
    "X_train = preprocessor.fit_transform(X_train)\n",
    "X_valid = preprocessor.transform(X_valid)\n",
    "\n",
    "input_shape = [X_train.shape[1]]"
   ]
  },
  {
   "cell_type": "markdown",
   "id": "ac13d3be",
   "metadata": {
    "papermill": {
     "duration": 0.003733,
     "end_time": "2023-03-06T22:47:51.211384",
     "exception": false,
     "start_time": "2023-03-06T22:47:51.207651",
     "status": "completed"
    },
    "tags": []
   },
   "source": [
    "# 1) Define Model #\n",
    "\n",
    "The model we'll use this time will have both batch normalization and dropout layers. To ease reading we've broken the diagram into blocks, but you can define it layer by layer as usual.\n",
    "\n",
    "Define a model with an architecture given by this diagram:\n",
    "\n",
    "<figure style=\"padding: 1em;\">\n",
    "<img src=\"https://i.imgur.com/V04o59Z.png\" width=\"400\" alt=\"Diagram of network architecture: BatchNorm, Dense, BatchNorm, Dropout, Dense, BatchNorm, Dropout, Dense.\">\n",
    "<figcaption style=\"textalign: center; font-style: italic\"><center>Diagram of a binary classifier.</center></figcaption>\n",
    "</figure>\n"
   ]
  },
  {
   "cell_type": "code",
   "execution_count": 3,
   "id": "a3029e89",
   "metadata": {
    "execution": {
     "iopub.execute_input": "2023-03-06T22:47:51.220877Z",
     "iopub.status.busy": "2023-03-06T22:47:51.220460Z",
     "iopub.status.idle": "2023-03-06T22:48:00.136876Z",
     "shell.execute_reply": "2023-03-06T22:48:00.135542Z"
    },
    "lines_to_next_cell": 2,
    "papermill": {
     "duration": 8.924394,
     "end_time": "2023-03-06T22:48:00.139614",
     "exception": false,
     "start_time": "2023-03-06T22:47:51.215220",
     "status": "completed"
    },
    "tags": []
   },
   "outputs": [
    {
     "data": {
      "application/javascript": [
       "parent.postMessage({\"jupyterEvent\": \"custom.exercise_interaction\", \"data\": {\"outcomeType\": 1, \"valueTowardsCompletion\": 0.3333333333333333, \"interactionType\": 1, \"questionType\": 2, \"questionId\": \"1_Q1\", \"learnToolsVersion\": \"0.3.4\", \"failureMessage\": \"\", \"exceptionClass\": \"\", \"trace\": \"\"}}, \"*\")"
      ],
      "text/plain": [
       "<IPython.core.display.Javascript object>"
      ]
     },
     "metadata": {},
     "output_type": "display_data"
    },
    {
     "data": {
      "text/markdown": [
       "<span style=\"color:#33cc33\">Correct</span>"
      ],
      "text/plain": [
       "Correct"
      ]
     },
     "metadata": {},
     "output_type": "display_data"
    }
   ],
   "source": [
    "from tensorflow import keras\n",
    "from tensorflow.keras import layers\n",
    "\n",
    "# YOUR CODE HERE: define the model given in the diagram\n",
    "model = keras.Sequential([\n",
    "    layers.BatchNormalization(input_shape=input_shape),\n",
    "    layers.Dense(256, activation='relu'),\n",
    "    layers.BatchNormalization(),\n",
    "    layers.Dropout(0.3),\n",
    "    layers.Dense(256, activation='relu'),\n",
    "    layers.BatchNormalization(),\n",
    "    layers.Dropout(0.3),\n",
    "    layers.Dense(1, activation='sigmoid')\n",
    "])\n",
    "\n",
    "# Check your answer\n",
    "q_1.check()"
   ]
  },
  {
   "cell_type": "markdown",
   "id": "797e6986",
   "metadata": {
    "papermill": {
     "duration": 0.003977,
     "end_time": "2023-03-06T22:48:00.148255",
     "exception": false,
     "start_time": "2023-03-06T22:48:00.144278",
     "status": "completed"
    },
    "tags": []
   },
   "source": [
    "# 2) Add Optimizer, Loss, and Metric #\n",
    "\n",
    "Now compile the model with the Adam optimizer and binary versions of the cross-entropy loss and accuracy metric."
   ]
  },
  {
   "cell_type": "code",
   "execution_count": 4,
   "id": "367aebe6",
   "metadata": {
    "execution": {
     "iopub.execute_input": "2023-03-06T22:48:00.158525Z",
     "iopub.status.busy": "2023-03-06T22:48:00.158108Z",
     "iopub.status.idle": "2023-03-06T22:48:00.183238Z",
     "shell.execute_reply": "2023-03-06T22:48:00.181880Z"
    },
    "lines_to_next_cell": 0,
    "papermill": {
     "duration": 0.033414,
     "end_time": "2023-03-06T22:48:00.185729",
     "exception": false,
     "start_time": "2023-03-06T22:48:00.152315",
     "status": "completed"
    },
    "tags": []
   },
   "outputs": [
    {
     "data": {
      "application/javascript": [
       "parent.postMessage({\"jupyterEvent\": \"custom.exercise_interaction\", \"data\": {\"outcomeType\": 1, \"valueTowardsCompletion\": 0.3333333333333333, \"interactionType\": 1, \"questionType\": 2, \"questionId\": \"2_Q2\", \"learnToolsVersion\": \"0.3.4\", \"failureMessage\": \"\", \"exceptionClass\": \"\", \"trace\": \"\"}}, \"*\")"
      ],
      "text/plain": [
       "<IPython.core.display.Javascript object>"
      ]
     },
     "metadata": {},
     "output_type": "display_data"
    },
    {
     "data": {
      "text/markdown": [
       "<span style=\"color:#33cc33\">Correct</span>"
      ],
      "text/plain": [
       "Correct"
      ]
     },
     "metadata": {},
     "output_type": "display_data"
    }
   ],
   "source": [
    "# YOUR CODE HERE\n",
    "model.compile(\n",
    "    optimizer='adam',\n",
    "    loss='binary_crossentropy',\n",
    "    metrics=['binary_accuracy'],\n",
    ")\n",
    "\n",
    "# Check your answer\n",
    "q_2.check()"
   ]
  },
  {
   "cell_type": "code",
   "execution_count": 5,
   "id": "e3164d7f",
   "metadata": {
    "execution": {
     "iopub.execute_input": "2023-03-06T22:48:00.197239Z",
     "iopub.status.busy": "2023-03-06T22:48:00.196286Z",
     "iopub.status.idle": "2023-03-06T22:48:00.201110Z",
     "shell.execute_reply": "2023-03-06T22:48:00.200002Z"
    },
    "lines_to_next_cell": 0,
    "papermill": {
     "duration": 0.012856,
     "end_time": "2023-03-06T22:48:00.203334",
     "exception": false,
     "start_time": "2023-03-06T22:48:00.190478",
     "status": "completed"
    },
    "tags": []
   },
   "outputs": [],
   "source": [
    "# Lines below will give you a hint or solution code\n",
    "#q_2.hint()\n",
    "#q_2.solution()"
   ]
  },
  {
   "cell_type": "markdown",
   "id": "dbcf682a",
   "metadata": {
    "papermill": {
     "duration": 0.004154,
     "end_time": "2023-03-06T22:48:00.212208",
     "exception": false,
     "start_time": "2023-03-06T22:48:00.208054",
     "status": "completed"
    },
    "tags": []
   },
   "source": [
    "Finally, run this cell to train the model and view the learning curves. It may run for around 60 to 70 epochs, which could take a minute or two."
   ]
  },
  {
   "cell_type": "code",
   "execution_count": 6,
   "id": "77f88257",
   "metadata": {
    "execution": {
     "iopub.execute_input": "2023-03-06T22:48:00.222963Z",
     "iopub.status.busy": "2023-03-06T22:48:00.222542Z",
     "iopub.status.idle": "2023-03-06T22:50:25.016269Z",
     "shell.execute_reply": "2023-03-06T22:50:25.015038Z"
    },
    "papermill": {
     "duration": 144.802052,
     "end_time": "2023-03-06T22:50:25.018652",
     "exception": false,
     "start_time": "2023-03-06T22:48:00.216600",
     "status": "completed"
    },
    "tags": []
   },
   "outputs": [
    {
     "name": "stdout",
     "output_type": "stream",
     "text": [
      "Epoch 1/200\n",
      "175/175 [==============================] - 5s 18ms/step - loss: 0.4821 - binary_accuracy: 0.7699 - val_loss: 0.4371 - val_binary_accuracy: 0.8124\n",
      "Epoch 2/200\n",
      "175/175 [==============================] - 3s 15ms/step - loss: 0.4246 - binary_accuracy: 0.8008 - val_loss: 0.3980 - val_binary_accuracy: 0.8170\n",
      "Epoch 3/200\n",
      "175/175 [==============================] - 3s 15ms/step - loss: 0.4112 - binary_accuracy: 0.8069 - val_loss: 0.3939 - val_binary_accuracy: 0.8209\n",
      "Epoch 4/200\n",
      "175/175 [==============================] - 3s 15ms/step - loss: 0.4036 - binary_accuracy: 0.8110 - val_loss: 0.3872 - val_binary_accuracy: 0.8227\n",
      "Epoch 5/200\n",
      "175/175 [==============================] - 3s 15ms/step - loss: 0.3986 - binary_accuracy: 0.8147 - val_loss: 0.3811 - val_binary_accuracy: 0.8239\n",
      "Epoch 6/200\n",
      "175/175 [==============================] - 3s 15ms/step - loss: 0.3942 - binary_accuracy: 0.8161 - val_loss: 0.3846 - val_binary_accuracy: 0.8261\n",
      "Epoch 7/200\n",
      "175/175 [==============================] - 3s 15ms/step - loss: 0.3898 - binary_accuracy: 0.8189 - val_loss: 0.3769 - val_binary_accuracy: 0.8284\n",
      "Epoch 8/200\n",
      "175/175 [==============================] - 3s 16ms/step - loss: 0.3866 - binary_accuracy: 0.8210 - val_loss: 0.3755 - val_binary_accuracy: 0.8305\n",
      "Epoch 9/200\n",
      "175/175 [==============================] - 3s 16ms/step - loss: 0.3830 - binary_accuracy: 0.8222 - val_loss: 0.3717 - val_binary_accuracy: 0.8288\n",
      "Epoch 10/200\n",
      "175/175 [==============================] - 3s 16ms/step - loss: 0.3803 - binary_accuracy: 0.8246 - val_loss: 0.3696 - val_binary_accuracy: 0.8329\n",
      "Epoch 11/200\n",
      "175/175 [==============================] - 3s 16ms/step - loss: 0.3788 - binary_accuracy: 0.8245 - val_loss: 0.3685 - val_binary_accuracy: 0.8319\n",
      "Epoch 12/200\n",
      "175/175 [==============================] - 3s 16ms/step - loss: 0.3759 - binary_accuracy: 0.8271 - val_loss: 0.3664 - val_binary_accuracy: 0.8327\n",
      "Epoch 13/200\n",
      "175/175 [==============================] - 3s 15ms/step - loss: 0.3731 - binary_accuracy: 0.8283 - val_loss: 0.3621 - val_binary_accuracy: 0.8339\n",
      "Epoch 14/200\n",
      "175/175 [==============================] - 3s 16ms/step - loss: 0.3718 - binary_accuracy: 0.8280 - val_loss: 0.3628 - val_binary_accuracy: 0.8341\n",
      "Epoch 15/200\n",
      "175/175 [==============================] - 3s 15ms/step - loss: 0.3693 - binary_accuracy: 0.8298 - val_loss: 0.3644 - val_binary_accuracy: 0.8335\n",
      "Epoch 16/200\n",
      "175/175 [==============================] - 3s 16ms/step - loss: 0.3678 - binary_accuracy: 0.8304 - val_loss: 0.3602 - val_binary_accuracy: 0.8340\n",
      "Epoch 17/200\n",
      "175/175 [==============================] - 3s 16ms/step - loss: 0.3668 - binary_accuracy: 0.8305 - val_loss: 0.3585 - val_binary_accuracy: 0.8369\n",
      "Epoch 18/200\n",
      "175/175 [==============================] - 3s 16ms/step - loss: 0.3653 - binary_accuracy: 0.8316 - val_loss: 0.3557 - val_binary_accuracy: 0.8379\n",
      "Epoch 19/200\n",
      "175/175 [==============================] - 3s 15ms/step - loss: 0.3620 - binary_accuracy: 0.8331 - val_loss: 0.3555 - val_binary_accuracy: 0.8365\n",
      "Epoch 20/200\n",
      "175/175 [==============================] - 3s 17ms/step - loss: 0.3624 - binary_accuracy: 0.8332 - val_loss: 0.3570 - val_binary_accuracy: 0.8365\n",
      "Epoch 21/200\n",
      "175/175 [==============================] - 3s 16ms/step - loss: 0.3604 - binary_accuracy: 0.8340 - val_loss: 0.3539 - val_binary_accuracy: 0.8375\n",
      "Epoch 22/200\n",
      "175/175 [==============================] - 3s 15ms/step - loss: 0.3591 - binary_accuracy: 0.8343 - val_loss: 0.3585 - val_binary_accuracy: 0.8366\n",
      "Epoch 23/200\n",
      "175/175 [==============================] - 3s 15ms/step - loss: 0.3581 - binary_accuracy: 0.8343 - val_loss: 0.3597 - val_binary_accuracy: 0.8370\n",
      "Epoch 24/200\n",
      "175/175 [==============================] - 3s 16ms/step - loss: 0.3574 - binary_accuracy: 0.8358 - val_loss: 0.3527 - val_binary_accuracy: 0.8397\n",
      "Epoch 25/200\n",
      "175/175 [==============================] - 3s 15ms/step - loss: 0.3553 - binary_accuracy: 0.8358 - val_loss: 0.3551 - val_binary_accuracy: 0.8402\n",
      "Epoch 26/200\n",
      "175/175 [==============================] - 3s 16ms/step - loss: 0.3548 - binary_accuracy: 0.8358 - val_loss: 0.3493 - val_binary_accuracy: 0.8415\n",
      "Epoch 27/200\n",
      "175/175 [==============================] - 3s 15ms/step - loss: 0.3523 - binary_accuracy: 0.8372 - val_loss: 0.3525 - val_binary_accuracy: 0.8393\n",
      "Epoch 28/200\n",
      "175/175 [==============================] - 3s 15ms/step - loss: 0.3518 - binary_accuracy: 0.8371 - val_loss: 0.3512 - val_binary_accuracy: 0.8373\n",
      "Epoch 29/200\n",
      "175/175 [==============================] - 3s 15ms/step - loss: 0.3505 - binary_accuracy: 0.8390 - val_loss: 0.3496 - val_binary_accuracy: 0.8411\n",
      "Epoch 30/200\n",
      "175/175 [==============================] - 3s 16ms/step - loss: 0.3487 - binary_accuracy: 0.8397 - val_loss: 0.3480 - val_binary_accuracy: 0.8418\n",
      "Epoch 31/200\n",
      "175/175 [==============================] - 3s 15ms/step - loss: 0.3494 - binary_accuracy: 0.8388 - val_loss: 0.3473 - val_binary_accuracy: 0.8413\n",
      "Epoch 32/200\n",
      "175/175 [==============================] - 3s 17ms/step - loss: 0.3486 - binary_accuracy: 0.8390 - val_loss: 0.3459 - val_binary_accuracy: 0.8438\n",
      "Epoch 33/200\n",
      "175/175 [==============================] - 3s 16ms/step - loss: 0.3456 - binary_accuracy: 0.8406 - val_loss: 0.3470 - val_binary_accuracy: 0.8418\n",
      "Epoch 34/200\n",
      "175/175 [==============================] - 3s 15ms/step - loss: 0.3472 - binary_accuracy: 0.8405 - val_loss: 0.3472 - val_binary_accuracy: 0.8407\n",
      "Epoch 35/200\n",
      "175/175 [==============================] - 3s 15ms/step - loss: 0.3456 - binary_accuracy: 0.8398 - val_loss: 0.3531 - val_binary_accuracy: 0.8382\n",
      "Epoch 36/200\n",
      "175/175 [==============================] - 3s 15ms/step - loss: 0.3446 - binary_accuracy: 0.8400 - val_loss: 0.3480 - val_binary_accuracy: 0.8415\n",
      "Epoch 37/200\n",
      "175/175 [==============================] - 3s 16ms/step - loss: 0.3427 - binary_accuracy: 0.8410 - val_loss: 0.3469 - val_binary_accuracy: 0.8416\n"
     ]
    },
    {
     "data": {
      "text/plain": [
       "<AxesSubplot:title={'center':'Accuracy'}>"
      ]
     },
     "execution_count": 6,
     "metadata": {},
     "output_type": "execute_result"
    },
    {
     "data": {
      "image/png": "[encoded data removed]",
      "text/plain": [
       "<Figure size 640x480 with 1 Axes>"
      ]
     },
     "metadata": {},
     "output_type": "display_data"
    },
    {
     "data": {
      "image/png": "[encoded data removed]",
      "text/plain": [
       "<Figure size 640x480 with 1 Axes>"
      ]
     },
     "metadata": {},
     "output_type": "display_data"
    }
   ],
   "source": [
    "early_stopping = keras.callbacks.EarlyStopping(\n",
    "    patience=5,\n",
    "    min_delta=0.001,\n",
    "    restore_best_weights=True,\n",
    ")\n",
    "history = model.fit(\n",
    "    X_train, y_train,\n",
    "    validation_data=(X_valid, y_valid),\n",
    "    batch_size=512,\n",
    "    epochs=200,\n",
    "    callbacks=[early_stopping],\n",
    ")\n",
    "\n",
    "history_df = pd.DataFrame(history.history)\n",
    "history_df.loc[:, ['loss', 'val_loss']].plot(title=\"Cross-entropy\")\n",
    "history_df.loc[:, ['binary_accuracy', 'val_binary_accuracy']].plot(title=\"Accuracy\")"
   ]
  },
  {
   "cell_type": "markdown",
   "id": "38247ce2",
   "metadata": {
    "papermill": {
     "duration": 0.112759,
     "end_time": "2023-03-06T22:50:25.246418",
     "exception": false,
     "start_time": "2023-03-06T22:50:25.133659",
     "status": "completed"
    },
    "tags": []
   },
   "source": [
    "# 3) Train and Evaluate #\n",
    "\n",
    "\n",
    "What do you think about the learning curves? Does it look like the model underfit or overfit? Was the cross-entropy loss a good stand-in for accuracy?"
   ]
  },
  {
   "cell_type": "code",
   "execution_count": 7,
   "id": "c6fbf2c7",
   "metadata": {
    "execution": {
     "iopub.execute_input": "2023-03-06T22:50:25.474757Z",
     "iopub.status.busy": "2023-03-06T22:50:25.474270Z",
     "iopub.status.idle": "2023-03-06T22:50:25.485080Z",
     "shell.execute_reply": "2023-03-06T22:50:25.483564Z"
    },
    "papermill": {
     "duration": 0.128304,
     "end_time": "2023-03-06T22:50:25.487361",
     "exception": false,
     "start_time": "2023-03-06T22:50:25.359057",
     "status": "completed"
    },
    "tags": []
   },
   "outputs": [
    {
     "data": {
      "application/javascript": [
       "parent.postMessage({\"jupyterEvent\": \"custom.exercise_interaction\", \"data\": {\"outcomeType\": 1, \"valueTowardsCompletion\": 0.3333333333333333, \"interactionType\": 1, \"questionType\": 4, \"questionId\": \"3_Q3\", \"learnToolsVersion\": \"0.3.4\", \"failureMessage\": \"\", \"exceptionClass\": \"\", \"trace\": \"\"}}, \"*\")"
      ],
      "text/plain": [
       "<IPython.core.display.Javascript object>"
      ]
     },
     "metadata": {},
     "output_type": "display_data"
    },
    {
     "data": {
      "text/markdown": [
       "<span style=\"color:#33cc33\">Correct:</span> \n",
       "\n",
       "Though we can see the training loss continuing to fall, the early stopping callback prevented any overfitting. Moreover, the accuracy rose at the same rate as the cross-entropy fell, so it appears that minimizing cross-entropy was a good stand-in. All in all, it looks like this training was a success!"
      ],
      "text/plain": [
       "Correct: \n",
       "\n",
       "Though we can see the training loss continuing to fall, the early stopping callback prevented any overfitting. Moreover, the accuracy rose at the same rate as the cross-entropy fell, so it appears that minimizing cross-entropy was a good stand-in. All in all, it looks like this training was a success!"
      ]
     },
     "metadata": {},
     "output_type": "display_data"
    }
   ],
   "source": [
    "# View the solution (Run this cell to receive credit!)\n",
    "q_3.check()"
   ]
  },
  {
   "cell_type": "markdown",
   "id": "4485c0b3",
   "metadata": {
    "papermill": {
     "duration": 0.113532,
     "end_time": "2023-03-06T22:50:25.714973",
     "exception": false,
     "start_time": "2023-03-06T22:50:25.601441",
     "status": "completed"
    },
    "tags": []
   },
   "source": [
    "# Conclusion #\n",
    "\n",
    "Congratulations! You've completed Kaggle's *Introduction to Deep Learning* course!\n",
    "\n",
    "With your new skills you're ready to take on more advanced applications like computer vision and sentiment classification. What would you like to do next?\n",
    "\n",
    "Why not try one of our *Getting Started* competitions?\n",
    "\n",
    "- Classify images with TPUs in [**Petals to the Metal**](https://www.kaggle.com/c/tpu-getting-started)\n",
    "- Create art with GANs in [**I'm Something of a Painter Myself**](https://www.kaggle.com/c/gan-getting-started)\n",
    "- Classify Tweets in [**Real or Not? NLP with Disaster Tweets**](https://www.kaggle.com/c/nlp-getting-started)\n",
    "- Detect contradiction and entailment in [**Contradictory, My Dear Watson**](https://www.kaggle.com/c/contradictory-my-dear-watson)\n",
    "\n",
    "Until next time, Kagglers!"
   ]
  },
  {
   "cell_type": "markdown",
   "id": "63a586b4",
   "metadata": {
    "papermill": {
     "duration": 0.114215,
     "end_time": "2023-03-06T22:50:25.944400",
     "exception": false,
     "start_time": "2023-03-06T22:50:25.830185",
     "status": "completed"
    },
    "tags": []
   },
   "source": [
    "---\n",
    "\n",
    "\n",
    "\n",
    "\n",
    "*Have questions or comments? Visit the [course discussion forum](https://www.kaggle.com/learn/intro-to-deep-learning/discussion) to chat with other learners.*"
   ]
  }
 ],
 "metadata": {
  "kernelspec": {
   "display_name": "Python 3",
   "language": "python",
   "name": "python3"
  },
  "language_info": {
   "codemirror_mode": {
    "name": "ipython",
    "version": 3
   },
   "file_extension": ".py",
   "mimetype": "text/x-python",
   "name": "python",
   "nbconvert_exporter": "python",
   "pygments_lexer": "ipython3",
   "version": "3.7.12"
  },
  "papermill": {
   "default_parameters": {},
   "duration": 170.755344,
   "end_time": "2023-03-06T22:50:29.052915",
   "environment_variables": {},
   "exception": null,
   "input_path": "__notebook__.ipynb",
   "output_path": "__notebook__.ipynb",
   "parameters": {},
   "start_time": "2023-03-06T22:47:38.297571",
   "version": "2.4.0"
  }
 },
 "nbformat": 4,
 "nbformat_minor": 5
}
