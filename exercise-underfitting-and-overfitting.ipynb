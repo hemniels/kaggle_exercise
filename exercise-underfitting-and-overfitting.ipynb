{
 "cells": [
  {
   "cell_type": "markdown",
   "id": "567f5fd4",
   "metadata": {
    "papermill": {
     "duration": 0.00502,
     "end_time": "2023-03-06T01:19:20.449488",
     "exception": false,
     "start_time": "2023-03-06T01:19:20.444468",
     "status": "completed"
    },
    "tags": []
   },
   "source": [
    "**This notebook is an exercise in the [Introduction to Machine Learning](https://www.kaggle.com/learn/intro-to-machine-learning) course.  You can reference the tutorial at [this link](https://www.kaggle.com/dansbecker/underfitting-and-overfitting).**\n",
    "\n",
    "---\n"
   ]
  },
  {
   "cell_type": "markdown",
   "id": "47e38c38",
   "metadata": {
    "papermill": {
     "duration": 0.003239,
     "end_time": "2023-03-06T01:19:20.456524",
     "exception": false,
     "start_time": "2023-03-06T01:19:20.453285",
     "status": "completed"
    },
    "tags": []
   },
   "source": [
    "## Recap\n",
    "You've built your first model, and now it's time to optimize the size of the tree to make better predictions. Run this cell to set up your coding environment where the previous step left off."
   ]
  },
  {
   "cell_type": "code",
   "execution_count": 1,
   "id": "e3db2775",
   "metadata": {
    "execution": {
     "iopub.execute_input": "2023-03-06T01:19:20.465978Z",
     "iopub.status.busy": "2023-03-06T01:19:20.465495Z",
     "iopub.status.idle": "2023-03-06T01:19:22.078965Z",
     "shell.execute_reply": "2023-03-06T01:19:22.077495Z"
    },
    "papermill": {
     "duration": 1.623658,
     "end_time": "2023-03-06T01:19:22.083645",
     "exception": false,
     "start_time": "2023-03-06T01:19:20.459987",
     "status": "completed"
    },
    "tags": []
   },
   "outputs": [
    {
     "name": "stdout",
     "output_type": "stream",
     "text": [
      "Validation MAE: 29,653\n",
      "\n",
      "Setup complete\n"
     ]
    }
   ],
   "source": [
    "# Code you have previously used to load data\n",
    "import pandas as pd\n",
    "from sklearn.metrics import mean_absolute_error\n",
    "from sklearn.model_selection import train_test_split\n",
    "from sklearn.tree import DecisionTreeRegressor\n",
    "\n",
    "\n",
    "# Path of the file to read\n",
    "iowa_file_path = '../input/home-data-for-ml-course/train.csv'\n",
    "\n",
    "home_data = pd.read_csv(iowa_file_path)\n",
    "# Create target object and call it y\n",
    "y = home_data.SalePrice\n",
    "# Create X\n",
    "features = ['LotArea', 'YearBuilt', '1stFlrSF', '2ndFlrSF', 'FullBath', 'BedroomAbvGr', 'TotRmsAbvGrd']\n",
    "X = home_data[features]\n",
    "\n",
    "# Split into validation and training data\n",
    "train_X, val_X, train_y, val_y = train_test_split(X, y, random_state=1)\n",
    "\n",
    "# Specify Model\n",
    "iowa_model = DecisionTreeRegressor(random_state=1)\n",
    "# Fit Model\n",
    "iowa_model.fit(train_X, train_y)\n",
    "\n",
    "# Make validation predictions and calculate mean absolute error\n",
    "val_predictions = iowa_model.predict(val_X)\n",
    "val_mae = mean_absolute_error(val_predictions, val_y)\n",
    "print(\"Validation MAE: {:,.0f}\".format(val_mae))\n",
    "\n",
    "# Set up code checking\n",
    "from learntools.core import binder\n",
    "binder.bind(globals())\n",
    "from learntools.machine_learning.ex5 import *\n",
    "print(\"\\nSetup complete\")"
   ]
  },
  {
   "cell_type": "markdown",
   "id": "c0c7f9cd",
   "metadata": {
    "papermill": {
     "duration": 0.003468,
     "end_time": "2023-03-06T01:19:22.091227",
     "exception": false,
     "start_time": "2023-03-06T01:19:22.087759",
     "status": "completed"
    },
    "tags": []
   },
   "source": [
    "# Exercises\n",
    "You could write the function `get_mae` yourself. For now, we'll supply it. This is the same function you read about in the previous lesson. Just run the cell below."
   ]
  },
  {
   "cell_type": "code",
   "execution_count": 2,
   "id": "c09e191b",
   "metadata": {
    "execution": {
     "iopub.execute_input": "2023-03-06T01:19:22.100941Z",
     "iopub.status.busy": "2023-03-06T01:19:22.100459Z",
     "iopub.status.idle": "2023-03-06T01:19:22.107819Z",
     "shell.execute_reply": "2023-03-06T01:19:22.106360Z"
    },
    "papermill": {
     "duration": 0.015826,
     "end_time": "2023-03-06T01:19:22.110772",
     "exception": false,
     "start_time": "2023-03-06T01:19:22.094946",
     "status": "completed"
    },
    "tags": []
   },
   "outputs": [],
   "source": [
    "def get_mae(max_leaf_nodes, train_X, val_X, train_y, val_y):\n",
    "    model = DecisionTreeRegressor(max_leaf_nodes=max_leaf_nodes, random_state=0)\n",
    "    model.fit(train_X, train_y)\n",
    "    preds_val = model.predict(val_X)\n",
    "    mae = mean_absolute_error(val_y, preds_val)\n",
    "    return(mae)"
   ]
  },
  {
   "cell_type": "markdown",
   "id": "aa48df0a",
   "metadata": {
    "papermill": {
     "duration": 0.003468,
     "end_time": "2023-03-06T01:19:22.118130",
     "exception": false,
     "start_time": "2023-03-06T01:19:22.114662",
     "status": "completed"
    },
    "tags": []
   },
   "source": [
    "## Step 1: Compare Different Tree Sizes\n",
    "Write a loop that tries the following values for *max_leaf_nodes* from a set of possible values.\n",
    "\n",
    "Call the *get_mae* function on each value of max_leaf_nodes. Store the output in some way that allows you to select the value of `max_leaf_nodes` that gives the most accurate model on your data."
   ]
  },
  {
   "cell_type": "code",
   "execution_count": 3,
   "id": "8a89dbf1",
   "metadata": {
    "execution": {
     "iopub.execute_input": "2023-03-06T01:19:22.128523Z",
     "iopub.status.busy": "2023-03-06T01:19:22.127102Z",
     "iopub.status.idle": "2023-03-06T01:19:22.368602Z",
     "shell.execute_reply": "2023-03-06T01:19:22.366876Z"
    },
    "papermill": {
     "duration": 0.249181,
     "end_time": "2023-03-06T01:19:22.371315",
     "exception": false,
     "start_time": "2023-03-06T01:19:22.122134",
     "status": "completed"
    },
    "tags": []
   },
   "outputs": [
    {
     "data": {
      "application/javascript": [
       "parent.postMessage({\"jupyterEvent\": \"custom.exercise_interaction\", \"data\": {\"outcomeType\": 1, \"valueTowardsCompletion\": 0.5, \"interactionType\": 1, \"questionType\": 1, \"questionId\": \"1_BestTreeSize\", \"learnToolsVersion\": \"0.3.4\", \"failureMessage\": \"\", \"exceptionClass\": \"\", \"trace\": \"\"}}, \"*\")"
      ],
      "text/plain": [
       "<IPython.core.display.Javascript object>"
      ]
     },
     "metadata": {},
     "output_type": "display_data"
    },
    {
     "data": {
      "text/markdown": [
       "<span style=\"color:#33cc33\">Correct</span>"
      ],
      "text/plain": [
       "Correct"
      ]
     },
     "metadata": {},
     "output_type": "display_data"
    }
   ],
   "source": [
    "candidate_max_leaf_nodes = [5, 25, 50, 100, 250, 500]\n",
    "# Write loop to find the ideal tree size from candidate_max_leaf_nodes\n",
    "def ideal_leaf_nodes(candidate_max_leaf_nodes):\n",
    "    for i in candidate_max_leaf_nodes:\n",
    "        x = {i: get_mae(i, train_X, val_X, train_y, val_y) for i in candidate_max_leaf_nodes}\n",
    "        my_mae = min(x, key=x.get)\n",
    "    return my_mae\n",
    "\n",
    "# Store the best value of max_leaf_nodes (it will be either 5, 25, 50, 100, 250 or 500)\n",
    "best_tree_size = ideal_leaf_nodes(candidate_max_leaf_nodes)\n",
    "\n",
    "# Check your answer\n",
    "step_1.check()"
   ]
  },
  {
   "cell_type": "code",
   "execution_count": 4,
   "id": "a99fc31e",
   "metadata": {
    "execution": {
     "iopub.execute_input": "2023-03-06T01:19:22.381623Z",
     "iopub.status.busy": "2023-03-06T01:19:22.381115Z",
     "iopub.status.idle": "2023-03-06T01:19:22.386988Z",
     "shell.execute_reply": "2023-03-06T01:19:22.385600Z"
    },
    "papermill": {
     "duration": 0.014255,
     "end_time": "2023-03-06T01:19:22.389468",
     "exception": false,
     "start_time": "2023-03-06T01:19:22.375213",
     "status": "completed"
    },
    "tags": []
   },
   "outputs": [],
   "source": [
    "# The lines below will show you a hint or the solution.\n",
    "# step_1.hint() \n",
    "# step_1.solution()"
   ]
  },
  {
   "cell_type": "markdown",
   "id": "cc89b394",
   "metadata": {
    "papermill": {
     "duration": 0.003597,
     "end_time": "2023-03-06T01:19:22.397064",
     "exception": false,
     "start_time": "2023-03-06T01:19:22.393467",
     "status": "completed"
    },
    "tags": []
   },
   "source": [
    "## Step 2: Fit Model Using All Data\n",
    "You know the best tree size. If you were going to deploy this model in practice, you would make it even more accurate by using all of the data and keeping that tree size.  That is, you don't need to hold out the validation data now that you've made all your modeling decisions."
   ]
  },
  {
   "cell_type": "code",
   "execution_count": 5,
   "id": "53a69e0f",
   "metadata": {
    "execution": {
     "iopub.execute_input": "2023-03-06T01:19:22.406964Z",
     "iopub.status.busy": "2023-03-06T01:19:22.406439Z",
     "iopub.status.idle": "2023-03-06T01:19:22.426281Z",
     "shell.execute_reply": "2023-03-06T01:19:22.424730Z"
    },
    "papermill": {
     "duration": 0.028304,
     "end_time": "2023-03-06T01:19:22.429161",
     "exception": false,
     "start_time": "2023-03-06T01:19:22.400857",
     "status": "completed"
    },
    "tags": []
   },
   "outputs": [
    {
     "data": {
      "application/javascript": [
       "parent.postMessage({\"jupyterEvent\": \"custom.exercise_interaction\", \"data\": {\"outcomeType\": 1, \"valueTowardsCompletion\": 0.5, \"interactionType\": 1, \"questionType\": 2, \"questionId\": \"2_FitModelWithAllData\", \"learnToolsVersion\": \"0.3.4\", \"failureMessage\": \"\", \"exceptionClass\": \"\", \"trace\": \"\"}}, \"*\")"
      ],
      "text/plain": [
       "<IPython.core.display.Javascript object>"
      ]
     },
     "metadata": {},
     "output_type": "display_data"
    },
    {
     "data": {
      "text/markdown": [
       "<span style=\"color:#33cc33\">Correct</span>"
      ],
      "text/plain": [
       "Correct"
      ]
     },
     "metadata": {},
     "output_type": "display_data"
    }
   ],
   "source": [
    "# Fill in argument to make optimal size and uncomment\n",
    "final_model = DecisionTreeRegressor(max_leaf_nodes=best_tree_size, random_state=1)\n",
    "\n",
    "# fit the final model and uncomment the next two lines\n",
    "final_model.fit(X, y)\n",
    "\n",
    "# Check your answer\n",
    "step_2.check()"
   ]
  },
  {
   "cell_type": "code",
   "execution_count": 6,
   "id": "b41e9020",
   "metadata": {
    "execution": {
     "iopub.execute_input": "2023-03-06T01:19:22.440529Z",
     "iopub.status.busy": "2023-03-06T01:19:22.440069Z",
     "iopub.status.idle": "2023-03-06T01:19:22.445366Z",
     "shell.execute_reply": "2023-03-06T01:19:22.444156Z"
    },
    "papermill": {
     "duration": 0.014775,
     "end_time": "2023-03-06T01:19:22.448598",
     "exception": false,
     "start_time": "2023-03-06T01:19:22.433823",
     "status": "completed"
    },
    "tags": []
   },
   "outputs": [],
   "source": [
    "# step_2.hint()\n",
    "# step_2.solution()"
   ]
  },
  {
   "cell_type": "markdown",
   "id": "c1cb7aad",
   "metadata": {
    "papermill": {
     "duration": 0.0039,
     "end_time": "2023-03-06T01:19:22.457036",
     "exception": false,
     "start_time": "2023-03-06T01:19:22.453136",
     "status": "completed"
    },
    "tags": []
   },
   "source": [
    "You've tuned this model and improved your results. But we are still using Decision Tree models, which are not very sophisticated by modern machine learning standards. In the next step you will learn to use Random Forests to improve your models even more.\n",
    "\n",
    "# Keep Going\n",
    "\n",
    "You are ready for **[Random Forests](https://www.kaggle.com/dansbecker/random-forests).**\n"
   ]
  },
  {
   "cell_type": "markdown",
   "id": "22bb4a80",
   "metadata": {
    "papermill": {
     "duration": 0.003791,
     "end_time": "2023-03-06T01:19:22.464879",
     "exception": false,
     "start_time": "2023-03-06T01:19:22.461088",
     "status": "completed"
    },
    "tags": []
   },
   "source": [
    "---\n",
    "\n",
    "\n",
    "\n",
    "\n",
    "*Have questions or comments? Visit the [course discussion forum](https://www.kaggle.com/learn/intro-to-machine-learning/discussion) to chat with other learners.*"
   ]
  }
 ],
 "metadata": {
  "kernelspec": {
   "display_name": "Python 3",
   "language": "python",
   "name": "python3"
  },
  "language_info": {
   "codemirror_mode": {
    "name": "ipython",
    "version": 3
   },
   "file_extension": ".py",
   "mimetype": "text/x-python",
   "name": "python",
   "nbconvert_exporter": "python",
   "pygments_lexer": "ipython3",
   "version": "3.7.12"
  },
  "papermill": {
   "default_parameters": {},
   "duration": 14.72812,
   "end_time": "2023-03-06T01:19:23.595927",
   "environment_variables": {},
   "exception": null,
   "input_path": "__notebook__.ipynb",
   "output_path": "__notebook__.ipynb",
   "parameters": {},
   "start_time": "2023-03-06T01:19:08.867807",
   "version": "2.4.0"
  }
 },
 "nbformat": 4,
 "nbformat_minor": 5
}
