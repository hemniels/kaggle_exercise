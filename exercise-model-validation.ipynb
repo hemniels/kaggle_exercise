{
 "cells": [
  {
   "cell_type": "markdown",
   "id": "69524018",
   "metadata": {
    "papermill": {
     "duration": 0.005767,
     "end_time": "2023-03-06T01:44:21.732719",
     "exception": false,
     "start_time": "2023-03-06T01:44:21.726952",
     "status": "completed"
    },
    "tags": []
   },
   "source": [
    "**This notebook is an exercise in the [Introduction to Machine Learning](https://www.kaggle.com/learn/intro-to-machine-learning) course.  You can reference the tutorial at [this link](https://www.kaggle.com/dansbecker/model-validation).**\n",
    "\n",
    "---\n"
   ]
  },
  {
   "cell_type": "markdown",
   "id": "ee36640d",
   "metadata": {
    "papermill": {
     "duration": 0.004235,
     "end_time": "2023-03-06T01:44:21.742243",
     "exception": false,
     "start_time": "2023-03-06T01:44:21.738008",
     "status": "completed"
    },
    "tags": []
   },
   "source": [
    "## Recap\n",
    "You've built a model. In this exercise you will test how good your model is.\n",
    "\n",
    "Run the cell below to set up your coding environment where the previous exercise left off."
   ]
  },
  {
   "cell_type": "code",
   "execution_count": 1,
   "id": "91093efa",
   "metadata": {
    "execution": {
     "iopub.execute_input": "2023-03-06T01:44:21.753266Z",
     "iopub.status.busy": "2023-03-06T01:44:21.752849Z",
     "iopub.status.idle": "2023-03-06T01:44:23.385868Z",
     "shell.execute_reply": "2023-03-06T01:44:23.384711Z"
    },
    "papermill": {
     "duration": 1.641934,
     "end_time": "2023-03-06T01:44:23.388680",
     "exception": false,
     "start_time": "2023-03-06T01:44:21.746746",
     "status": "completed"
    },
    "tags": []
   },
   "outputs": [
    {
     "name": "stdout",
     "output_type": "stream",
     "text": [
      "First in-sample predictions: [208500. 181500. 223500. 140000. 250000.]\n",
      "Actual target values for those homes: [208500, 181500, 223500, 140000, 250000]\n",
      "Setup Complete\n"
     ]
    }
   ],
   "source": [
    "# Code you have previously used to load data\n",
    "import pandas as pd\n",
    "from sklearn.tree import DecisionTreeRegressor\n",
    "\n",
    "# Path of the file to read\n",
    "iowa_file_path = '../input/home-data-for-ml-course/train.csv'\n",
    "\n",
    "home_data = pd.read_csv(iowa_file_path)\n",
    "y = home_data.SalePrice\n",
    "feature_columns = ['LotArea', 'YearBuilt', '1stFlrSF', '2ndFlrSF', 'FullBath', 'BedroomAbvGr', 'TotRmsAbvGrd']\n",
    "X = home_data[feature_columns]\n",
    "\n",
    "# Specify Model\n",
    "iowa_model = DecisionTreeRegressor()\n",
    "# Fit Model\n",
    "iowa_model.fit(X, y)\n",
    "\n",
    "print(\"First in-sample predictions:\", iowa_model.predict(X.head()))\n",
    "print(\"Actual target values for those homes:\", y.head().tolist())\n",
    "\n",
    "# Set up code checking\n",
    "from learntools.core import binder\n",
    "binder.bind(globals())\n",
    "from learntools.machine_learning.ex4 import *\n",
    "print(\"Setup Complete\")"
   ]
  },
  {
   "cell_type": "markdown",
   "id": "e4935b20",
   "metadata": {
    "papermill": {
     "duration": 0.004721,
     "end_time": "2023-03-06T01:44:23.398679",
     "exception": false,
     "start_time": "2023-03-06T01:44:23.393958",
     "status": "completed"
    },
    "tags": []
   },
   "source": [
    "# Exercises\n",
    "\n",
    "## Step 1: Split Your Data\n",
    "Use the `train_test_split` function to split up your data.\n",
    "\n",
    "Give it the argument `random_state=1` so the `check` functions know what to expect when verifying your code.\n",
    "\n",
    "Recall, your features are loaded in the DataFrame **X** and your target is loaded in **y**.\n"
   ]
  },
  {
   "cell_type": "code",
   "execution_count": 2,
   "id": "742a8dfe",
   "metadata": {
    "execution": {
     "iopub.execute_input": "2023-03-06T01:44:23.411614Z",
     "iopub.status.busy": "2023-03-06T01:44:23.410054Z",
     "iopub.status.idle": "2023-03-06T01:44:23.428229Z",
     "shell.execute_reply": "2023-03-06T01:44:23.426878Z"
    },
    "papermill": {
     "duration": 0.027423,
     "end_time": "2023-03-06T01:44:23.431079",
     "exception": false,
     "start_time": "2023-03-06T01:44:23.403656",
     "status": "completed"
    },
    "tags": []
   },
   "outputs": [
    {
     "data": {
      "application/javascript": [
       "parent.postMessage({\"jupyterEvent\": \"custom.exercise_interaction\", \"data\": {\"outcomeType\": 1, \"valueTowardsCompletion\": 0.25, \"interactionType\": 1, \"questionType\": 2, \"questionId\": \"1_SplitData\", \"learnToolsVersion\": \"0.3.4\", \"failureMessage\": \"\", \"exceptionClass\": \"\", \"trace\": \"\"}}, \"*\")"
      ],
      "text/plain": [
       "<IPython.core.display.Javascript object>"
      ]
     },
     "metadata": {},
     "output_type": "display_data"
    },
    {
     "data": {
      "text/markdown": [
       "<span style=\"color:#33cc33\">Correct</span>"
      ],
      "text/plain": [
       "Correct"
      ]
     },
     "metadata": {},
     "output_type": "display_data"
    }
   ],
   "source": [
    "# Import the train_test_split function and uncomment\n",
    "from sklearn.model_selection import train_test_split\n",
    "\n",
    "# fill in and uncomment\n",
    "train_X, val_X, train_y, val_y = train_test_split(X, y, random_state=1)\n",
    "\n",
    "# Check your answer\n",
    "step_1.check()"
   ]
  },
  {
   "cell_type": "code",
   "execution_count": 3,
   "id": "4e68de45",
   "metadata": {
    "execution": {
     "iopub.execute_input": "2023-03-06T01:44:23.443407Z",
     "iopub.status.busy": "2023-03-06T01:44:23.442723Z",
     "iopub.status.idle": "2023-03-06T01:44:23.447628Z",
     "shell.execute_reply": "2023-03-06T01:44:23.446628Z"
    },
    "papermill": {
     "duration": 0.01411,
     "end_time": "2023-03-06T01:44:23.450164",
     "exception": false,
     "start_time": "2023-03-06T01:44:23.436054",
     "status": "completed"
    },
    "tags": []
   },
   "outputs": [],
   "source": [
    "# The lines below will show you a hint or the solution.\n",
    "# step_1.hint() \n",
    "# step_1.solution()\n"
   ]
  },
  {
   "cell_type": "markdown",
   "id": "2fe1eedd",
   "metadata": {
    "papermill": {
     "duration": 0.004561,
     "end_time": "2023-03-06T01:44:23.459702",
     "exception": false,
     "start_time": "2023-03-06T01:44:23.455141",
     "status": "completed"
    },
    "tags": []
   },
   "source": [
    "## Step 2: Specify and Fit the Model\n",
    "\n",
    "Create a `DecisionTreeRegressor` model and fit it to the relevant data.\n",
    "Set `random_state` to 1 again when creating the model."
   ]
  },
  {
   "cell_type": "code",
   "execution_count": 4,
   "id": "e09d7e28",
   "metadata": {
    "execution": {
     "iopub.execute_input": "2023-03-06T01:44:23.471574Z",
     "iopub.status.busy": "2023-03-06T01:44:23.470914Z",
     "iopub.status.idle": "2023-03-06T01:44:23.499268Z",
     "shell.execute_reply": "2023-03-06T01:44:23.497577Z"
    },
    "papermill": {
     "duration": 0.037359,
     "end_time": "2023-03-06T01:44:23.501869",
     "exception": false,
     "start_time": "2023-03-06T01:44:23.464510",
     "status": "completed"
    },
    "tags": []
   },
   "outputs": [
    {
     "name": "stdout",
     "output_type": "stream",
     "text": [
      "[186500. 184000. 130000.  92000. 164500. 220000. 335000. 144152. 215000.\n",
      " 262000.]\n",
      "[186500. 184000. 130000.  92000. 164500. 220000. 335000. 144152. 215000.\n",
      " 262000.]\n"
     ]
    },
    {
     "data": {
      "application/javascript": [
       "parent.postMessage({\"jupyterEvent\": \"custom.exercise_interaction\", \"data\": {\"outcomeType\": 1, \"valueTowardsCompletion\": 0.25, \"interactionType\": 1, \"questionType\": 2, \"questionId\": \"2_FitModelWithTrain\", \"learnToolsVersion\": \"0.3.4\", \"failureMessage\": \"\", \"exceptionClass\": \"\", \"trace\": \"\"}}, \"*\")"
      ],
      "text/plain": [
       "<IPython.core.display.Javascript object>"
      ]
     },
     "metadata": {},
     "output_type": "display_data"
    },
    {
     "data": {
      "text/markdown": [
       "<span style=\"color:#33cc33\">Correct</span>"
      ],
      "text/plain": [
       "Correct"
      ]
     },
     "metadata": {},
     "output_type": "display_data"
    }
   ],
   "source": [
    "# You imported DecisionTreeRegressor in your last exercise\n",
    "# and that code has been copied to the setup code above. So, no need to\n",
    "# import it again\n",
    "\n",
    "# Specify the model\n",
    "iowa_model = DecisionTreeRegressor(random_state=1)\n",
    "\n",
    "# Fit iowa_model with the training data.\n",
    "iowa_model.fit(train_X, train_y)\n",
    "\n",
    "# Check your answer\n",
    "step_2.check()"
   ]
  },
  {
   "cell_type": "code",
   "execution_count": 5,
   "id": "4cc4df9c",
   "metadata": {
    "execution": {
     "iopub.execute_input": "2023-03-06T01:44:23.514129Z",
     "iopub.status.busy": "2023-03-06T01:44:23.513699Z",
     "iopub.status.idle": "2023-03-06T01:44:23.518770Z",
     "shell.execute_reply": "2023-03-06T01:44:23.517437Z"
    },
    "papermill": {
     "duration": 0.014368,
     "end_time": "2023-03-06T01:44:23.521437",
     "exception": false,
     "start_time": "2023-03-06T01:44:23.507069",
     "status": "completed"
    },
    "tags": []
   },
   "outputs": [],
   "source": [
    "# step_2.hint()\n",
    "# step_2.solution()"
   ]
  },
  {
   "cell_type": "markdown",
   "id": "5bbd3ead",
   "metadata": {
    "papermill": {
     "duration": 0.004884,
     "end_time": "2023-03-06T01:44:23.531563",
     "exception": false,
     "start_time": "2023-03-06T01:44:23.526679",
     "status": "completed"
    },
    "tags": []
   },
   "source": [
    "## Step 3: Make Predictions with Validation data\n"
   ]
  },
  {
   "cell_type": "code",
   "execution_count": 6,
   "id": "e733387c",
   "metadata": {
    "execution": {
     "iopub.execute_input": "2023-03-06T01:44:23.544029Z",
     "iopub.status.busy": "2023-03-06T01:44:23.543569Z",
     "iopub.status.idle": "2023-03-06T01:44:23.556010Z",
     "shell.execute_reply": "2023-03-06T01:44:23.554749Z"
    },
    "papermill": {
     "duration": 0.021696,
     "end_time": "2023-03-06T01:44:23.558511",
     "exception": false,
     "start_time": "2023-03-06T01:44:23.536815",
     "status": "completed"
    },
    "tags": []
   },
   "outputs": [
    {
     "data": {
      "application/javascript": [
       "parent.postMessage({\"jupyterEvent\": \"custom.exercise_interaction\", \"data\": {\"outcomeType\": 1, \"valueTowardsCompletion\": 0.25, \"interactionType\": 1, \"questionType\": 2, \"questionId\": \"3_ValPreds\", \"learnToolsVersion\": \"0.3.4\", \"failureMessage\": \"\", \"exceptionClass\": \"\", \"trace\": \"\"}}, \"*\")"
      ],
      "text/plain": [
       "<IPython.core.display.Javascript object>"
      ]
     },
     "metadata": {},
     "output_type": "display_data"
    },
    {
     "data": {
      "text/markdown": [
       "<span style=\"color:#33cc33\">Correct</span>"
      ],
      "text/plain": [
       "Correct"
      ]
     },
     "metadata": {},
     "output_type": "display_data"
    }
   ],
   "source": [
    "# Predict with all validation observations\n",
    "val_predictions = iowa_model.predict(val_X)\n",
    "\n",
    "# Check your answer\n",
    "step_3.check()"
   ]
  },
  {
   "cell_type": "code",
   "execution_count": 7,
   "id": "b5e87b84",
   "metadata": {
    "execution": {
     "iopub.execute_input": "2023-03-06T01:44:23.571312Z",
     "iopub.status.busy": "2023-03-06T01:44:23.570822Z",
     "iopub.status.idle": "2023-03-06T01:44:23.576029Z",
     "shell.execute_reply": "2023-03-06T01:44:23.574690Z"
    },
    "papermill": {
     "duration": 0.014381,
     "end_time": "2023-03-06T01:44:23.578436",
     "exception": false,
     "start_time": "2023-03-06T01:44:23.564055",
     "status": "completed"
    },
    "tags": []
   },
   "outputs": [],
   "source": [
    "# step_3.hint()\n",
    "# step_3.solution()"
   ]
  },
  {
   "cell_type": "markdown",
   "id": "a0a2d3d6",
   "metadata": {
    "papermill": {
     "duration": 0.005035,
     "end_time": "2023-03-06T01:44:23.588983",
     "exception": false,
     "start_time": "2023-03-06T01:44:23.583948",
     "status": "completed"
    },
    "tags": []
   },
   "source": [
    "Inspect your predictions and actual values from validation data."
   ]
  },
  {
   "cell_type": "markdown",
   "id": "09efd0eb",
   "metadata": {
    "papermill": {
     "duration": 0.004968,
     "end_time": "2023-03-06T01:44:23.599277",
     "exception": false,
     "start_time": "2023-03-06T01:44:23.594309",
     "status": "completed"
    },
    "tags": []
   },
   "source": [
    "What do you notice that is different from what you saw with in-sample predictions (which are printed after the top code cell in this page).\n",
    "\n",
    "Do you remember why validation predictions differ from in-sample (or training) predictions? This is an important idea from the last lesson.\n",
    "\n",
    "## Step 4: Calculate the Mean Absolute Error in Validation Data\n"
   ]
  },
  {
   "cell_type": "code",
   "execution_count": 8,
   "id": "688bedaa",
   "metadata": {
    "execution": {
     "iopub.execute_input": "2023-03-06T01:44:23.611897Z",
     "iopub.status.busy": "2023-03-06T01:44:23.611364Z",
     "iopub.status.idle": "2023-03-06T01:44:23.623179Z",
     "shell.execute_reply": "2023-03-06T01:44:23.622197Z"
    },
    "papermill": {
     "duration": 0.020766,
     "end_time": "2023-03-06T01:44:23.625300",
     "exception": false,
     "start_time": "2023-03-06T01:44:23.604534",
     "status": "completed"
    },
    "tags": []
   },
   "outputs": [
    {
     "name": "stdout",
     "output_type": "stream",
     "text": [
      "29652.931506849316\n"
     ]
    },
    {
     "data": {
      "application/javascript": [
       "parent.postMessage({\"jupyterEvent\": \"custom.exercise_interaction\", \"data\": {\"outcomeType\": 1, \"valueTowardsCompletion\": 0.25, \"interactionType\": 1, \"questionType\": 1, \"questionId\": \"4_MAE\", \"learnToolsVersion\": \"0.3.4\", \"failureMessage\": \"\", \"exceptionClass\": \"\", \"trace\": \"\"}}, \"*\")"
      ],
      "text/plain": [
       "<IPython.core.display.Javascript object>"
      ]
     },
     "metadata": {},
     "output_type": "display_data"
    },
    {
     "data": {
      "text/markdown": [
       "<span style=\"color:#33cc33\">Correct</span>"
      ],
      "text/plain": [
       "Correct"
      ]
     },
     "metadata": {},
     "output_type": "display_data"
    }
   ],
   "source": [
    "from sklearn.metrics import mean_absolute_error\n",
    "val_mae = mean_absolute_error(val_y, val_predictions)\n",
    "\n",
    "print(val_mae)\n",
    "\n",
    "# Check your answer\n",
    "step_4.check()"
   ]
  },
  {
   "cell_type": "code",
   "execution_count": 9,
   "id": "5c499ab1",
   "metadata": {
    "execution": {
     "iopub.execute_input": "2023-03-06T01:44:23.638610Z",
     "iopub.status.busy": "2023-03-06T01:44:23.638165Z",
     "iopub.status.idle": "2023-03-06T01:44:23.643331Z",
     "shell.execute_reply": "2023-03-06T01:44:23.642073Z"
    },
    "papermill": {
     "duration": 0.014988,
     "end_time": "2023-03-06T01:44:23.646110",
     "exception": false,
     "start_time": "2023-03-06T01:44:23.631122",
     "status": "completed"
    },
    "tags": []
   },
   "outputs": [],
   "source": [
    "# step_4.hint()\n",
    "# step_4.solution()"
   ]
  },
  {
   "cell_type": "markdown",
   "id": "de09c436",
   "metadata": {
    "papermill": {
     "duration": 0.005474,
     "end_time": "2023-03-06T01:44:23.657460",
     "exception": false,
     "start_time": "2023-03-06T01:44:23.651986",
     "status": "completed"
    },
    "tags": []
   },
   "source": [
    "Is that MAE good?  There isn't a general rule for what values are good that applies across applications. But you'll see how to use (and improve) this number in the next step.\n",
    "\n",
    "# Keep Going\n",
    "\n",
    "You are ready for **[Underfitting and Overfitting](https://www.kaggle.com/dansbecker/underfitting-and-overfitting).**\n"
   ]
  },
  {
   "cell_type": "markdown",
   "id": "0f53acf9",
   "metadata": {
    "papermill": {
     "duration": 0.005453,
     "end_time": "2023-03-06T01:44:23.668702",
     "exception": false,
     "start_time": "2023-03-06T01:44:23.663249",
     "status": "completed"
    },
    "tags": []
   },
   "source": [
    "---\n",
    "\n",
    "\n",
    "\n",
    "\n",
    "*Have questions or comments? Visit the [course discussion forum](https://www.kaggle.com/learn/intro-to-machine-learning/discussion) to chat with other learners.*"
   ]
  }
 ],
 "metadata": {
  "kernelspec": {
   "display_name": "Python 3",
   "language": "python",
   "name": "python3"
  },
  "language_info": {
   "codemirror_mode": {
    "name": "ipython",
    "version": 3
   },
   "file_extension": ".py",
   "mimetype": "text/x-python",
   "name": "python",
   "nbconvert_exporter": "python",
   "pygments_lexer": "ipython3",
   "version": "3.7.12"
  },
  "papermill": {
   "default_parameters": {},
   "duration": 13.867159,
   "end_time": "2023-03-06T01:44:24.498197",
   "environment_variables": {},
   "exception": null,
   "input_path": "__notebook__.ipynb",
   "output_path": "__notebook__.ipynb",
   "parameters": {},
   "start_time": "2023-03-06T01:44:10.631038",
   "version": "2.4.0"
  }
 },
 "nbformat": 4,
 "nbformat_minor": 5
}
